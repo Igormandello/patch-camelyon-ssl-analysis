{
 "cells": [
  {
   "cell_type": "code",
   "execution_count": 1,
   "metadata": {},
   "outputs": [],
   "source": [
    "%load_ext autoreload\n",
    "%autoreload 2"
   ]
  },
  {
   "cell_type": "code",
   "execution_count": 2,
   "metadata": {},
   "outputs": [],
   "source": [
    "import matplotlib.pyplot as plt\n",
    "import numpy as np\n",
    "import glob\n",
    "from pcam.utils import parse_supervised_metrics, parse_eval_metrics\n",
    "from collections import defaultdict"
   ]
  },
  {
   "cell_type": "code",
   "execution_count": 3,
   "metadata": {},
   "outputs": [],
   "source": [
    "\n",
    "def parse_metrics_file(glob_str: str, parse_function):\n",
    "  metrics_files = sorted(glob.glob(glob_str))\n",
    "  stats = defaultdict(dict)\n",
    "  for i, f in enumerate(metrics_files):\n",
    "      filename_info = f.split(\"/\")\n",
    "      basename = filename_info[3] + \"-\" + filename_info[4]+ \"-\" + filename_info[5]\n",
    "      version = filename_info[6]+ \"-\" + filename_info[7]\n",
    "      stats[basename][version] = parse_function(f)\n",
    "\n",
    "  sorted_list = []\n",
    "  for basename, values in stats.items():\n",
    "      maxv = 0\n",
    "      for version, metrics in values.items():\n",
    "          val_stats = metrics[\"val_accuracy\"]\n",
    "          if val_stats[-1][2] > maxv: maxv = val_stats[-1][2]\n",
    "      sorted_list.append((maxv, basename))\n",
    "\n",
    "  sorted_list = [basename for v, basename in sorted(sorted_list, reverse=True)]\n",
    "  return stats, sorted_list"
   ]
  },
  {
   "cell_type": "code",
   "execution_count": 4,
   "metadata": {},
   "outputs": [],
   "source": [
    "def calculate_average(model, stats):\n",
    "  test_accuracies = [x[\"test_accuracy\"][0][2] for x in stats[model].values()]\n",
    "  return np.mean(test_accuracies), np.std(test_accuracies)"
   ]
  },
  {
   "cell_type": "code",
   "execution_count": 5,
   "metadata": {},
   "outputs": [],
   "source": [
    "supervised_stats, supervised_list = parse_metrics_file(\"logs/PCam/Downstream/*/*/*_steps/v_*/*/metrics.csv\", parse_supervised_metrics)"
   ]
  },
  {
   "cell_type": "code",
   "execution_count": 6,
   "metadata": {},
   "outputs": [
    {
     "data": {
      "application/vnd.plotly.v1+json": {
       "config": {
        "plotlyServerURL": "https://plot.ly"
       },
       "data": [
        {
         "legendgroup": "Pretrained_ImageNet-aug-128000_spc-15000_steps_v_0-version_1",
         "line": {
          "color": "blue"
         },
         "mode": "lines",
         "name": "Val: v_0-version_1",
         "showlegend": true,
         "type": "scatter",
         "x": [
          499,
          999,
          1499,
          1999,
          2499,
          2999,
          3499,
          3999,
          4499,
          4999,
          5499,
          5999,
          6499,
          6999,
          7499,
          7999,
          8499,
          8999,
          9499,
          9999,
          10499,
          10999,
          11499,
          11999,
          12499,
          12999,
          13499,
          13999,
          14499,
          14999
         ],
         "xaxis": "x",
         "y": [
          0.821990966796875,
          0.823333740234375,
          0.829681396484375,
          0.815521240234375,
          0.823455810546875,
          0.82830810546875,
          0.81317138671875,
          0.82305908203125,
          0.820343017578125,
          0.8204345703125,
          0.8167724609375,
          0.820709228515625,
          0.8209228515625,
          0.8189697265625,
          0.8182373046875,
          0.82086181640625,
          0.82110595703125,
          0.818206787109375,
          0.819366455078125,
          0.8177490234375,
          0.8204345703125,
          0.81903076171875,
          0.818695068359375,
          0.821197509765625,
          0.821319580078125,
          0.817901611328125,
          0.81927490234375,
          0.818572998046875,
          0.819854736328125,
          0.821380615234375
         ],
         "yaxis": "y"
        },
        {
         "legendgroup": "Pretrained_ImageNet-aug-128000_spc-15000_steps_v_0-version_1",
         "line": {
          "color": "blue",
          "dash": "dash"
         },
         "mode": "lines",
         "name": "Test: v_0-version_1",
         "showlegend": true,
         "type": "scatter",
         "x": [
          499,
          14999
         ],
         "xaxis": "x",
         "y": [
          0.81298828125,
          0.81298828125
         ],
         "yaxis": "y"
        },
        {
         "legendgroup": "Pretrained_ImageNet-aug-128000_spc-15000_steps_v_0-version_5",
         "line": {
          "color": "green"
         },
         "mode": "lines",
         "name": "Val: v_0-version_5",
         "showlegend": true,
         "type": "scatter",
         "x": [
          499,
          999,
          1499,
          1999,
          2499,
          2999,
          3499,
          3999,
          4499,
          4999,
          5499,
          5999,
          6499,
          6999,
          7499,
          7999,
          8499,
          8999,
          9499,
          9999,
          10499,
          10999,
          11499,
          11999,
          12499,
          12999,
          13499,
          13999,
          14499,
          14999
         ],
         "xaxis": "x",
         "y": [
          0.8037109375,
          0.83807373046875,
          0.81884765625,
          0.8157958984375,
          0.824188232421875,
          0.827972412109375,
          0.81707763671875,
          0.820220947265625,
          0.82147216796875,
          0.819580078125,
          0.818939208984375,
          0.817596435546875,
          0.817596435546875,
          0.817718505859375,
          0.81817626953125,
          0.81658935546875,
          0.81964111328125,
          0.816986083984375,
          0.819580078125,
          0.81884765625,
          0.817413330078125,
          0.81884765625,
          0.8154296875,
          0.8194580078125,
          0.817474365234375,
          0.818511962890625,
          0.8172607421875,
          0.81829833984375,
          0.817413330078125,
          0.816436767578125
         ],
         "yaxis": "y"
        },
        {
         "legendgroup": "Pretrained_ImageNet-aug-128000_spc-15000_steps_v_0-version_5",
         "line": {
          "color": "green",
          "dash": "dash"
         },
         "mode": "lines",
         "name": "Test: v_0-version_5",
         "showlegend": true,
         "type": "scatter",
         "x": [
          499,
          14999
         ],
         "xaxis": "x",
         "y": [
          0.833038330078125,
          0.833038330078125
         ],
         "yaxis": "y"
        },
        {
         "legendgroup": "Pretrained_ImageNet-aug-51200_spc-2000_steps_v_0-version_1",
         "line": {
          "color": "blue"
         },
         "mode": "lines",
         "name": "Val: v_0-version_1",
         "showlegend": false,
         "type": "scatter",
         "x": [
          199,
          399,
          599,
          799,
          999,
          1199,
          1399,
          1599,
          1799,
          1999
         ],
         "xaxis": "x2",
         "y": [
          0.8281333446502686,
          0.8258666396141052,
          0.8244666457176208,
          0.8172666430473328,
          0.8143333196640015,
          0.8060666918754578,
          0.8320666551589966,
          0.8237333297729492,
          0.8244666457176208,
          0.8236666917800903
         ],
         "yaxis": "y2"
        },
        {
         "legendgroup": "Pretrained_ImageNet-aug-51200_spc-2000_steps_v_0-version_1",
         "line": {
          "color": "blue",
          "dash": "dash"
         },
         "mode": "lines",
         "name": "Test: v_0-version_1",
         "showlegend": false,
         "type": "scatter",
         "x": [
          199,
          1999
         ],
         "xaxis": "x2",
         "y": [
          0.811553955078125,
          0.811553955078125
         ],
         "yaxis": "y2"
        },
        {
         "legendgroup": "Pretrained_ImageNet-aug-51200_spc-2000_steps_v_1-version_1",
         "line": {
          "color": "green"
         },
         "mode": "lines",
         "name": "Val: v_1-version_1",
         "showlegend": false,
         "type": "scatter",
         "x": [
          199,
          399,
          599,
          799,
          999,
          1199,
          1399,
          1599,
          1799,
          1999
         ],
         "xaxis": "x2",
         "y": [
          0.7959333062171936,
          0.8129333257675171,
          0.8248666524887085,
          0.8280666470527649,
          0.7914000153541565,
          0.7973999977111816,
          0.8116000294685364,
          0.8079333305358887,
          0.8080666661262512,
          0.8112000226974487
         ],
         "yaxis": "y2"
        },
        {
         "legendgroup": "Pretrained_ImageNet-aug-51200_spc-2000_steps_v_1-version_1",
         "line": {
          "color": "green",
          "dash": "dash"
         },
         "mode": "lines",
         "name": "Test: v_1-version_1",
         "showlegend": false,
         "type": "scatter",
         "x": [
          199,
          1999
         ],
         "xaxis": "x2",
         "y": [
          0.74609375,
          0.74609375
         ],
         "yaxis": "y2"
        },
        {
         "legendgroup": "Pretrained_ImageNet-aug-51200_spc-2000_steps_v_2-version_1",
         "line": {
          "color": "red"
         },
         "mode": "lines",
         "name": "Val: v_2-version_1",
         "showlegend": false,
         "type": "scatter",
         "x": [
          199,
          399,
          599,
          799,
          999,
          1199,
          1399,
          1599,
          1799,
          1999
         ],
         "xaxis": "x2",
         "y": [
          0.819266676902771,
          0.8235999941825867,
          0.8169999718666077,
          0.7828666567802429,
          0.8041333556175232,
          0.7888666391372681,
          0.8153333067893982,
          0.8071333169937134,
          0.8019333481788635,
          0.8058000206947327
         ],
         "yaxis": "y2"
        },
        {
         "legendgroup": "Pretrained_ImageNet-aug-51200_spc-2000_steps_v_2-version_1",
         "line": {
          "color": "red",
          "dash": "dash"
         },
         "mode": "lines",
         "name": "Test: v_2-version_1",
         "showlegend": false,
         "type": "scatter",
         "x": [
          199,
          1999
         ],
         "xaxis": "x2",
         "y": [
          0.778717041015625,
          0.778717041015625
         ],
         "yaxis": "y2"
        }
       ],
       "layout": {
        "annotations": [
         {
          "font": {
           "size": 12
          },
          "showarrow": false,
          "text": "Pretrained_ImageNet-aug-128000_spc-15000_steps",
          "x": 0.225,
          "xanchor": "center",
          "xref": "paper",
          "y": 1,
          "yanchor": "bottom",
          "yref": "paper"
         },
         {
          "font": {
           "size": 12
          },
          "showarrow": false,
          "text": "Pretrained_ImageNet-aug-51200_spc-2000_steps",
          "x": 0.775,
          "xanchor": "center",
          "xref": "paper",
          "y": 1,
          "yanchor": "bottom",
          "yref": "paper"
         }
        ],
        "font": {
         "size": 10
        },
        "height": 400,
        "template": {
         "data": {
          "bar": [
           {
            "error_x": {
             "color": "#2a3f5f"
            },
            "error_y": {
             "color": "#2a3f5f"
            },
            "marker": {
             "line": {
              "color": "#E5ECF6",
              "width": 0.5
             },
             "pattern": {
              "fillmode": "overlay",
              "size": 10,
              "solidity": 0.2
             }
            },
            "type": "bar"
           }
          ],
          "barpolar": [
           {
            "marker": {
             "line": {
              "color": "#E5ECF6",
              "width": 0.5
             },
             "pattern": {
              "fillmode": "overlay",
              "size": 10,
              "solidity": 0.2
             }
            },
            "type": "barpolar"
           }
          ],
          "carpet": [
           {
            "aaxis": {
             "endlinecolor": "#2a3f5f",
             "gridcolor": "white",
             "linecolor": "white",
             "minorgridcolor": "white",
             "startlinecolor": "#2a3f5f"
            },
            "baxis": {
             "endlinecolor": "#2a3f5f",
             "gridcolor": "white",
             "linecolor": "white",
             "minorgridcolor": "white",
             "startlinecolor": "#2a3f5f"
            },
            "type": "carpet"
           }
          ],
          "choropleth": [
           {
            "colorbar": {
             "outlinewidth": 0,
             "ticks": ""
            },
            "type": "choropleth"
           }
          ],
          "contour": [
           {
            "colorbar": {
             "outlinewidth": 0,
             "ticks": ""
            },
            "colorscale": [
             [
              0,
              "#0d0887"
             ],
             [
              0.1111111111111111,
              "#46039f"
             ],
             [
              0.2222222222222222,
              "#7201a8"
             ],
             [
              0.3333333333333333,
              "#9c179e"
             ],
             [
              0.4444444444444444,
              "#bd3786"
             ],
             [
              0.5555555555555556,
              "#d8576b"
             ],
             [
              0.6666666666666666,
              "#ed7953"
             ],
             [
              0.7777777777777778,
              "#fb9f3a"
             ],
             [
              0.8888888888888888,
              "#fdca26"
             ],
             [
              1,
              "#f0f921"
             ]
            ],
            "type": "contour"
           }
          ],
          "contourcarpet": [
           {
            "colorbar": {
             "outlinewidth": 0,
             "ticks": ""
            },
            "type": "contourcarpet"
           }
          ],
          "heatmap": [
           {
            "colorbar": {
             "outlinewidth": 0,
             "ticks": ""
            },
            "colorscale": [
             [
              0,
              "#0d0887"
             ],
             [
              0.1111111111111111,
              "#46039f"
             ],
             [
              0.2222222222222222,
              "#7201a8"
             ],
             [
              0.3333333333333333,
              "#9c179e"
             ],
             [
              0.4444444444444444,
              "#bd3786"
             ],
             [
              0.5555555555555556,
              "#d8576b"
             ],
             [
              0.6666666666666666,
              "#ed7953"
             ],
             [
              0.7777777777777778,
              "#fb9f3a"
             ],
             [
              0.8888888888888888,
              "#fdca26"
             ],
             [
              1,
              "#f0f921"
             ]
            ],
            "type": "heatmap"
           }
          ],
          "histogram": [
           {
            "marker": {
             "pattern": {
              "fillmode": "overlay",
              "size": 10,
              "solidity": 0.2
             }
            },
            "type": "histogram"
           }
          ],
          "histogram2d": [
           {
            "colorbar": {
             "outlinewidth": 0,
             "ticks": ""
            },
            "colorscale": [
             [
              0,
              "#0d0887"
             ],
             [
              0.1111111111111111,
              "#46039f"
             ],
             [
              0.2222222222222222,
              "#7201a8"
             ],
             [
              0.3333333333333333,
              "#9c179e"
             ],
             [
              0.4444444444444444,
              "#bd3786"
             ],
             [
              0.5555555555555556,
              "#d8576b"
             ],
             [
              0.6666666666666666,
              "#ed7953"
             ],
             [
              0.7777777777777778,
              "#fb9f3a"
             ],
             [
              0.8888888888888888,
              "#fdca26"
             ],
             [
              1,
              "#f0f921"
             ]
            ],
            "type": "histogram2d"
           }
          ],
          "histogram2dcontour": [
           {
            "colorbar": {
             "outlinewidth": 0,
             "ticks": ""
            },
            "colorscale": [
             [
              0,
              "#0d0887"
             ],
             [
              0.1111111111111111,
              "#46039f"
             ],
             [
              0.2222222222222222,
              "#7201a8"
             ],
             [
              0.3333333333333333,
              "#9c179e"
             ],
             [
              0.4444444444444444,
              "#bd3786"
             ],
             [
              0.5555555555555556,
              "#d8576b"
             ],
             [
              0.6666666666666666,
              "#ed7953"
             ],
             [
              0.7777777777777778,
              "#fb9f3a"
             ],
             [
              0.8888888888888888,
              "#fdca26"
             ],
             [
              1,
              "#f0f921"
             ]
            ],
            "type": "histogram2dcontour"
           }
          ],
          "mesh3d": [
           {
            "colorbar": {
             "outlinewidth": 0,
             "ticks": ""
            },
            "type": "mesh3d"
           }
          ],
          "parcoords": [
           {
            "line": {
             "colorbar": {
              "outlinewidth": 0,
              "ticks": ""
             }
            },
            "type": "parcoords"
           }
          ],
          "pie": [
           {
            "automargin": true,
            "type": "pie"
           }
          ],
          "scatter": [
           {
            "fillpattern": {
             "fillmode": "overlay",
             "size": 10,
             "solidity": 0.2
            },
            "type": "scatter"
           }
          ],
          "scatter3d": [
           {
            "line": {
             "colorbar": {
              "outlinewidth": 0,
              "ticks": ""
             }
            },
            "marker": {
             "colorbar": {
              "outlinewidth": 0,
              "ticks": ""
             }
            },
            "type": "scatter3d"
           }
          ],
          "scattercarpet": [
           {
            "marker": {
             "colorbar": {
              "outlinewidth": 0,
              "ticks": ""
             }
            },
            "type": "scattercarpet"
           }
          ],
          "scattergeo": [
           {
            "marker": {
             "colorbar": {
              "outlinewidth": 0,
              "ticks": ""
             }
            },
            "type": "scattergeo"
           }
          ],
          "scattergl": [
           {
            "marker": {
             "colorbar": {
              "outlinewidth": 0,
              "ticks": ""
             }
            },
            "type": "scattergl"
           }
          ],
          "scattermap": [
           {
            "marker": {
             "colorbar": {
              "outlinewidth": 0,
              "ticks": ""
             }
            },
            "type": "scattermap"
           }
          ],
          "scattermapbox": [
           {
            "marker": {
             "colorbar": {
              "outlinewidth": 0,
              "ticks": ""
             }
            },
            "type": "scattermapbox"
           }
          ],
          "scatterpolar": [
           {
            "marker": {
             "colorbar": {
              "outlinewidth": 0,
              "ticks": ""
             }
            },
            "type": "scatterpolar"
           }
          ],
          "scatterpolargl": [
           {
            "marker": {
             "colorbar": {
              "outlinewidth": 0,
              "ticks": ""
             }
            },
            "type": "scatterpolargl"
           }
          ],
          "scatterternary": [
           {
            "marker": {
             "colorbar": {
              "outlinewidth": 0,
              "ticks": ""
             }
            },
            "type": "scatterternary"
           }
          ],
          "surface": [
           {
            "colorbar": {
             "outlinewidth": 0,
             "ticks": ""
            },
            "colorscale": [
             [
              0,
              "#0d0887"
             ],
             [
              0.1111111111111111,
              "#46039f"
             ],
             [
              0.2222222222222222,
              "#7201a8"
             ],
             [
              0.3333333333333333,
              "#9c179e"
             ],
             [
              0.4444444444444444,
              "#bd3786"
             ],
             [
              0.5555555555555556,
              "#d8576b"
             ],
             [
              0.6666666666666666,
              "#ed7953"
             ],
             [
              0.7777777777777778,
              "#fb9f3a"
             ],
             [
              0.8888888888888888,
              "#fdca26"
             ],
             [
              1,
              "#f0f921"
             ]
            ],
            "type": "surface"
           }
          ],
          "table": [
           {
            "cells": {
             "fill": {
              "color": "#EBF0F8"
             },
             "line": {
              "color": "white"
             }
            },
            "header": {
             "fill": {
              "color": "#C8D4E3"
             },
             "line": {
              "color": "white"
             }
            },
            "type": "table"
           }
          ]
         },
         "layout": {
          "annotationdefaults": {
           "arrowcolor": "#2a3f5f",
           "arrowhead": 0,
           "arrowwidth": 1
          },
          "autotypenumbers": "strict",
          "coloraxis": {
           "colorbar": {
            "outlinewidth": 0,
            "ticks": ""
           }
          },
          "colorscale": {
           "diverging": [
            [
             0,
             "#8e0152"
            ],
            [
             0.1,
             "#c51b7d"
            ],
            [
             0.2,
             "#de77ae"
            ],
            [
             0.3,
             "#f1b6da"
            ],
            [
             0.4,
             "#fde0ef"
            ],
            [
             0.5,
             "#f7f7f7"
            ],
            [
             0.6,
             "#e6f5d0"
            ],
            [
             0.7,
             "#b8e186"
            ],
            [
             0.8,
             "#7fbc41"
            ],
            [
             0.9,
             "#4d9221"
            ],
            [
             1,
             "#276419"
            ]
           ],
           "sequential": [
            [
             0,
             "#0d0887"
            ],
            [
             0.1111111111111111,
             "#46039f"
            ],
            [
             0.2222222222222222,
             "#7201a8"
            ],
            [
             0.3333333333333333,
             "#9c179e"
            ],
            [
             0.4444444444444444,
             "#bd3786"
            ],
            [
             0.5555555555555556,
             "#d8576b"
            ],
            [
             0.6666666666666666,
             "#ed7953"
            ],
            [
             0.7777777777777778,
             "#fb9f3a"
            ],
            [
             0.8888888888888888,
             "#fdca26"
            ],
            [
             1,
             "#f0f921"
            ]
           ],
           "sequentialminus": [
            [
             0,
             "#0d0887"
            ],
            [
             0.1111111111111111,
             "#46039f"
            ],
            [
             0.2222222222222222,
             "#7201a8"
            ],
            [
             0.3333333333333333,
             "#9c179e"
            ],
            [
             0.4444444444444444,
             "#bd3786"
            ],
            [
             0.5555555555555556,
             "#d8576b"
            ],
            [
             0.6666666666666666,
             "#ed7953"
            ],
            [
             0.7777777777777778,
             "#fb9f3a"
            ],
            [
             0.8888888888888888,
             "#fdca26"
            ],
            [
             1,
             "#f0f921"
            ]
           ]
          },
          "colorway": [
           "#636efa",
           "#EF553B",
           "#00cc96",
           "#ab63fa",
           "#FFA15A",
           "#19d3f3",
           "#FF6692",
           "#B6E880",
           "#FF97FF",
           "#FECB52"
          ],
          "font": {
           "color": "#2a3f5f"
          },
          "geo": {
           "bgcolor": "white",
           "lakecolor": "white",
           "landcolor": "#E5ECF6",
           "showlakes": true,
           "showland": true,
           "subunitcolor": "white"
          },
          "hoverlabel": {
           "align": "left"
          },
          "hovermode": "closest",
          "mapbox": {
           "style": "light"
          },
          "paper_bgcolor": "white",
          "plot_bgcolor": "#E5ECF6",
          "polar": {
           "angularaxis": {
            "gridcolor": "white",
            "linecolor": "white",
            "ticks": ""
           },
           "bgcolor": "#E5ECF6",
           "radialaxis": {
            "gridcolor": "white",
            "linecolor": "white",
            "ticks": ""
           }
          },
          "scene": {
           "xaxis": {
            "backgroundcolor": "#E5ECF6",
            "gridcolor": "white",
            "gridwidth": 2,
            "linecolor": "white",
            "showbackground": true,
            "ticks": "",
            "zerolinecolor": "white"
           },
           "yaxis": {
            "backgroundcolor": "#E5ECF6",
            "gridcolor": "white",
            "gridwidth": 2,
            "linecolor": "white",
            "showbackground": true,
            "ticks": "",
            "zerolinecolor": "white"
           },
           "zaxis": {
            "backgroundcolor": "#E5ECF6",
            "gridcolor": "white",
            "gridwidth": 2,
            "linecolor": "white",
            "showbackground": true,
            "ticks": "",
            "zerolinecolor": "white"
           }
          },
          "shapedefaults": {
           "line": {
            "color": "#2a3f5f"
           }
          },
          "ternary": {
           "aaxis": {
            "gridcolor": "white",
            "linecolor": "white",
            "ticks": ""
           },
           "baxis": {
            "gridcolor": "white",
            "linecolor": "white",
            "ticks": ""
           },
           "bgcolor": "#E5ECF6",
           "caxis": {
            "gridcolor": "white",
            "linecolor": "white",
            "ticks": ""
           }
          },
          "title": {
           "x": 0.05
          },
          "xaxis": {
           "automargin": true,
           "gridcolor": "white",
           "linecolor": "white",
           "ticks": "",
           "title": {
            "standoff": 15
           },
           "zerolinecolor": "white",
           "zerolinewidth": 2
          },
          "yaxis": {
           "automargin": true,
           "gridcolor": "white",
           "linecolor": "white",
           "ticks": "",
           "title": {
            "standoff": 15
           },
           "zerolinecolor": "white",
           "zerolinewidth": 2
          }
         }
        },
        "width": 800,
        "xaxis": {
         "anchor": "y",
         "domain": [
          0,
          0.45
         ],
         "title": {
          "text": "Steps"
         }
        },
        "xaxis2": {
         "anchor": "y2",
         "domain": [
          0.55,
          1
         ],
         "title": {
          "text": "Steps"
         }
        },
        "yaxis": {
         "anchor": "x",
         "domain": [
          0,
          1
         ],
         "title": {
          "text": "Accuracy"
         }
        },
        "yaxis2": {
         "anchor": "x2",
         "domain": [
          0,
          1
         ],
         "matches": "y",
         "showticklabels": false
        }
       }
      }
     },
     "metadata": {},
     "output_type": "display_data"
    },
    {
     "data": {
      "application/vnd.plotly.v1+json": {
       "config": {
        "plotlyServerURL": "https://plot.ly"
       },
       "data": [
        {
         "legendgroup": "Pretrained_ImageNet-aug-51200_spc-2000_steps_v_0-version_1",
         "line": {
          "color": "blue"
         },
         "mode": "lines",
         "name": "Val: v_0-version_1",
         "showlegend": true,
         "type": "scatter",
         "x": [
          199,
          399,
          599,
          799,
          999,
          1199,
          1399,
          1599,
          1799,
          1999
         ],
         "xaxis": "x",
         "y": [
          0.8281333446502686,
          0.8258666396141052,
          0.8244666457176208,
          0.8172666430473328,
          0.8143333196640015,
          0.8060666918754578,
          0.8320666551589966,
          0.8237333297729492,
          0.8244666457176208,
          0.8236666917800903
         ],
         "yaxis": "y"
        },
        {
         "legendgroup": "Pretrained_ImageNet-aug-51200_spc-2000_steps_v_0-version_1",
         "line": {
          "color": "blue",
          "dash": "dash"
         },
         "mode": "lines",
         "name": "Test: v_0-version_1",
         "showlegend": true,
         "type": "scatter",
         "x": [
          199,
          1999
         ],
         "xaxis": "x",
         "y": [
          0.811553955078125,
          0.811553955078125
         ],
         "yaxis": "y"
        },
        {
         "legendgroup": "Pretrained_ImageNet-aug-51200_spc-2000_steps_v_1-version_1",
         "line": {
          "color": "green"
         },
         "mode": "lines",
         "name": "Val: v_1-version_1",
         "showlegend": true,
         "type": "scatter",
         "x": [
          199,
          399,
          599,
          799,
          999,
          1199,
          1399,
          1599,
          1799,
          1999
         ],
         "xaxis": "x",
         "y": [
          0.7959333062171936,
          0.8129333257675171,
          0.8248666524887085,
          0.8280666470527649,
          0.7914000153541565,
          0.7973999977111816,
          0.8116000294685364,
          0.8079333305358887,
          0.8080666661262512,
          0.8112000226974487
         ],
         "yaxis": "y"
        },
        {
         "legendgroup": "Pretrained_ImageNet-aug-51200_spc-2000_steps_v_1-version_1",
         "line": {
          "color": "green",
          "dash": "dash"
         },
         "mode": "lines",
         "name": "Test: v_1-version_1",
         "showlegend": true,
         "type": "scatter",
         "x": [
          199,
          1999
         ],
         "xaxis": "x",
         "y": [
          0.74609375,
          0.74609375
         ],
         "yaxis": "y"
        },
        {
         "legendgroup": "Pretrained_ImageNet-aug-51200_spc-2000_steps_v_2-version_1",
         "line": {
          "color": "red"
         },
         "mode": "lines",
         "name": "Val: v_2-version_1",
         "showlegend": true,
         "type": "scatter",
         "x": [
          199,
          399,
          599,
          799,
          999,
          1199,
          1399,
          1599,
          1799,
          1999
         ],
         "xaxis": "x",
         "y": [
          0.819266676902771,
          0.8235999941825867,
          0.8169999718666077,
          0.7828666567802429,
          0.8041333556175232,
          0.7888666391372681,
          0.8153333067893982,
          0.8071333169937134,
          0.8019333481788635,
          0.8058000206947327
         ],
         "yaxis": "y"
        },
        {
         "legendgroup": "Pretrained_ImageNet-aug-51200_spc-2000_steps_v_2-version_1",
         "line": {
          "color": "red",
          "dash": "dash"
         },
         "mode": "lines",
         "name": "Test: v_2-version_1",
         "showlegend": true,
         "type": "scatter",
         "x": [
          199,
          1999
         ],
         "xaxis": "x",
         "y": [
          0.778717041015625,
          0.778717041015625
         ],
         "yaxis": "y"
        },
        {
         "legendgroup": "Pretrained_ImageNet-aug-25600_spc-2000_steps_v_0-version_1",
         "line": {
          "color": "blue"
         },
         "mode": "lines",
         "name": "Val: v_0-version_1",
         "showlegend": false,
         "type": "scatter",
         "x": [
          99,
          199,
          299,
          399,
          499,
          599,
          699,
          799,
          899,
          999,
          1099,
          1199,
          1299,
          1399,
          1499,
          1599,
          1699,
          1799,
          1899,
          1999
         ],
         "xaxis": "x2",
         "y": [
          0.817799985408783,
          0.8060666918754578,
          0.7899333238601685,
          0.8080666661262512,
          0.8290666937828064,
          0.8353333473205566,
          0.8183333277702332,
          0.8136666417121887,
          0.8271999955177307,
          0.8080666661262512,
          0.8209999799728394,
          0.8190666437149048,
          0.817466676235199,
          0.8187999725341797,
          0.8209333419799805,
          0.8212666511535645,
          0.8183333277702332,
          0.8172666430473328,
          0.8177333474159241,
          0.8179333209991455
         ],
         "yaxis": "y2"
        },
        {
         "legendgroup": "Pretrained_ImageNet-aug-25600_spc-2000_steps_v_0-version_1",
         "line": {
          "color": "blue",
          "dash": "dash"
         },
         "mode": "lines",
         "name": "Test: v_0-version_1",
         "showlegend": false,
         "type": "scatter",
         "x": [
          99,
          1999
         ],
         "xaxis": "x2",
         "y": [
          0.798248291015625,
          0.798248291015625
         ],
         "yaxis": "y2"
        },
        {
         "legendgroup": "Pretrained_ImageNet-aug-25600_spc-2000_steps_v_1-version_1",
         "line": {
          "color": "green"
         },
         "mode": "lines",
         "name": "Val: v_1-version_1",
         "showlegend": false,
         "type": "scatter",
         "x": [
          99,
          199,
          299,
          399,
          499,
          599,
          699,
          799,
          899,
          999,
          1099,
          1199,
          1299,
          1399,
          1499,
          1599,
          1699,
          1799,
          1899,
          1999
         ],
         "xaxis": "x2",
         "y": [
          0.8205333352088928,
          0.8026000261306763,
          0.8138666749000549,
          0.7271999716758728,
          0.8004000186920166,
          0.8158666491508484,
          0.8050666451454163,
          0.8180666565895081,
          0.8077999949455261,
          0.8085333108901978,
          0.8037333488464355,
          0.8068666458129883,
          0.8066666722297668,
          0.8066666722297668,
          0.8094000220298767,
          0.8082666397094727,
          0.8074666857719421,
          0.8082666397094727,
          0.8083999752998352,
          0.8062666654586792
         ],
         "yaxis": "y2"
        },
        {
         "legendgroup": "Pretrained_ImageNet-aug-25600_spc-2000_steps_v_1-version_1",
         "line": {
          "color": "green",
          "dash": "dash"
         },
         "mode": "lines",
         "name": "Test: v_1-version_1",
         "showlegend": false,
         "type": "scatter",
         "x": [
          99,
          1999
         ],
         "xaxis": "x2",
         "y": [
          0.795654296875,
          0.795654296875
         ],
         "yaxis": "y2"
        },
        {
         "legendgroup": "Pretrained_ImageNet-aug-25600_spc-2000_steps_v_2-version_1",
         "line": {
          "color": "red"
         },
         "mode": "lines",
         "name": "Val: v_2-version_1",
         "showlegend": false,
         "type": "scatter",
         "x": [
          99,
          199,
          299,
          399,
          499,
          599,
          699,
          799,
          899,
          999,
          1099,
          1199,
          1299,
          1399,
          1499,
          1599,
          1699,
          1799,
          1899,
          1999
         ],
         "xaxis": "x2",
         "y": [
          0.762066662311554,
          0.8280666470527649,
          0.7791333198547363,
          0.7453333139419556,
          0.8051999807357788,
          0.805400013923645,
          0.8003333210945129,
          0.8022000193595886,
          0.8044000267982483,
          0.8000666499137878,
          0.8022000193595886,
          0.8011333346366882,
          0.8019999861717224,
          0.8017333149909973,
          0.8025333285331726,
          0.8023333549499512,
          0.8014000058174133,
          0.7999333143234253,
          0.8015333414077759,
          0.8014000058174133
         ],
         "yaxis": "y2"
        },
        {
         "legendgroup": "Pretrained_ImageNet-aug-25600_spc-2000_steps_v_2-version_1",
         "line": {
          "color": "red",
          "dash": "dash"
         },
         "mode": "lines",
         "name": "Test: v_2-version_1",
         "showlegend": false,
         "type": "scatter",
         "x": [
          99,
          1999
         ],
         "xaxis": "x2",
         "y": [
          0.81085205078125,
          0.81085205078125
         ],
         "yaxis": "y2"
        },
        {
         "legendgroup": "Pretrained_ImageNet-aug-12800_spc-2000_steps_v_0-version_1",
         "line": {
          "color": "blue"
         },
         "mode": "lines",
         "name": "Val: v_0-version_1",
         "showlegend": false,
         "type": "scatter",
         "x": [
          49,
          99,
          149,
          199,
          249,
          299,
          349,
          399,
          449,
          499,
          549,
          599,
          649,
          699,
          749,
          799,
          849,
          899,
          949,
          999,
          1049,
          1099,
          1149,
          1199,
          1249,
          1299,
          1349,
          1399,
          1449,
          1499,
          1549,
          1599,
          1649,
          1699,
          1749,
          1799,
          1849,
          1899,
          1949,
          1999
         ],
         "xaxis": "x3",
         "y": [
          0.8036666512489319,
          0.8154666423797607,
          0.816266655921936,
          0.795199990272522,
          0.8059999942779541,
          0.8008666634559631,
          0.824400007724762,
          0.7946000099182129,
          0.7878666520118713,
          0.8104666471481323,
          0.8113999962806702,
          0.8150666952133179,
          0.8143333196640015,
          0.8115333318710327,
          0.8106666803359985,
          0.8109333515167236,
          0.8112666606903076,
          0.8128666877746582,
          0.8096666932106018,
          0.8131999969482422,
          0.8122000098228455,
          0.8116000294685364,
          0.8125333189964294,
          0.8107333183288574,
          0.8118666410446167,
          0.812333345413208,
          0.8122666478157043,
          0.8119999766349792,
          0.8120666742324829,
          0.8120666742324829,
          0.8119999766349792,
          0.8119333386421204,
          0.8112000226974487,
          0.8113333582878113,
          0.8104000091552734,
          0.81086665391922,
          0.812666654586792,
          0.8115333318710327,
          0.8125333189964294,
          0.8106666803359985
         ],
         "yaxis": "y3"
        },
        {
         "legendgroup": "Pretrained_ImageNet-aug-12800_spc-2000_steps_v_0-version_1",
         "line": {
          "color": "blue",
          "dash": "dash"
         },
         "mode": "lines",
         "name": "Test: v_0-version_1",
         "showlegend": false,
         "type": "scatter",
         "x": [
          49,
          1999
         ],
         "xaxis": "x3",
         "y": [
          0.772247314453125,
          0.772247314453125
         ],
         "yaxis": "y3"
        },
        {
         "legendgroup": "Pretrained_ImageNet-aug-12800_spc-2000_steps_v_1-version_1",
         "line": {
          "color": "green"
         },
         "mode": "lines",
         "name": "Val: v_1-version_1",
         "showlegend": false,
         "type": "scatter",
         "x": [
          49,
          99,
          149,
          199,
          249,
          299,
          349,
          399,
          449,
          499,
          549,
          599,
          649,
          699,
          749,
          799,
          849,
          899,
          949,
          999,
          1049,
          1099,
          1149,
          1199,
          1249,
          1299,
          1349,
          1399,
          1449,
          1499,
          1549,
          1599,
          1649,
          1699,
          1749,
          1799,
          1849,
          1899,
          1949,
          1999
         ],
         "xaxis": "x3",
         "y": [
          0.8098666667938232,
          0.8204666376113892,
          0.800266683101654,
          0.8214666843414307,
          0.7698000073432922,
          0.8018666505813599,
          0.8096666932106018,
          0.8042666912078857,
          0.8051999807357788,
          0.8111333250999451,
          0.8116666674613953,
          0.8123999834060669,
          0.8085333108901978,
          0.8088666796684265,
          0.8088666796684265,
          0.809066653251648,
          0.8098000288009644,
          0.8089333176612854,
          0.8086000084877014,
          0.8082000017166138,
          0.8091999888420105,
          0.8088666796684265,
          0.8091333508491516,
          0.8108000159263611,
          0.8076666593551636,
          0.8086666464805603,
          0.809066653251648,
          0.8063333630561829,
          0.8080000281333923,
          0.8073333501815796,
          0.807533323764801,
          0.8090000152587891,
          0.8089333176612854,
          0.8076666593551636,
          0.807533323764801,
          0.8089333176612854,
          0.8095333576202393,
          0.8077999949455261,
          0.8098000288009644,
          0.8086666464805603
         ],
         "yaxis": "y3"
        },
        {
         "legendgroup": "Pretrained_ImageNet-aug-12800_spc-2000_steps_v_1-version_1",
         "line": {
          "color": "green",
          "dash": "dash"
         },
         "mode": "lines",
         "name": "Test: v_1-version_1",
         "showlegend": false,
         "type": "scatter",
         "x": [
          49,
          1999
         ],
         "xaxis": "x3",
         "y": [
          0.798614501953125,
          0.798614501953125
         ],
         "yaxis": "y3"
        },
        {
         "legendgroup": "Pretrained_ImageNet-aug-12800_spc-2000_steps_v_2-version_1",
         "line": {
          "color": "red"
         },
         "mode": "lines",
         "name": "Val: v_2-version_1",
         "showlegend": false,
         "type": "scatter",
         "x": [
          49,
          99,
          149,
          199,
          249,
          299,
          349,
          399,
          449,
          499,
          549,
          599,
          649,
          699,
          749,
          799,
          849,
          899,
          949,
          999,
          1049,
          1099,
          1149,
          1199,
          1249,
          1299,
          1349,
          1399,
          1449,
          1499,
          1549,
          1599,
          1649,
          1699,
          1749,
          1799,
          1849,
          1899,
          1949,
          1999
         ],
         "xaxis": "x3",
         "y": [
          0.7861999869346619,
          0.8099333047866821,
          0.7965333461761475,
          0.7771999835968018,
          0.7991999983787537,
          0.8065333366394043,
          0.8068666458129883,
          0.803600013256073,
          0.8073333501815796,
          0.8062666654586792,
          0.8051333427429199,
          0.8033999800682068,
          0.8041333556175232,
          0.8040666580200195,
          0.8076000213623047,
          0.809066653251648,
          0.8068000078201294,
          0.8058000206947327,
          0.8060666918754578,
          0.8068000078201294,
          0.8041999936103821,
          0.8076000213623047,
          0.8073999881744385,
          0.8042666912078857,
          0.8068000078201294,
          0.8037333488464355,
          0.805400013923645,
          0.8038666844367981,
          0.8025333285331726,
          0.8044666647911072,
          0.8069333434104919,
          0.8062000274658203,
          0.8078666925430298,
          0.8044666647911072,
          0.8055333495140076,
          0.8065333366394043,
          0.8049333095550537,
          0.8052666783332825,
          0.8047999739646912,
          0.8038666844367981
         ],
         "yaxis": "y3"
        },
        {
         "legendgroup": "Pretrained_ImageNet-aug-12800_spc-2000_steps_v_2-version_1",
         "line": {
          "color": "red",
          "dash": "dash"
         },
         "mode": "lines",
         "name": "Test: v_2-version_1",
         "showlegend": false,
         "type": "scatter",
         "x": [
          49,
          1999
         ],
         "xaxis": "x3",
         "y": [
          0.765167236328125,
          0.765167236328125
         ],
         "yaxis": "y3"
        }
       ],
       "layout": {
        "annotations": [
         {
          "font": {
           "size": 12
          },
          "showarrow": false,
          "text": "Pretrained_ImageNet-aug-51200_spc-2000_steps",
          "x": 0.14444444444444446,
          "xanchor": "center",
          "xref": "paper",
          "y": 1,
          "yanchor": "bottom",
          "yref": "paper"
         },
         {
          "font": {
           "size": 12
          },
          "showarrow": false,
          "text": "Pretrained_ImageNet-aug-25600_spc-2000_steps",
          "x": 0.5,
          "xanchor": "center",
          "xref": "paper",
          "y": 1,
          "yanchor": "bottom",
          "yref": "paper"
         },
         {
          "font": {
           "size": 12
          },
          "showarrow": false,
          "text": "Pretrained_ImageNet-aug-12800_spc-2000_steps",
          "x": 0.8555555555555556,
          "xanchor": "center",
          "xref": "paper",
          "y": 1,
          "yanchor": "bottom",
          "yref": "paper"
         }
        ],
        "font": {
         "size": 10
        },
        "height": 400,
        "template": {
         "data": {
          "bar": [
           {
            "error_x": {
             "color": "#2a3f5f"
            },
            "error_y": {
             "color": "#2a3f5f"
            },
            "marker": {
             "line": {
              "color": "#E5ECF6",
              "width": 0.5
             },
             "pattern": {
              "fillmode": "overlay",
              "size": 10,
              "solidity": 0.2
             }
            },
            "type": "bar"
           }
          ],
          "barpolar": [
           {
            "marker": {
             "line": {
              "color": "#E5ECF6",
              "width": 0.5
             },
             "pattern": {
              "fillmode": "overlay",
              "size": 10,
              "solidity": 0.2
             }
            },
            "type": "barpolar"
           }
          ],
          "carpet": [
           {
            "aaxis": {
             "endlinecolor": "#2a3f5f",
             "gridcolor": "white",
             "linecolor": "white",
             "minorgridcolor": "white",
             "startlinecolor": "#2a3f5f"
            },
            "baxis": {
             "endlinecolor": "#2a3f5f",
             "gridcolor": "white",
             "linecolor": "white",
             "minorgridcolor": "white",
             "startlinecolor": "#2a3f5f"
            },
            "type": "carpet"
           }
          ],
          "choropleth": [
           {
            "colorbar": {
             "outlinewidth": 0,
             "ticks": ""
            },
            "type": "choropleth"
           }
          ],
          "contour": [
           {
            "colorbar": {
             "outlinewidth": 0,
             "ticks": ""
            },
            "colorscale": [
             [
              0,
              "#0d0887"
             ],
             [
              0.1111111111111111,
              "#46039f"
             ],
             [
              0.2222222222222222,
              "#7201a8"
             ],
             [
              0.3333333333333333,
              "#9c179e"
             ],
             [
              0.4444444444444444,
              "#bd3786"
             ],
             [
              0.5555555555555556,
              "#d8576b"
             ],
             [
              0.6666666666666666,
              "#ed7953"
             ],
             [
              0.7777777777777778,
              "#fb9f3a"
             ],
             [
              0.8888888888888888,
              "#fdca26"
             ],
             [
              1,
              "#f0f921"
             ]
            ],
            "type": "contour"
           }
          ],
          "contourcarpet": [
           {
            "colorbar": {
             "outlinewidth": 0,
             "ticks": ""
            },
            "type": "contourcarpet"
           }
          ],
          "heatmap": [
           {
            "colorbar": {
             "outlinewidth": 0,
             "ticks": ""
            },
            "colorscale": [
             [
              0,
              "#0d0887"
             ],
             [
              0.1111111111111111,
              "#46039f"
             ],
             [
              0.2222222222222222,
              "#7201a8"
             ],
             [
              0.3333333333333333,
              "#9c179e"
             ],
             [
              0.4444444444444444,
              "#bd3786"
             ],
             [
              0.5555555555555556,
              "#d8576b"
             ],
             [
              0.6666666666666666,
              "#ed7953"
             ],
             [
              0.7777777777777778,
              "#fb9f3a"
             ],
             [
              0.8888888888888888,
              "#fdca26"
             ],
             [
              1,
              "#f0f921"
             ]
            ],
            "type": "heatmap"
           }
          ],
          "histogram": [
           {
            "marker": {
             "pattern": {
              "fillmode": "overlay",
              "size": 10,
              "solidity": 0.2
             }
            },
            "type": "histogram"
           }
          ],
          "histogram2d": [
           {
            "colorbar": {
             "outlinewidth": 0,
             "ticks": ""
            },
            "colorscale": [
             [
              0,
              "#0d0887"
             ],
             [
              0.1111111111111111,
              "#46039f"
             ],
             [
              0.2222222222222222,
              "#7201a8"
             ],
             [
              0.3333333333333333,
              "#9c179e"
             ],
             [
              0.4444444444444444,
              "#bd3786"
             ],
             [
              0.5555555555555556,
              "#d8576b"
             ],
             [
              0.6666666666666666,
              "#ed7953"
             ],
             [
              0.7777777777777778,
              "#fb9f3a"
             ],
             [
              0.8888888888888888,
              "#fdca26"
             ],
             [
              1,
              "#f0f921"
             ]
            ],
            "type": "histogram2d"
           }
          ],
          "histogram2dcontour": [
           {
            "colorbar": {
             "outlinewidth": 0,
             "ticks": ""
            },
            "colorscale": [
             [
              0,
              "#0d0887"
             ],
             [
              0.1111111111111111,
              "#46039f"
             ],
             [
              0.2222222222222222,
              "#7201a8"
             ],
             [
              0.3333333333333333,
              "#9c179e"
             ],
             [
              0.4444444444444444,
              "#bd3786"
             ],
             [
              0.5555555555555556,
              "#d8576b"
             ],
             [
              0.6666666666666666,
              "#ed7953"
             ],
             [
              0.7777777777777778,
              "#fb9f3a"
             ],
             [
              0.8888888888888888,
              "#fdca26"
             ],
             [
              1,
              "#f0f921"
             ]
            ],
            "type": "histogram2dcontour"
           }
          ],
          "mesh3d": [
           {
            "colorbar": {
             "outlinewidth": 0,
             "ticks": ""
            },
            "type": "mesh3d"
           }
          ],
          "parcoords": [
           {
            "line": {
             "colorbar": {
              "outlinewidth": 0,
              "ticks": ""
             }
            },
            "type": "parcoords"
           }
          ],
          "pie": [
           {
            "automargin": true,
            "type": "pie"
           }
          ],
          "scatter": [
           {
            "fillpattern": {
             "fillmode": "overlay",
             "size": 10,
             "solidity": 0.2
            },
            "type": "scatter"
           }
          ],
          "scatter3d": [
           {
            "line": {
             "colorbar": {
              "outlinewidth": 0,
              "ticks": ""
             }
            },
            "marker": {
             "colorbar": {
              "outlinewidth": 0,
              "ticks": ""
             }
            },
            "type": "scatter3d"
           }
          ],
          "scattercarpet": [
           {
            "marker": {
             "colorbar": {
              "outlinewidth": 0,
              "ticks": ""
             }
            },
            "type": "scattercarpet"
           }
          ],
          "scattergeo": [
           {
            "marker": {
             "colorbar": {
              "outlinewidth": 0,
              "ticks": ""
             }
            },
            "type": "scattergeo"
           }
          ],
          "scattergl": [
           {
            "marker": {
             "colorbar": {
              "outlinewidth": 0,
              "ticks": ""
             }
            },
            "type": "scattergl"
           }
          ],
          "scattermap": [
           {
            "marker": {
             "colorbar": {
              "outlinewidth": 0,
              "ticks": ""
             }
            },
            "type": "scattermap"
           }
          ],
          "scattermapbox": [
           {
            "marker": {
             "colorbar": {
              "outlinewidth": 0,
              "ticks": ""
             }
            },
            "type": "scattermapbox"
           }
          ],
          "scatterpolar": [
           {
            "marker": {
             "colorbar": {
              "outlinewidth": 0,
              "ticks": ""
             }
            },
            "type": "scatterpolar"
           }
          ],
          "scatterpolargl": [
           {
            "marker": {
             "colorbar": {
              "outlinewidth": 0,
              "ticks": ""
             }
            },
            "type": "scatterpolargl"
           }
          ],
          "scatterternary": [
           {
            "marker": {
             "colorbar": {
              "outlinewidth": 0,
              "ticks": ""
             }
            },
            "type": "scatterternary"
           }
          ],
          "surface": [
           {
            "colorbar": {
             "outlinewidth": 0,
             "ticks": ""
            },
            "colorscale": [
             [
              0,
              "#0d0887"
             ],
             [
              0.1111111111111111,
              "#46039f"
             ],
             [
              0.2222222222222222,
              "#7201a8"
             ],
             [
              0.3333333333333333,
              "#9c179e"
             ],
             [
              0.4444444444444444,
              "#bd3786"
             ],
             [
              0.5555555555555556,
              "#d8576b"
             ],
             [
              0.6666666666666666,
              "#ed7953"
             ],
             [
              0.7777777777777778,
              "#fb9f3a"
             ],
             [
              0.8888888888888888,
              "#fdca26"
             ],
             [
              1,
              "#f0f921"
             ]
            ],
            "type": "surface"
           }
          ],
          "table": [
           {
            "cells": {
             "fill": {
              "color": "#EBF0F8"
             },
             "line": {
              "color": "white"
             }
            },
            "header": {
             "fill": {
              "color": "#C8D4E3"
             },
             "line": {
              "color": "white"
             }
            },
            "type": "table"
           }
          ]
         },
         "layout": {
          "annotationdefaults": {
           "arrowcolor": "#2a3f5f",
           "arrowhead": 0,
           "arrowwidth": 1
          },
          "autotypenumbers": "strict",
          "coloraxis": {
           "colorbar": {
            "outlinewidth": 0,
            "ticks": ""
           }
          },
          "colorscale": {
           "diverging": [
            [
             0,
             "#8e0152"
            ],
            [
             0.1,
             "#c51b7d"
            ],
            [
             0.2,
             "#de77ae"
            ],
            [
             0.3,
             "#f1b6da"
            ],
            [
             0.4,
             "#fde0ef"
            ],
            [
             0.5,
             "#f7f7f7"
            ],
            [
             0.6,
             "#e6f5d0"
            ],
            [
             0.7,
             "#b8e186"
            ],
            [
             0.8,
             "#7fbc41"
            ],
            [
             0.9,
             "#4d9221"
            ],
            [
             1,
             "#276419"
            ]
           ],
           "sequential": [
            [
             0,
             "#0d0887"
            ],
            [
             0.1111111111111111,
             "#46039f"
            ],
            [
             0.2222222222222222,
             "#7201a8"
            ],
            [
             0.3333333333333333,
             "#9c179e"
            ],
            [
             0.4444444444444444,
             "#bd3786"
            ],
            [
             0.5555555555555556,
             "#d8576b"
            ],
            [
             0.6666666666666666,
             "#ed7953"
            ],
            [
             0.7777777777777778,
             "#fb9f3a"
            ],
            [
             0.8888888888888888,
             "#fdca26"
            ],
            [
             1,
             "#f0f921"
            ]
           ],
           "sequentialminus": [
            [
             0,
             "#0d0887"
            ],
            [
             0.1111111111111111,
             "#46039f"
            ],
            [
             0.2222222222222222,
             "#7201a8"
            ],
            [
             0.3333333333333333,
             "#9c179e"
            ],
            [
             0.4444444444444444,
             "#bd3786"
            ],
            [
             0.5555555555555556,
             "#d8576b"
            ],
            [
             0.6666666666666666,
             "#ed7953"
            ],
            [
             0.7777777777777778,
             "#fb9f3a"
            ],
            [
             0.8888888888888888,
             "#fdca26"
            ],
            [
             1,
             "#f0f921"
            ]
           ]
          },
          "colorway": [
           "#636efa",
           "#EF553B",
           "#00cc96",
           "#ab63fa",
           "#FFA15A",
           "#19d3f3",
           "#FF6692",
           "#B6E880",
           "#FF97FF",
           "#FECB52"
          ],
          "font": {
           "color": "#2a3f5f"
          },
          "geo": {
           "bgcolor": "white",
           "lakecolor": "white",
           "landcolor": "#E5ECF6",
           "showlakes": true,
           "showland": true,
           "subunitcolor": "white"
          },
          "hoverlabel": {
           "align": "left"
          },
          "hovermode": "closest",
          "mapbox": {
           "style": "light"
          },
          "paper_bgcolor": "white",
          "plot_bgcolor": "#E5ECF6",
          "polar": {
           "angularaxis": {
            "gridcolor": "white",
            "linecolor": "white",
            "ticks": ""
           },
           "bgcolor": "#E5ECF6",
           "radialaxis": {
            "gridcolor": "white",
            "linecolor": "white",
            "ticks": ""
           }
          },
          "scene": {
           "xaxis": {
            "backgroundcolor": "#E5ECF6",
            "gridcolor": "white",
            "gridwidth": 2,
            "linecolor": "white",
            "showbackground": true,
            "ticks": "",
            "zerolinecolor": "white"
           },
           "yaxis": {
            "backgroundcolor": "#E5ECF6",
            "gridcolor": "white",
            "gridwidth": 2,
            "linecolor": "white",
            "showbackground": true,
            "ticks": "",
            "zerolinecolor": "white"
           },
           "zaxis": {
            "backgroundcolor": "#E5ECF6",
            "gridcolor": "white",
            "gridwidth": 2,
            "linecolor": "white",
            "showbackground": true,
            "ticks": "",
            "zerolinecolor": "white"
           }
          },
          "shapedefaults": {
           "line": {
            "color": "#2a3f5f"
           }
          },
          "ternary": {
           "aaxis": {
            "gridcolor": "white",
            "linecolor": "white",
            "ticks": ""
           },
           "baxis": {
            "gridcolor": "white",
            "linecolor": "white",
            "ticks": ""
           },
           "bgcolor": "#E5ECF6",
           "caxis": {
            "gridcolor": "white",
            "linecolor": "white",
            "ticks": ""
           }
          },
          "title": {
           "x": 0.05
          },
          "xaxis": {
           "automargin": true,
           "gridcolor": "white",
           "linecolor": "white",
           "ticks": "",
           "title": {
            "standoff": 15
           },
           "zerolinecolor": "white",
           "zerolinewidth": 2
          },
          "yaxis": {
           "automargin": true,
           "gridcolor": "white",
           "linecolor": "white",
           "ticks": "",
           "title": {
            "standoff": 15
           },
           "zerolinecolor": "white",
           "zerolinewidth": 2
          }
         }
        },
        "width": 1200,
        "xaxis": {
         "anchor": "y",
         "domain": [
          0,
          0.2888888888888889
         ],
         "title": {
          "text": "Steps"
         }
        },
        "xaxis2": {
         "anchor": "y2",
         "domain": [
          0.35555555555555557,
          0.6444444444444445
         ],
         "title": {
          "text": "Steps"
         }
        },
        "xaxis3": {
         "anchor": "y3",
         "domain": [
          0.7111111111111111,
          1
         ],
         "title": {
          "text": "Steps"
         }
        },
        "yaxis": {
         "anchor": "x",
         "domain": [
          0,
          1
         ],
         "title": {
          "text": "Accuracy"
         }
        },
        "yaxis2": {
         "anchor": "x2",
         "domain": [
          0,
          1
         ],
         "matches": "y",
         "showticklabels": false
        },
        "yaxis3": {
         "anchor": "x3",
         "domain": [
          0,
          1
         ],
         "matches": "y",
         "showticklabels": false
        }
       }
      }
     },
     "metadata": {},
     "output_type": "display_data"
    },
    {
     "data": {
      "application/vnd.plotly.v1+json": {
       "config": {
        "plotlyServerURL": "https://plot.ly"
       },
       "data": [
        {
         "legendgroup": "Pretrained_ImageNet-notr-51200_spc-2000_steps_v_0-version_1",
         "line": {
          "color": "blue"
         },
         "mode": "lines",
         "name": "Val: v_0-version_1",
         "showlegend": true,
         "type": "scatter",
         "x": [
          199,
          399,
          599,
          799,
          999,
          1199,
          1399,
          1599,
          1799,
          1999
         ],
         "xaxis": "x",
         "y": [
          0.7639333605766296,
          0.7712666392326355,
          0.7971333265304565,
          0.8150666952133179,
          0.7896000146865845,
          0.7937999963760376,
          0.7861999869346619,
          0.7977333068847656,
          0.8023333549499512,
          0.8034666776657104
         ],
         "yaxis": "y"
        },
        {
         "legendgroup": "Pretrained_ImageNet-notr-51200_spc-2000_steps_v_0-version_1",
         "line": {
          "color": "blue",
          "dash": "dash"
         },
         "mode": "lines",
         "name": "Test: v_0-version_1",
         "showlegend": true,
         "type": "scatter",
         "x": [
          199,
          1999
         ],
         "xaxis": "x",
         "y": [
          0.78680419921875,
          0.78680419921875
         ],
         "yaxis": "y"
        },
        {
         "legendgroup": "Pretrained_ImageNet-notr-51200_spc-2000_steps_v_1-version_1",
         "line": {
          "color": "green"
         },
         "mode": "lines",
         "name": "Val: v_1-version_1",
         "showlegend": true,
         "type": "scatter",
         "x": [
          199,
          399,
          599,
          799,
          999,
          1199,
          1399,
          1599,
          1799,
          1999
         ],
         "xaxis": "x",
         "y": [
          0.8214666843414307,
          0.8058000206947327,
          0.7983333468437195,
          0.7719333171844482,
          0.7702000141143799,
          0.8065999746322632,
          0.8009999990463257,
          0.8044666647911072,
          0.8019333481788635,
          0.8036666512489319
         ],
         "yaxis": "y"
        },
        {
         "legendgroup": "Pretrained_ImageNet-notr-51200_spc-2000_steps_v_1-version_1",
         "line": {
          "color": "green",
          "dash": "dash"
         },
         "mode": "lines",
         "name": "Test: v_1-version_1",
         "showlegend": true,
         "type": "scatter",
         "x": [
          199,
          1999
         ],
         "xaxis": "x",
         "y": [
          0.807891845703125,
          0.807891845703125
         ],
         "yaxis": "y"
        },
        {
         "legendgroup": "Pretrained_ImageNet-notr-51200_spc-2000_steps_v_2-version_1",
         "line": {
          "color": "red"
         },
         "mode": "lines",
         "name": "Val: v_2-version_1",
         "showlegend": true,
         "type": "scatter",
         "x": [
          199,
          399,
          599,
          799,
          999,
          1199,
          1399,
          1599,
          1799,
          1999
         ],
         "xaxis": "x",
         "y": [
          0.7893333435058594,
          0.8004000186920166,
          0.8119333386421204,
          0.808733344078064,
          0.8202000260353088,
          0.8055999875068665,
          0.8131333589553833,
          0.7999333143234253,
          0.7937999963760376,
          0.8040000200271606
         ],
         "yaxis": "y"
        },
        {
         "legendgroup": "Pretrained_ImageNet-notr-51200_spc-2000_steps_v_2-version_1",
         "line": {
          "color": "red",
          "dash": "dash"
         },
         "mode": "lines",
         "name": "Test: v_2-version_1",
         "showlegend": true,
         "type": "scatter",
         "x": [
          199,
          1999
         ],
         "xaxis": "x",
         "y": [
          0.79071044921875,
          0.79071044921875
         ],
         "yaxis": "y"
        },
        {
         "legendgroup": "Pretrained_ImageNet-notr-25600_spc-2000_steps_v_0-version_1",
         "line": {
          "color": "blue"
         },
         "mode": "lines",
         "name": "Val: v_0-version_1",
         "showlegend": false,
         "type": "scatter",
         "x": [
          99,
          199,
          299,
          399,
          499,
          599,
          699,
          799,
          899,
          999,
          1099,
          1199,
          1299,
          1399,
          1499,
          1599,
          1699,
          1799,
          1899,
          1999
         ],
         "xaxis": "x2",
         "y": [
          0.8130666613578796,
          0.7716666460037231,
          0.7870000004768372,
          0.772599995136261,
          0.8018666505813599,
          0.8046666383743286,
          0.8106666803359985,
          0.8097333312034607,
          0.8023333549499512,
          0.8038666844367981,
          0.8033999800682068,
          0.8037999868392944,
          0.8051999807357788,
          0.8054666519165039,
          0.8058666586875916,
          0.8061333298683167,
          0.8042666912078857,
          0.8054666519165039,
          0.8064666390419006,
          0.8072666525840759
         ],
         "yaxis": "y2"
        },
        {
         "legendgroup": "Pretrained_ImageNet-notr-25600_spc-2000_steps_v_0-version_1",
         "line": {
          "color": "blue",
          "dash": "dash"
         },
         "mode": "lines",
         "name": "Test: v_0-version_1",
         "showlegend": false,
         "type": "scatter",
         "x": [
          99,
          1999
         ],
         "xaxis": "x2",
         "y": [
          0.8006591796875,
          0.8006591796875
         ],
         "yaxis": "y2"
        },
        {
         "legendgroup": "Pretrained_ImageNet-notr-25600_spc-2000_steps_v_1-version_1",
         "line": {
          "color": "green"
         },
         "mode": "lines",
         "name": "Val: v_1-version_1",
         "showlegend": false,
         "type": "scatter",
         "x": [
          99,
          199,
          299,
          399,
          499,
          599,
          699,
          799,
          899,
          999,
          1099,
          1199,
          1299,
          1399,
          1499,
          1599,
          1699,
          1799,
          1899,
          1999
         ],
         "xaxis": "x2",
         "y": [
          0.8118666410446167,
          0.7746666669845581,
          0.8036666512489319,
          0.8187999725341797,
          0.7929999828338623,
          0.8012666702270508,
          0.8112666606903076,
          0.803600013256073,
          0.8017333149909973,
          0.8033999800682068,
          0.8044666647911072,
          0.8056666851043701,
          0.803933322429657,
          0.8055333495140076,
          0.8038666844367981,
          0.8018666505813599,
          0.8051333427429199,
          0.8041999936103821,
          0.8055333495140076,
          0.8044000267982483
         ],
         "yaxis": "y2"
        },
        {
         "legendgroup": "Pretrained_ImageNet-notr-25600_spc-2000_steps_v_1-version_1",
         "line": {
          "color": "green",
          "dash": "dash"
         },
         "mode": "lines",
         "name": "Test: v_1-version_1",
         "showlegend": false,
         "type": "scatter",
         "x": [
          99,
          1999
         ],
         "xaxis": "x2",
         "y": [
          0.76519775390625,
          0.76519775390625
         ],
         "yaxis": "y2"
        },
        {
         "legendgroup": "Pretrained_ImageNet-notr-25600_spc-2000_steps_v_2-version_1",
         "line": {
          "color": "red"
         },
         "mode": "lines",
         "name": "Val: v_2-version_1",
         "showlegend": false,
         "type": "scatter",
         "x": [
          99,
          199,
          299,
          399,
          499,
          599,
          699,
          799,
          899,
          999,
          1099,
          1199,
          1299,
          1399,
          1499,
          1599,
          1699,
          1799,
          1899,
          1999
         ],
         "xaxis": "x2",
         "y": [
          0.8101333379745483,
          0.7940666675567627,
          0.8083333373069763,
          0.7860000133514404,
          0.7876666784286499,
          0.7999333143234253,
          0.8069999814033508,
          0.8096666932106018,
          0.8118666410446167,
          0.8074666857719421,
          0.8076000213623047,
          0.8071333169937134,
          0.8065333366394043,
          0.8042666912078857,
          0.8065999746322632,
          0.8080000281333923,
          0.8076666593551636,
          0.8066666722297668,
          0.8060666918754578,
          0.8085333108901978
         ],
         "yaxis": "y2"
        },
        {
         "legendgroup": "Pretrained_ImageNet-notr-25600_spc-2000_steps_v_2-version_1",
         "line": {
          "color": "red",
          "dash": "dash"
         },
         "mode": "lines",
         "name": "Test: v_2-version_1",
         "showlegend": false,
         "type": "scatter",
         "x": [
          99,
          1999
         ],
         "xaxis": "x2",
         "y": [
          0.798828125,
          0.798828125
         ],
         "yaxis": "y2"
        },
        {
         "legendgroup": "Pretrained_ImageNet-notr-12800_spc-2000_steps_v_0-version_1",
         "line": {
          "color": "blue"
         },
         "mode": "lines",
         "name": "Val: v_0-version_1",
         "showlegend": false,
         "type": "scatter",
         "x": [
          49,
          99,
          149,
          199,
          249,
          299,
          349,
          399,
          449,
          499,
          549,
          599,
          649,
          699,
          749,
          799,
          849,
          899,
          949,
          999,
          1049,
          1099,
          1149,
          1199,
          1249,
          1299,
          1349,
          1399,
          1449,
          1499,
          1549,
          1599,
          1649,
          1699,
          1749,
          1799,
          1849,
          1899,
          1949,
          1999
         ],
         "xaxis": "x3",
         "y": [
          0.8122000098228455,
          0.70660001039505,
          0.7727333307266235,
          0.8033333420753479,
          0.7982666492462158,
          0.8123999834060669,
          0.8036666512489319,
          0.8072666525840759,
          0.8044666647911072,
          0.8073333501815796,
          0.8059333562850952,
          0.8068666458129883,
          0.8062666654586792,
          0.8063333630561829,
          0.8048666715621948,
          0.8061333298683167,
          0.8055333495140076,
          0.8065333366394043,
          0.8058666586875916,
          0.8055999875068665,
          0.8068666458129883,
          0.805733323097229,
          0.8072666525840759,
          0.8071333169937134,
          0.8069999814033508,
          0.8065333366394043,
          0.8061333298683167,
          0.8069999814033508,
          0.8068666458129883,
          0.8064666390419006,
          0.8063333630561829,
          0.8062000274658203,
          0.8061333298683167,
          0.8063333630561829,
          0.8052666783332825,
          0.8058000206947327,
          0.8068666458129883,
          0.8051999807357788,
          0.8058000206947327,
          0.8072666525840759
         ],
         "yaxis": "y3"
        },
        {
         "legendgroup": "Pretrained_ImageNet-notr-12800_spc-2000_steps_v_0-version_1",
         "line": {
          "color": "blue",
          "dash": "dash"
         },
         "mode": "lines",
         "name": "Test: v_0-version_1",
         "showlegend": false,
         "type": "scatter",
         "x": [
          49,
          1999
         ],
         "xaxis": "x3",
         "y": [
          0.7939453125,
          0.7939453125
         ],
         "yaxis": "y3"
        },
        {
         "legendgroup": "Pretrained_ImageNet-notr-12800_spc-2000_steps_v_1-version_1",
         "line": {
          "color": "green"
         },
         "mode": "lines",
         "name": "Val: v_1-version_1",
         "showlegend": false,
         "type": "scatter",
         "x": [
          49,
          99,
          149,
          199,
          249,
          299,
          349,
          399,
          449,
          499,
          549,
          599,
          649,
          699,
          749,
          799,
          849,
          899,
          949,
          999,
          1049,
          1099,
          1149,
          1199,
          1249,
          1299,
          1349,
          1399,
          1449,
          1499,
          1549,
          1599,
          1649,
          1699,
          1749,
          1799,
          1849,
          1899,
          1949,
          1999
         ],
         "xaxis": "x3",
         "y": [
          0.8054666519165039,
          0.800266683101654,
          0.7422666549682617,
          0.7947333455085754,
          0.7788666486740112,
          0.8033333420753479,
          0.8091999888420105,
          0.8059999942779541,
          0.8099333047866821,
          0.8073999881744385,
          0.8082666397094727,
          0.8082666397094727,
          0.8084666728973389,
          0.8080666661262512,
          0.8116000294685364,
          0.8077333569526672,
          0.8088666796684265,
          0.8080000281333923,
          0.8086000084877014,
          0.807200014591217,
          0.8077999949455261,
          0.8083333373069763,
          0.8095999956130981,
          0.8091333508491516,
          0.8064000010490417,
          0.8083999752998352,
          0.8077333569526672,
          0.8087999820709229,
          0.8070666790008545,
          0.8074666857719421,
          0.8067333102226257,
          0.8079333305358887,
          0.8067333102226257,
          0.8088666796684265,
          0.8067333102226257,
          0.8082666397094727,
          0.8105999827384949,
          0.8061333298683167,
          0.8084666728973389,
          0.8076666593551636
         ],
         "yaxis": "y3"
        },
        {
         "legendgroup": "Pretrained_ImageNet-notr-12800_spc-2000_steps_v_1-version_1",
         "line": {
          "color": "green",
          "dash": "dash"
         },
         "mode": "lines",
         "name": "Test: v_1-version_1",
         "showlegend": false,
         "type": "scatter",
         "x": [
          49,
          1999
         ],
         "xaxis": "x3",
         "y": [
          0.812835693359375,
          0.812835693359375
         ],
         "yaxis": "y3"
        },
        {
         "legendgroup": "Pretrained_ImageNet-notr-12800_spc-2000_steps_v_2-version_1",
         "line": {
          "color": "red"
         },
         "mode": "lines",
         "name": "Val: v_2-version_1",
         "showlegend": false,
         "type": "scatter",
         "x": [
          49,
          99,
          149,
          199,
          249,
          299,
          349,
          399,
          449,
          499,
          549,
          599,
          649,
          699,
          749,
          799,
          849,
          899,
          949,
          999,
          1049,
          1099,
          1149,
          1199,
          1249,
          1299,
          1349,
          1399,
          1449,
          1499,
          1549,
          1599,
          1649,
          1699,
          1749,
          1799,
          1849,
          1899,
          1949,
          1999
         ],
         "xaxis": "x3",
         "y": [
          0.8176000118255615,
          0.81086665391922,
          0.8253333568572998,
          0.7552666664123535,
          0.7996000051498413,
          0.7997999787330627,
          0.7957333326339722,
          0.800266683101654,
          0.7957333326339722,
          0.8014000058174133,
          0.7976666688919067,
          0.7990000247955322,
          0.7975999712944031,
          0.8023333549499512,
          0.7993333339691162,
          0.7993333339691162,
          0.7989333271980286,
          0.7986666560173035,
          0.7986000180244446,
          0.7969333529472351,
          0.8014000058174133,
          0.7993333339691162,
          0.7982666492462158,
          0.8012666702270508,
          0.7973999977111816,
          0.7979999780654907,
          0.7973999977111816,
          0.7996000051498413,
          0.7982666492462158,
          0.8010666370391846,
          0.7987333536148071,
          0.8017333149909973,
          0.7986666560173035,
          0.7990666627883911,
          0.7958666682243347,
          0.798466682434082,
          0.7961333394050598,
          0.7968000173568726,
          0.7993999719619751,
          0.7996666431427002
         ],
         "yaxis": "y3"
        },
        {
         "legendgroup": "Pretrained_ImageNet-notr-12800_spc-2000_steps_v_2-version_1",
         "line": {
          "color": "red",
          "dash": "dash"
         },
         "mode": "lines",
         "name": "Test: v_2-version_1",
         "showlegend": false,
         "type": "scatter",
         "x": [
          49,
          1999
         ],
         "xaxis": "x3",
         "y": [
          0.792236328125,
          0.792236328125
         ],
         "yaxis": "y3"
        }
       ],
       "layout": {
        "annotations": [
         {
          "font": {
           "size": 12
          },
          "showarrow": false,
          "text": "Pretrained_ImageNet-notr-51200_spc-2000_steps",
          "x": 0.14444444444444446,
          "xanchor": "center",
          "xref": "paper",
          "y": 1,
          "yanchor": "bottom",
          "yref": "paper"
         },
         {
          "font": {
           "size": 12
          },
          "showarrow": false,
          "text": "Pretrained_ImageNet-notr-25600_spc-2000_steps",
          "x": 0.5,
          "xanchor": "center",
          "xref": "paper",
          "y": 1,
          "yanchor": "bottom",
          "yref": "paper"
         },
         {
          "font": {
           "size": 12
          },
          "showarrow": false,
          "text": "Pretrained_ImageNet-notr-12800_spc-2000_steps",
          "x": 0.8555555555555556,
          "xanchor": "center",
          "xref": "paper",
          "y": 1,
          "yanchor": "bottom",
          "yref": "paper"
         }
        ],
        "font": {
         "size": 10
        },
        "height": 400,
        "template": {
         "data": {
          "bar": [
           {
            "error_x": {
             "color": "#2a3f5f"
            },
            "error_y": {
             "color": "#2a3f5f"
            },
            "marker": {
             "line": {
              "color": "#E5ECF6",
              "width": 0.5
             },
             "pattern": {
              "fillmode": "overlay",
              "size": 10,
              "solidity": 0.2
             }
            },
            "type": "bar"
           }
          ],
          "barpolar": [
           {
            "marker": {
             "line": {
              "color": "#E5ECF6",
              "width": 0.5
             },
             "pattern": {
              "fillmode": "overlay",
              "size": 10,
              "solidity": 0.2
             }
            },
            "type": "barpolar"
           }
          ],
          "carpet": [
           {
            "aaxis": {
             "endlinecolor": "#2a3f5f",
             "gridcolor": "white",
             "linecolor": "white",
             "minorgridcolor": "white",
             "startlinecolor": "#2a3f5f"
            },
            "baxis": {
             "endlinecolor": "#2a3f5f",
             "gridcolor": "white",
             "linecolor": "white",
             "minorgridcolor": "white",
             "startlinecolor": "#2a3f5f"
            },
            "type": "carpet"
           }
          ],
          "choropleth": [
           {
            "colorbar": {
             "outlinewidth": 0,
             "ticks": ""
            },
            "type": "choropleth"
           }
          ],
          "contour": [
           {
            "colorbar": {
             "outlinewidth": 0,
             "ticks": ""
            },
            "colorscale": [
             [
              0,
              "#0d0887"
             ],
             [
              0.1111111111111111,
              "#46039f"
             ],
             [
              0.2222222222222222,
              "#7201a8"
             ],
             [
              0.3333333333333333,
              "#9c179e"
             ],
             [
              0.4444444444444444,
              "#bd3786"
             ],
             [
              0.5555555555555556,
              "#d8576b"
             ],
             [
              0.6666666666666666,
              "#ed7953"
             ],
             [
              0.7777777777777778,
              "#fb9f3a"
             ],
             [
              0.8888888888888888,
              "#fdca26"
             ],
             [
              1,
              "#f0f921"
             ]
            ],
            "type": "contour"
           }
          ],
          "contourcarpet": [
           {
            "colorbar": {
             "outlinewidth": 0,
             "ticks": ""
            },
            "type": "contourcarpet"
           }
          ],
          "heatmap": [
           {
            "colorbar": {
             "outlinewidth": 0,
             "ticks": ""
            },
            "colorscale": [
             [
              0,
              "#0d0887"
             ],
             [
              0.1111111111111111,
              "#46039f"
             ],
             [
              0.2222222222222222,
              "#7201a8"
             ],
             [
              0.3333333333333333,
              "#9c179e"
             ],
             [
              0.4444444444444444,
              "#bd3786"
             ],
             [
              0.5555555555555556,
              "#d8576b"
             ],
             [
              0.6666666666666666,
              "#ed7953"
             ],
             [
              0.7777777777777778,
              "#fb9f3a"
             ],
             [
              0.8888888888888888,
              "#fdca26"
             ],
             [
              1,
              "#f0f921"
             ]
            ],
            "type": "heatmap"
           }
          ],
          "histogram": [
           {
            "marker": {
             "pattern": {
              "fillmode": "overlay",
              "size": 10,
              "solidity": 0.2
             }
            },
            "type": "histogram"
           }
          ],
          "histogram2d": [
           {
            "colorbar": {
             "outlinewidth": 0,
             "ticks": ""
            },
            "colorscale": [
             [
              0,
              "#0d0887"
             ],
             [
              0.1111111111111111,
              "#46039f"
             ],
             [
              0.2222222222222222,
              "#7201a8"
             ],
             [
              0.3333333333333333,
              "#9c179e"
             ],
             [
              0.4444444444444444,
              "#bd3786"
             ],
             [
              0.5555555555555556,
              "#d8576b"
             ],
             [
              0.6666666666666666,
              "#ed7953"
             ],
             [
              0.7777777777777778,
              "#fb9f3a"
             ],
             [
              0.8888888888888888,
              "#fdca26"
             ],
             [
              1,
              "#f0f921"
             ]
            ],
            "type": "histogram2d"
           }
          ],
          "histogram2dcontour": [
           {
            "colorbar": {
             "outlinewidth": 0,
             "ticks": ""
            },
            "colorscale": [
             [
              0,
              "#0d0887"
             ],
             [
              0.1111111111111111,
              "#46039f"
             ],
             [
              0.2222222222222222,
              "#7201a8"
             ],
             [
              0.3333333333333333,
              "#9c179e"
             ],
             [
              0.4444444444444444,
              "#bd3786"
             ],
             [
              0.5555555555555556,
              "#d8576b"
             ],
             [
              0.6666666666666666,
              "#ed7953"
             ],
             [
              0.7777777777777778,
              "#fb9f3a"
             ],
             [
              0.8888888888888888,
              "#fdca26"
             ],
             [
              1,
              "#f0f921"
             ]
            ],
            "type": "histogram2dcontour"
           }
          ],
          "mesh3d": [
           {
            "colorbar": {
             "outlinewidth": 0,
             "ticks": ""
            },
            "type": "mesh3d"
           }
          ],
          "parcoords": [
           {
            "line": {
             "colorbar": {
              "outlinewidth": 0,
              "ticks": ""
             }
            },
            "type": "parcoords"
           }
          ],
          "pie": [
           {
            "automargin": true,
            "type": "pie"
           }
          ],
          "scatter": [
           {
            "fillpattern": {
             "fillmode": "overlay",
             "size": 10,
             "solidity": 0.2
            },
            "type": "scatter"
           }
          ],
          "scatter3d": [
           {
            "line": {
             "colorbar": {
              "outlinewidth": 0,
              "ticks": ""
             }
            },
            "marker": {
             "colorbar": {
              "outlinewidth": 0,
              "ticks": ""
             }
            },
            "type": "scatter3d"
           }
          ],
          "scattercarpet": [
           {
            "marker": {
             "colorbar": {
              "outlinewidth": 0,
              "ticks": ""
             }
            },
            "type": "scattercarpet"
           }
          ],
          "scattergeo": [
           {
            "marker": {
             "colorbar": {
              "outlinewidth": 0,
              "ticks": ""
             }
            },
            "type": "scattergeo"
           }
          ],
          "scattergl": [
           {
            "marker": {
             "colorbar": {
              "outlinewidth": 0,
              "ticks": ""
             }
            },
            "type": "scattergl"
           }
          ],
          "scattermap": [
           {
            "marker": {
             "colorbar": {
              "outlinewidth": 0,
              "ticks": ""
             }
            },
            "type": "scattermap"
           }
          ],
          "scattermapbox": [
           {
            "marker": {
             "colorbar": {
              "outlinewidth": 0,
              "ticks": ""
             }
            },
            "type": "scattermapbox"
           }
          ],
          "scatterpolar": [
           {
            "marker": {
             "colorbar": {
              "outlinewidth": 0,
              "ticks": ""
             }
            },
            "type": "scatterpolar"
           }
          ],
          "scatterpolargl": [
           {
            "marker": {
             "colorbar": {
              "outlinewidth": 0,
              "ticks": ""
             }
            },
            "type": "scatterpolargl"
           }
          ],
          "scatterternary": [
           {
            "marker": {
             "colorbar": {
              "outlinewidth": 0,
              "ticks": ""
             }
            },
            "type": "scatterternary"
           }
          ],
          "surface": [
           {
            "colorbar": {
             "outlinewidth": 0,
             "ticks": ""
            },
            "colorscale": [
             [
              0,
              "#0d0887"
             ],
             [
              0.1111111111111111,
              "#46039f"
             ],
             [
              0.2222222222222222,
              "#7201a8"
             ],
             [
              0.3333333333333333,
              "#9c179e"
             ],
             [
              0.4444444444444444,
              "#bd3786"
             ],
             [
              0.5555555555555556,
              "#d8576b"
             ],
             [
              0.6666666666666666,
              "#ed7953"
             ],
             [
              0.7777777777777778,
              "#fb9f3a"
             ],
             [
              0.8888888888888888,
              "#fdca26"
             ],
             [
              1,
              "#f0f921"
             ]
            ],
            "type": "surface"
           }
          ],
          "table": [
           {
            "cells": {
             "fill": {
              "color": "#EBF0F8"
             },
             "line": {
              "color": "white"
             }
            },
            "header": {
             "fill": {
              "color": "#C8D4E3"
             },
             "line": {
              "color": "white"
             }
            },
            "type": "table"
           }
          ]
         },
         "layout": {
          "annotationdefaults": {
           "arrowcolor": "#2a3f5f",
           "arrowhead": 0,
           "arrowwidth": 1
          },
          "autotypenumbers": "strict",
          "coloraxis": {
           "colorbar": {
            "outlinewidth": 0,
            "ticks": ""
           }
          },
          "colorscale": {
           "diverging": [
            [
             0,
             "#8e0152"
            ],
            [
             0.1,
             "#c51b7d"
            ],
            [
             0.2,
             "#de77ae"
            ],
            [
             0.3,
             "#f1b6da"
            ],
            [
             0.4,
             "#fde0ef"
            ],
            [
             0.5,
             "#f7f7f7"
            ],
            [
             0.6,
             "#e6f5d0"
            ],
            [
             0.7,
             "#b8e186"
            ],
            [
             0.8,
             "#7fbc41"
            ],
            [
             0.9,
             "#4d9221"
            ],
            [
             1,
             "#276419"
            ]
           ],
           "sequential": [
            [
             0,
             "#0d0887"
            ],
            [
             0.1111111111111111,
             "#46039f"
            ],
            [
             0.2222222222222222,
             "#7201a8"
            ],
            [
             0.3333333333333333,
             "#9c179e"
            ],
            [
             0.4444444444444444,
             "#bd3786"
            ],
            [
             0.5555555555555556,
             "#d8576b"
            ],
            [
             0.6666666666666666,
             "#ed7953"
            ],
            [
             0.7777777777777778,
             "#fb9f3a"
            ],
            [
             0.8888888888888888,
             "#fdca26"
            ],
            [
             1,
             "#f0f921"
            ]
           ],
           "sequentialminus": [
            [
             0,
             "#0d0887"
            ],
            [
             0.1111111111111111,
             "#46039f"
            ],
            [
             0.2222222222222222,
             "#7201a8"
            ],
            [
             0.3333333333333333,
             "#9c179e"
            ],
            [
             0.4444444444444444,
             "#bd3786"
            ],
            [
             0.5555555555555556,
             "#d8576b"
            ],
            [
             0.6666666666666666,
             "#ed7953"
            ],
            [
             0.7777777777777778,
             "#fb9f3a"
            ],
            [
             0.8888888888888888,
             "#fdca26"
            ],
            [
             1,
             "#f0f921"
            ]
           ]
          },
          "colorway": [
           "#636efa",
           "#EF553B",
           "#00cc96",
           "#ab63fa",
           "#FFA15A",
           "#19d3f3",
           "#FF6692",
           "#B6E880",
           "#FF97FF",
           "#FECB52"
          ],
          "font": {
           "color": "#2a3f5f"
          },
          "geo": {
           "bgcolor": "white",
           "lakecolor": "white",
           "landcolor": "#E5ECF6",
           "showlakes": true,
           "showland": true,
           "subunitcolor": "white"
          },
          "hoverlabel": {
           "align": "left"
          },
          "hovermode": "closest",
          "mapbox": {
           "style": "light"
          },
          "paper_bgcolor": "white",
          "plot_bgcolor": "#E5ECF6",
          "polar": {
           "angularaxis": {
            "gridcolor": "white",
            "linecolor": "white",
            "ticks": ""
           },
           "bgcolor": "#E5ECF6",
           "radialaxis": {
            "gridcolor": "white",
            "linecolor": "white",
            "ticks": ""
           }
          },
          "scene": {
           "xaxis": {
            "backgroundcolor": "#E5ECF6",
            "gridcolor": "white",
            "gridwidth": 2,
            "linecolor": "white",
            "showbackground": true,
            "ticks": "",
            "zerolinecolor": "white"
           },
           "yaxis": {
            "backgroundcolor": "#E5ECF6",
            "gridcolor": "white",
            "gridwidth": 2,
            "linecolor": "white",
            "showbackground": true,
            "ticks": "",
            "zerolinecolor": "white"
           },
           "zaxis": {
            "backgroundcolor": "#E5ECF6",
            "gridcolor": "white",
            "gridwidth": 2,
            "linecolor": "white",
            "showbackground": true,
            "ticks": "",
            "zerolinecolor": "white"
           }
          },
          "shapedefaults": {
           "line": {
            "color": "#2a3f5f"
           }
          },
          "ternary": {
           "aaxis": {
            "gridcolor": "white",
            "linecolor": "white",
            "ticks": ""
           },
           "baxis": {
            "gridcolor": "white",
            "linecolor": "white",
            "ticks": ""
           },
           "bgcolor": "#E5ECF6",
           "caxis": {
            "gridcolor": "white",
            "linecolor": "white",
            "ticks": ""
           }
          },
          "title": {
           "x": 0.05
          },
          "xaxis": {
           "automargin": true,
           "gridcolor": "white",
           "linecolor": "white",
           "ticks": "",
           "title": {
            "standoff": 15
           },
           "zerolinecolor": "white",
           "zerolinewidth": 2
          },
          "yaxis": {
           "automargin": true,
           "gridcolor": "white",
           "linecolor": "white",
           "ticks": "",
           "title": {
            "standoff": 15
           },
           "zerolinecolor": "white",
           "zerolinewidth": 2
          }
         }
        },
        "width": 1200,
        "xaxis": {
         "anchor": "y",
         "domain": [
          0,
          0.2888888888888889
         ],
         "title": {
          "text": "Steps"
         }
        },
        "xaxis2": {
         "anchor": "y2",
         "domain": [
          0.35555555555555557,
          0.6444444444444445
         ],
         "title": {
          "text": "Steps"
         }
        },
        "xaxis3": {
         "anchor": "y3",
         "domain": [
          0.7111111111111111,
          1
         ],
         "title": {
          "text": "Steps"
         }
        },
        "yaxis": {
         "anchor": "x",
         "domain": [
          0,
          1
         ],
         "title": {
          "text": "Accuracy"
         }
        },
        "yaxis2": {
         "anchor": "x2",
         "domain": [
          0,
          1
         ],
         "matches": "y",
         "showticklabels": false
        },
        "yaxis3": {
         "anchor": "x3",
         "domain": [
          0,
          1
         ],
         "matches": "y",
         "showticklabels": false
        }
       }
      }
     },
     "metadata": {},
     "output_type": "display_data"
    }
   ],
   "source": [
    "\n",
    "from pcam.utils import plot_results_plotly\n",
    "\n",
    "plot_results_plotly(sorted_list=['Pretrained_ImageNet-aug-128000_spc-15000_steps','Pretrained_ImageNet-aug-51200_spc-2000_steps'], stats=supervised_stats)\n",
    "\n",
    "plot_results_plotly(sorted_list=['Pretrained_ImageNet-aug-51200_spc-2000_steps',\n",
    "                          'Pretrained_ImageNet-aug-25600_spc-2000_steps',\n",
    "                          'Pretrained_ImageNet-aug-12800_spc-2000_steps'], stats=supervised_stats)\n",
    "\n",
    "plot_results_plotly(sorted_list=['Pretrained_ImageNet-notr-51200_spc-2000_steps',\n",
    "                          'Pretrained_ImageNet-notr-25600_spc-2000_steps',\n",
    "                          'Pretrained_ImageNet-notr-12800_spc-2000_steps'], stats=supervised_stats)\n",
    "                          "
   ]
  },
  {
   "cell_type": "code",
   "execution_count": 7,
   "metadata": {},
   "outputs": [
    {
     "data": {
      "application/vnd.plotly.v1+json": {
       "config": {
        "plotlyServerURL": "https://plot.ly"
       },
       "data": [
        {
         "legendgroup": "From_Scratch-aug-128000_spc-15000_steps_v_0-version_1",
         "line": {
          "color": "blue"
         },
         "mode": "lines",
         "name": "Val: v_0-version_1",
         "showlegend": true,
         "type": "scatter",
         "x": [
          499,
          999,
          1499,
          1999,
          2499,
          2999,
          3499,
          3999,
          4499,
          4999,
          5499,
          5999,
          6499,
          6999,
          7499,
          7999,
          8499,
          8999,
          9499,
          9999,
          10499,
          10999,
          11499,
          11999,
          12499,
          12999,
          13499,
          13999,
          14499,
          14999
         ],
         "xaxis": "x",
         "y": [
          0.76763916015625,
          0.794189453125,
          0.7926025390625,
          0.807281494140625,
          0.8140869140625,
          0.813568115234375,
          0.815673828125,
          0.800323486328125,
          0.810760498046875,
          0.812744140625,
          0.800750732421875,
          0.82489013671875,
          0.82464599609375,
          0.82244873046875,
          0.821380615234375,
          0.82080078125,
          0.820709228515625,
          0.823028564453125,
          0.82281494140625,
          0.8212890625,
          0.823333740234375,
          0.823638916015625,
          0.822021484375,
          0.822265625,
          0.821044921875,
          0.822235107421875,
          0.823486328125,
          0.81951904296875,
          0.8214111328125,
          0.81976318359375
         ],
         "yaxis": "y"
        },
        {
         "legendgroup": "From_Scratch-aug-128000_spc-15000_steps_v_0-version_1",
         "line": {
          "color": "blue",
          "dash": "dash"
         },
         "mode": "lines",
         "name": "Test: v_0-version_1",
         "showlegend": true,
         "type": "scatter",
         "x": [
          499,
          14999
         ],
         "xaxis": "x",
         "y": [
          0.8038330078125,
          0.8038330078125
         ],
         "yaxis": "y"
        },
        {
         "legendgroup": "From_Scratch-aug-51200_spc-2000_steps_v_0-version_1",
         "line": {
          "color": "blue"
         },
         "mode": "lines",
         "name": "Val: v_0-version_1",
         "showlegend": false,
         "type": "scatter",
         "x": [
          199,
          399,
          599,
          799,
          999,
          1199,
          1399,
          1599,
          1799,
          1999
         ],
         "xaxis": "x2",
         "y": [
          0.7717999815940857,
          0.7844666838645935,
          0.7769333124160767,
          0.796999990940094,
          0.8020666837692261,
          0.7970666885375977,
          0.8022666573524475,
          0.8100000023841858,
          0.7909333109855652,
          0.8136000037193298
         ],
         "yaxis": "y2"
        },
        {
         "legendgroup": "From_Scratch-aug-51200_spc-2000_steps_v_0-version_1",
         "line": {
          "color": "blue",
          "dash": "dash"
         },
         "mode": "lines",
         "name": "Test: v_0-version_1",
         "showlegend": false,
         "type": "scatter",
         "x": [
          199,
          1999
         ],
         "xaxis": "x2",
         "y": [
          0.81231689453125,
          0.81231689453125
         ],
         "yaxis": "y2"
        },
        {
         "legendgroup": "From_Scratch-aug-51200_spc-2000_steps_v_1-version_1",
         "line": {
          "color": "green"
         },
         "mode": "lines",
         "name": "Val: v_1-version_1",
         "showlegend": false,
         "type": "scatter",
         "x": [
          199,
          399,
          599,
          799,
          999,
          1199,
          1399,
          1599,
          1799,
          1999
         ],
         "xaxis": "x2",
         "y": [
          0.8001999855041504,
          0.7892666459083557,
          0.7599999904632568,
          0.8003333210945129,
          0.791533350944519,
          0.7817333340644836,
          0.7845333218574524,
          0.776199996471405,
          0.7738666534423828,
          0.7734666466712952
         ],
         "yaxis": "y2"
        },
        {
         "legendgroup": "From_Scratch-aug-51200_spc-2000_steps_v_1-version_1",
         "line": {
          "color": "green",
          "dash": "dash"
         },
         "mode": "lines",
         "name": "Test: v_1-version_1",
         "showlegend": false,
         "type": "scatter",
         "x": [
          199,
          1999
         ],
         "xaxis": "x2",
         "y": [
          0.774688720703125,
          0.774688720703125
         ],
         "yaxis": "y2"
        },
        {
         "legendgroup": "From_Scratch-aug-51200_spc-2000_steps_v_2-version_1",
         "line": {
          "color": "red"
         },
         "mode": "lines",
         "name": "Val: v_2-version_1",
         "showlegend": false,
         "type": "scatter",
         "x": [
          199,
          399,
          599,
          799,
          999,
          1199,
          1399,
          1599,
          1799,
          1999
         ],
         "xaxis": "x2",
         "y": [
          0.7738666534423828,
          0.7910000085830688,
          0.800266683101654,
          0.7991999983787537,
          0.8020666837692261,
          0.8001333475112915,
          0.7698000073432922,
          0.76173335313797,
          0.7744666934013367,
          0.7738000154495239
         ],
         "yaxis": "y2"
        },
        {
         "legendgroup": "From_Scratch-aug-51200_spc-2000_steps_v_2-version_1",
         "line": {
          "color": "red",
          "dash": "dash"
         },
         "mode": "lines",
         "name": "Test: v_2-version_1",
         "showlegend": false,
         "type": "scatter",
         "x": [
          199,
          1999
         ],
         "xaxis": "x2",
         "y": [
          0.755950927734375,
          0.755950927734375
         ],
         "yaxis": "y2"
        }
       ],
       "layout": {
        "annotations": [
         {
          "font": {
           "size": 12
          },
          "showarrow": false,
          "text": "From_Scratch-aug-128000_spc-15000_steps",
          "x": 0.225,
          "xanchor": "center",
          "xref": "paper",
          "y": 1,
          "yanchor": "bottom",
          "yref": "paper"
         },
         {
          "font": {
           "size": 12
          },
          "showarrow": false,
          "text": "From_Scratch-aug-51200_spc-2000_steps",
          "x": 0.775,
          "xanchor": "center",
          "xref": "paper",
          "y": 1,
          "yanchor": "bottom",
          "yref": "paper"
         }
        ],
        "font": {
         "size": 10
        },
        "height": 400,
        "template": {
         "data": {
          "bar": [
           {
            "error_x": {
             "color": "#2a3f5f"
            },
            "error_y": {
             "color": "#2a3f5f"
            },
            "marker": {
             "line": {
              "color": "#E5ECF6",
              "width": 0.5
             },
             "pattern": {
              "fillmode": "overlay",
              "size": 10,
              "solidity": 0.2
             }
            },
            "type": "bar"
           }
          ],
          "barpolar": [
           {
            "marker": {
             "line": {
              "color": "#E5ECF6",
              "width": 0.5
             },
             "pattern": {
              "fillmode": "overlay",
              "size": 10,
              "solidity": 0.2
             }
            },
            "type": "barpolar"
           }
          ],
          "carpet": [
           {
            "aaxis": {
             "endlinecolor": "#2a3f5f",
             "gridcolor": "white",
             "linecolor": "white",
             "minorgridcolor": "white",
             "startlinecolor": "#2a3f5f"
            },
            "baxis": {
             "endlinecolor": "#2a3f5f",
             "gridcolor": "white",
             "linecolor": "white",
             "minorgridcolor": "white",
             "startlinecolor": "#2a3f5f"
            },
            "type": "carpet"
           }
          ],
          "choropleth": [
           {
            "colorbar": {
             "outlinewidth": 0,
             "ticks": ""
            },
            "type": "choropleth"
           }
          ],
          "contour": [
           {
            "colorbar": {
             "outlinewidth": 0,
             "ticks": ""
            },
            "colorscale": [
             [
              0,
              "#0d0887"
             ],
             [
              0.1111111111111111,
              "#46039f"
             ],
             [
              0.2222222222222222,
              "#7201a8"
             ],
             [
              0.3333333333333333,
              "#9c179e"
             ],
             [
              0.4444444444444444,
              "#bd3786"
             ],
             [
              0.5555555555555556,
              "#d8576b"
             ],
             [
              0.6666666666666666,
              "#ed7953"
             ],
             [
              0.7777777777777778,
              "#fb9f3a"
             ],
             [
              0.8888888888888888,
              "#fdca26"
             ],
             [
              1,
              "#f0f921"
             ]
            ],
            "type": "contour"
           }
          ],
          "contourcarpet": [
           {
            "colorbar": {
             "outlinewidth": 0,
             "ticks": ""
            },
            "type": "contourcarpet"
           }
          ],
          "heatmap": [
           {
            "colorbar": {
             "outlinewidth": 0,
             "ticks": ""
            },
            "colorscale": [
             [
              0,
              "#0d0887"
             ],
             [
              0.1111111111111111,
              "#46039f"
             ],
             [
              0.2222222222222222,
              "#7201a8"
             ],
             [
              0.3333333333333333,
              "#9c179e"
             ],
             [
              0.4444444444444444,
              "#bd3786"
             ],
             [
              0.5555555555555556,
              "#d8576b"
             ],
             [
              0.6666666666666666,
              "#ed7953"
             ],
             [
              0.7777777777777778,
              "#fb9f3a"
             ],
             [
              0.8888888888888888,
              "#fdca26"
             ],
             [
              1,
              "#f0f921"
             ]
            ],
            "type": "heatmap"
           }
          ],
          "histogram": [
           {
            "marker": {
             "pattern": {
              "fillmode": "overlay",
              "size": 10,
              "solidity": 0.2
             }
            },
            "type": "histogram"
           }
          ],
          "histogram2d": [
           {
            "colorbar": {
             "outlinewidth": 0,
             "ticks": ""
            },
            "colorscale": [
             [
              0,
              "#0d0887"
             ],
             [
              0.1111111111111111,
              "#46039f"
             ],
             [
              0.2222222222222222,
              "#7201a8"
             ],
             [
              0.3333333333333333,
              "#9c179e"
             ],
             [
              0.4444444444444444,
              "#bd3786"
             ],
             [
              0.5555555555555556,
              "#d8576b"
             ],
             [
              0.6666666666666666,
              "#ed7953"
             ],
             [
              0.7777777777777778,
              "#fb9f3a"
             ],
             [
              0.8888888888888888,
              "#fdca26"
             ],
             [
              1,
              "#f0f921"
             ]
            ],
            "type": "histogram2d"
           }
          ],
          "histogram2dcontour": [
           {
            "colorbar": {
             "outlinewidth": 0,
             "ticks": ""
            },
            "colorscale": [
             [
              0,
              "#0d0887"
             ],
             [
              0.1111111111111111,
              "#46039f"
             ],
             [
              0.2222222222222222,
              "#7201a8"
             ],
             [
              0.3333333333333333,
              "#9c179e"
             ],
             [
              0.4444444444444444,
              "#bd3786"
             ],
             [
              0.5555555555555556,
              "#d8576b"
             ],
             [
              0.6666666666666666,
              "#ed7953"
             ],
             [
              0.7777777777777778,
              "#fb9f3a"
             ],
             [
              0.8888888888888888,
              "#fdca26"
             ],
             [
              1,
              "#f0f921"
             ]
            ],
            "type": "histogram2dcontour"
           }
          ],
          "mesh3d": [
           {
            "colorbar": {
             "outlinewidth": 0,
             "ticks": ""
            },
            "type": "mesh3d"
           }
          ],
          "parcoords": [
           {
            "line": {
             "colorbar": {
              "outlinewidth": 0,
              "ticks": ""
             }
            },
            "type": "parcoords"
           }
          ],
          "pie": [
           {
            "automargin": true,
            "type": "pie"
           }
          ],
          "scatter": [
           {
            "fillpattern": {
             "fillmode": "overlay",
             "size": 10,
             "solidity": 0.2
            },
            "type": "scatter"
           }
          ],
          "scatter3d": [
           {
            "line": {
             "colorbar": {
              "outlinewidth": 0,
              "ticks": ""
             }
            },
            "marker": {
             "colorbar": {
              "outlinewidth": 0,
              "ticks": ""
             }
            },
            "type": "scatter3d"
           }
          ],
          "scattercarpet": [
           {
            "marker": {
             "colorbar": {
              "outlinewidth": 0,
              "ticks": ""
             }
            },
            "type": "scattercarpet"
           }
          ],
          "scattergeo": [
           {
            "marker": {
             "colorbar": {
              "outlinewidth": 0,
              "ticks": ""
             }
            },
            "type": "scattergeo"
           }
          ],
          "scattergl": [
           {
            "marker": {
             "colorbar": {
              "outlinewidth": 0,
              "ticks": ""
             }
            },
            "type": "scattergl"
           }
          ],
          "scattermap": [
           {
            "marker": {
             "colorbar": {
              "outlinewidth": 0,
              "ticks": ""
             }
            },
            "type": "scattermap"
           }
          ],
          "scattermapbox": [
           {
            "marker": {
             "colorbar": {
              "outlinewidth": 0,
              "ticks": ""
             }
            },
            "type": "scattermapbox"
           }
          ],
          "scatterpolar": [
           {
            "marker": {
             "colorbar": {
              "outlinewidth": 0,
              "ticks": ""
             }
            },
            "type": "scatterpolar"
           }
          ],
          "scatterpolargl": [
           {
            "marker": {
             "colorbar": {
              "outlinewidth": 0,
              "ticks": ""
             }
            },
            "type": "scatterpolargl"
           }
          ],
          "scatterternary": [
           {
            "marker": {
             "colorbar": {
              "outlinewidth": 0,
              "ticks": ""
             }
            },
            "type": "scatterternary"
           }
          ],
          "surface": [
           {
            "colorbar": {
             "outlinewidth": 0,
             "ticks": ""
            },
            "colorscale": [
             [
              0,
              "#0d0887"
             ],
             [
              0.1111111111111111,
              "#46039f"
             ],
             [
              0.2222222222222222,
              "#7201a8"
             ],
             [
              0.3333333333333333,
              "#9c179e"
             ],
             [
              0.4444444444444444,
              "#bd3786"
             ],
             [
              0.5555555555555556,
              "#d8576b"
             ],
             [
              0.6666666666666666,
              "#ed7953"
             ],
             [
              0.7777777777777778,
              "#fb9f3a"
             ],
             [
              0.8888888888888888,
              "#fdca26"
             ],
             [
              1,
              "#f0f921"
             ]
            ],
            "type": "surface"
           }
          ],
          "table": [
           {
            "cells": {
             "fill": {
              "color": "#EBF0F8"
             },
             "line": {
              "color": "white"
             }
            },
            "header": {
             "fill": {
              "color": "#C8D4E3"
             },
             "line": {
              "color": "white"
             }
            },
            "type": "table"
           }
          ]
         },
         "layout": {
          "annotationdefaults": {
           "arrowcolor": "#2a3f5f",
           "arrowhead": 0,
           "arrowwidth": 1
          },
          "autotypenumbers": "strict",
          "coloraxis": {
           "colorbar": {
            "outlinewidth": 0,
            "ticks": ""
           }
          },
          "colorscale": {
           "diverging": [
            [
             0,
             "#8e0152"
            ],
            [
             0.1,
             "#c51b7d"
            ],
            [
             0.2,
             "#de77ae"
            ],
            [
             0.3,
             "#f1b6da"
            ],
            [
             0.4,
             "#fde0ef"
            ],
            [
             0.5,
             "#f7f7f7"
            ],
            [
             0.6,
             "#e6f5d0"
            ],
            [
             0.7,
             "#b8e186"
            ],
            [
             0.8,
             "#7fbc41"
            ],
            [
             0.9,
             "#4d9221"
            ],
            [
             1,
             "#276419"
            ]
           ],
           "sequential": [
            [
             0,
             "#0d0887"
            ],
            [
             0.1111111111111111,
             "#46039f"
            ],
            [
             0.2222222222222222,
             "#7201a8"
            ],
            [
             0.3333333333333333,
             "#9c179e"
            ],
            [
             0.4444444444444444,
             "#bd3786"
            ],
            [
             0.5555555555555556,
             "#d8576b"
            ],
            [
             0.6666666666666666,
             "#ed7953"
            ],
            [
             0.7777777777777778,
             "#fb9f3a"
            ],
            [
             0.8888888888888888,
             "#fdca26"
            ],
            [
             1,
             "#f0f921"
            ]
           ],
           "sequentialminus": [
            [
             0,
             "#0d0887"
            ],
            [
             0.1111111111111111,
             "#46039f"
            ],
            [
             0.2222222222222222,
             "#7201a8"
            ],
            [
             0.3333333333333333,
             "#9c179e"
            ],
            [
             0.4444444444444444,
             "#bd3786"
            ],
            [
             0.5555555555555556,
             "#d8576b"
            ],
            [
             0.6666666666666666,
             "#ed7953"
            ],
            [
             0.7777777777777778,
             "#fb9f3a"
            ],
            [
             0.8888888888888888,
             "#fdca26"
            ],
            [
             1,
             "#f0f921"
            ]
           ]
          },
          "colorway": [
           "#636efa",
           "#EF553B",
           "#00cc96",
           "#ab63fa",
           "#FFA15A",
           "#19d3f3",
           "#FF6692",
           "#B6E880",
           "#FF97FF",
           "#FECB52"
          ],
          "font": {
           "color": "#2a3f5f"
          },
          "geo": {
           "bgcolor": "white",
           "lakecolor": "white",
           "landcolor": "#E5ECF6",
           "showlakes": true,
           "showland": true,
           "subunitcolor": "white"
          },
          "hoverlabel": {
           "align": "left"
          },
          "hovermode": "closest",
          "mapbox": {
           "style": "light"
          },
          "paper_bgcolor": "white",
          "plot_bgcolor": "#E5ECF6",
          "polar": {
           "angularaxis": {
            "gridcolor": "white",
            "linecolor": "white",
            "ticks": ""
           },
           "bgcolor": "#E5ECF6",
           "radialaxis": {
            "gridcolor": "white",
            "linecolor": "white",
            "ticks": ""
           }
          },
          "scene": {
           "xaxis": {
            "backgroundcolor": "#E5ECF6",
            "gridcolor": "white",
            "gridwidth": 2,
            "linecolor": "white",
            "showbackground": true,
            "ticks": "",
            "zerolinecolor": "white"
           },
           "yaxis": {
            "backgroundcolor": "#E5ECF6",
            "gridcolor": "white",
            "gridwidth": 2,
            "linecolor": "white",
            "showbackground": true,
            "ticks": "",
            "zerolinecolor": "white"
           },
           "zaxis": {
            "backgroundcolor": "#E5ECF6",
            "gridcolor": "white",
            "gridwidth": 2,
            "linecolor": "white",
            "showbackground": true,
            "ticks": "",
            "zerolinecolor": "white"
           }
          },
          "shapedefaults": {
           "line": {
            "color": "#2a3f5f"
           }
          },
          "ternary": {
           "aaxis": {
            "gridcolor": "white",
            "linecolor": "white",
            "ticks": ""
           },
           "baxis": {
            "gridcolor": "white",
            "linecolor": "white",
            "ticks": ""
           },
           "bgcolor": "#E5ECF6",
           "caxis": {
            "gridcolor": "white",
            "linecolor": "white",
            "ticks": ""
           }
          },
          "title": {
           "x": 0.05
          },
          "xaxis": {
           "automargin": true,
           "gridcolor": "white",
           "linecolor": "white",
           "ticks": "",
           "title": {
            "standoff": 15
           },
           "zerolinecolor": "white",
           "zerolinewidth": 2
          },
          "yaxis": {
           "automargin": true,
           "gridcolor": "white",
           "linecolor": "white",
           "ticks": "",
           "title": {
            "standoff": 15
           },
           "zerolinecolor": "white",
           "zerolinewidth": 2
          }
         }
        },
        "width": 800,
        "xaxis": {
         "anchor": "y",
         "domain": [
          0,
          0.45
         ],
         "title": {
          "text": "Steps"
         }
        },
        "xaxis2": {
         "anchor": "y2",
         "domain": [
          0.55,
          1
         ],
         "title": {
          "text": "Steps"
         }
        },
        "yaxis": {
         "anchor": "x",
         "domain": [
          0,
          1
         ],
         "title": {
          "text": "Accuracy"
         }
        },
        "yaxis2": {
         "anchor": "x2",
         "domain": [
          0,
          1
         ],
         "matches": "y",
         "showticklabels": false
        }
       }
      }
     },
     "metadata": {},
     "output_type": "display_data"
    },
    {
     "data": {
      "application/vnd.plotly.v1+json": {
       "config": {
        "plotlyServerURL": "https://plot.ly"
       },
       "data": [
        {
         "legendgroup": "From_Scratch-aug-51200_spc-2000_steps_v_0-version_1",
         "line": {
          "color": "blue"
         },
         "mode": "lines",
         "name": "Val: v_0-version_1",
         "showlegend": true,
         "type": "scatter",
         "x": [
          199,
          399,
          599,
          799,
          999,
          1199,
          1399,
          1599,
          1799,
          1999
         ],
         "xaxis": "x",
         "y": [
          0.7717999815940857,
          0.7844666838645935,
          0.7769333124160767,
          0.796999990940094,
          0.8020666837692261,
          0.7970666885375977,
          0.8022666573524475,
          0.8100000023841858,
          0.7909333109855652,
          0.8136000037193298
         ],
         "yaxis": "y"
        },
        {
         "legendgroup": "From_Scratch-aug-51200_spc-2000_steps_v_0-version_1",
         "line": {
          "color": "blue",
          "dash": "dash"
         },
         "mode": "lines",
         "name": "Test: v_0-version_1",
         "showlegend": true,
         "type": "scatter",
         "x": [
          199,
          1999
         ],
         "xaxis": "x",
         "y": [
          0.81231689453125,
          0.81231689453125
         ],
         "yaxis": "y"
        },
        {
         "legendgroup": "From_Scratch-aug-51200_spc-2000_steps_v_1-version_1",
         "line": {
          "color": "green"
         },
         "mode": "lines",
         "name": "Val: v_1-version_1",
         "showlegend": true,
         "type": "scatter",
         "x": [
          199,
          399,
          599,
          799,
          999,
          1199,
          1399,
          1599,
          1799,
          1999
         ],
         "xaxis": "x",
         "y": [
          0.8001999855041504,
          0.7892666459083557,
          0.7599999904632568,
          0.8003333210945129,
          0.791533350944519,
          0.7817333340644836,
          0.7845333218574524,
          0.776199996471405,
          0.7738666534423828,
          0.7734666466712952
         ],
         "yaxis": "y"
        },
        {
         "legendgroup": "From_Scratch-aug-51200_spc-2000_steps_v_1-version_1",
         "line": {
          "color": "green",
          "dash": "dash"
         },
         "mode": "lines",
         "name": "Test: v_1-version_1",
         "showlegend": true,
         "type": "scatter",
         "x": [
          199,
          1999
         ],
         "xaxis": "x",
         "y": [
          0.774688720703125,
          0.774688720703125
         ],
         "yaxis": "y"
        },
        {
         "legendgroup": "From_Scratch-aug-51200_spc-2000_steps_v_2-version_1",
         "line": {
          "color": "red"
         },
         "mode": "lines",
         "name": "Val: v_2-version_1",
         "showlegend": true,
         "type": "scatter",
         "x": [
          199,
          399,
          599,
          799,
          999,
          1199,
          1399,
          1599,
          1799,
          1999
         ],
         "xaxis": "x",
         "y": [
          0.7738666534423828,
          0.7910000085830688,
          0.800266683101654,
          0.7991999983787537,
          0.8020666837692261,
          0.8001333475112915,
          0.7698000073432922,
          0.76173335313797,
          0.7744666934013367,
          0.7738000154495239
         ],
         "yaxis": "y"
        },
        {
         "legendgroup": "From_Scratch-aug-51200_spc-2000_steps_v_2-version_1",
         "line": {
          "color": "red",
          "dash": "dash"
         },
         "mode": "lines",
         "name": "Test: v_2-version_1",
         "showlegend": true,
         "type": "scatter",
         "x": [
          199,
          1999
         ],
         "xaxis": "x",
         "y": [
          0.755950927734375,
          0.755950927734375
         ],
         "yaxis": "y"
        },
        {
         "legendgroup": "From_Scratch-aug-25600_spc-2000_steps_v_0-version_1",
         "line": {
          "color": "blue"
         },
         "mode": "lines",
         "name": "Val: v_0-version_1",
         "showlegend": false,
         "type": "scatter",
         "x": [
          99,
          199,
          299,
          399,
          499,
          599,
          699,
          799,
          899,
          999,
          1099,
          1199,
          1299,
          1399,
          1499,
          1599,
          1699,
          1799,
          1899,
          1999
         ],
         "xaxis": "x2",
         "y": [
          0.7619333267211914,
          0.7946666479110718,
          0.783133327960968,
          0.7880666851997375,
          0.783133327960968,
          0.7843999862670898,
          0.7961333394050598,
          0.7985333204269409,
          0.7973999977111816,
          0.7854666709899902,
          0.7986000180244446,
          0.8003333210945129,
          0.8012666702270508,
          0.8017333149909973,
          0.7993999719619751,
          0.8046666383743286,
          0.8023999929428101,
          0.8014666438102722,
          0.8024666905403137,
          0.8015333414077759
         ],
         "yaxis": "y2"
        },
        {
         "legendgroup": "From_Scratch-aug-25600_spc-2000_steps_v_0-version_1",
         "line": {
          "color": "blue",
          "dash": "dash"
         },
         "mode": "lines",
         "name": "Test: v_0-version_1",
         "showlegend": false,
         "type": "scatter",
         "x": [
          99,
          1999
         ],
         "xaxis": "x2",
         "y": [
          0.790679931640625,
          0.790679931640625
         ],
         "yaxis": "y2"
        },
        {
         "legendgroup": "From_Scratch-aug-25600_spc-2000_steps_v_1-version_1",
         "line": {
          "color": "green"
         },
         "mode": "lines",
         "name": "Val: v_1-version_1",
         "showlegend": false,
         "type": "scatter",
         "x": [
          99,
          199,
          299,
          399,
          499,
          599,
          699,
          799,
          899,
          999,
          1099,
          1199,
          1299,
          1399,
          1499,
          1599,
          1699,
          1799,
          1899,
          1999
         ],
         "xaxis": "x2",
         "y": [
          0.7771333456039429,
          0.7390666604042053,
          0.7978666424751282,
          0.762666642665863,
          0.8008666634559631,
          0.7352666854858398,
          0.7509333491325378,
          0.7850000262260437,
          0.7771999835968018,
          0.7724000215530396,
          0.760866641998291,
          0.76419997215271,
          0.7661333084106445,
          0.7654666900634766,
          0.7669333219528198,
          0.7675999999046326,
          0.7683333158493042,
          0.7674000263214111,
          0.7670666575431824,
          0.7681333422660828
         ],
         "yaxis": "y2"
        },
        {
         "legendgroup": "From_Scratch-aug-25600_spc-2000_steps_v_1-version_1",
         "line": {
          "color": "green",
          "dash": "dash"
         },
         "mode": "lines",
         "name": "Test: v_1-version_1",
         "showlegend": false,
         "type": "scatter",
         "x": [
          99,
          1999
         ],
         "xaxis": "x2",
         "y": [
          0.76055908203125,
          0.76055908203125
         ],
         "yaxis": "y2"
        },
        {
         "legendgroup": "From_Scratch-aug-25600_spc-2000_steps_v_2-version_1",
         "line": {
          "color": "red"
         },
         "mode": "lines",
         "name": "Val: v_2-version_1",
         "showlegend": false,
         "type": "scatter",
         "x": [
          99,
          199,
          299,
          399,
          499,
          599,
          699,
          799,
          899,
          999,
          1099,
          1199,
          1299,
          1399,
          1499,
          1599,
          1699,
          1799,
          1899,
          1999
         ],
         "xaxis": "x2",
         "y": [
          0.7938666939735413,
          0.7809333205223083,
          0.8055999875068665,
          0.7716666460037231,
          0.7796666622161865,
          0.7426000237464905,
          0.7613999843597412,
          0.772599995136261,
          0.7666000127792358,
          0.7730666399002075,
          0.7702666521072388,
          0.7737333178520203,
          0.7706666588783264,
          0.7703333497047424,
          0.7699999809265137,
          0.769266664981842,
          0.7698666453361511,
          0.7703333497047424,
          0.7700666785240173,
          0.7717999815940857
         ],
         "yaxis": "y2"
        },
        {
         "legendgroup": "From_Scratch-aug-25600_spc-2000_steps_v_2-version_1",
         "line": {
          "color": "red",
          "dash": "dash"
         },
         "mode": "lines",
         "name": "Test: v_2-version_1",
         "showlegend": false,
         "type": "scatter",
         "x": [
          99,
          1999
         ],
         "xaxis": "x2",
         "y": [
          0.74090576171875,
          0.74090576171875
         ],
         "yaxis": "y2"
        },
        {
         "legendgroup": "From_Scratch-aug-12800_spc-2000_steps_v_0-version_3",
         "line": {
          "color": "blue"
         },
         "mode": "lines",
         "name": "Val: v_0-version_3",
         "showlegend": false,
         "type": "scatter",
         "x": [
          49,
          99,
          149,
          199,
          249,
          299,
          349,
          399,
          449,
          499,
          549,
          599,
          649,
          699,
          749,
          799,
          849,
          899,
          949,
          999,
          1049,
          1099,
          1149,
          1199,
          1249,
          1299,
          1349,
          1399,
          1449,
          1499,
          1549,
          1599,
          1649,
          1699,
          1749,
          1799,
          1849,
          1899,
          1949,
          1999
         ],
         "xaxis": "x3",
         "y": [
          0.7637333273887634,
          0.7819333076477051,
          0.7705333232879639,
          0.7675999999046326,
          0.7706000208854675,
          0.7707333564758301,
          0.7910000085830688,
          0.7972000241279602,
          0.7955999970436096,
          0.7950666546821594,
          0.7964666485786438,
          0.7957333326339722,
          0.7924666404724121,
          0.7942666411399841,
          0.7918000221252441,
          0.7916666865348816,
          0.7887333035469055,
          0.790066659450531,
          0.7896000146865845,
          0.7898666858673096,
          0.7898666858673096,
          0.7908666729927063,
          0.7896000146865845,
          0.789733350276947,
          0.7900000214576721,
          0.7896666526794434,
          0.7893333435058594,
          0.7902666926383972,
          0.7904666662216187,
          0.7899333238601685,
          0.7907999753952026,
          0.7909333109855652,
          0.7899333238601685,
          0.7896000146865845,
          0.7897999882698059,
          0.7907333374023438,
          0.7897999882698059,
          0.7904000282287598,
          0.7893333435058594,
          0.7896000146865845
         ],
         "yaxis": "y3"
        },
        {
         "legendgroup": "From_Scratch-aug-12800_spc-2000_steps_v_0-version_3",
         "line": {
          "color": "blue",
          "dash": "dash"
         },
         "mode": "lines",
         "name": "Test: v_0-version_3",
         "showlegend": false,
         "type": "scatter",
         "x": [
          49,
          1999
         ],
         "xaxis": "x3",
         "y": [
          0.788970947265625,
          0.788970947265625
         ],
         "yaxis": "y3"
        },
        {
         "legendgroup": "From_Scratch-aug-12800_spc-2000_steps_v_1-version_1",
         "line": {
          "color": "green"
         },
         "mode": "lines",
         "name": "Val: v_1-version_1",
         "showlegend": false,
         "type": "scatter",
         "x": [
          49,
          99,
          149,
          199,
          249,
          299,
          349,
          399,
          449,
          499,
          549,
          599,
          649,
          699,
          749,
          799,
          849,
          899,
          949,
          999,
          1049,
          1099,
          1149,
          1199,
          1249,
          1299,
          1349,
          1399,
          1449,
          1499,
          1549,
          1599,
          1649,
          1699,
          1749,
          1799,
          1849,
          1899,
          1949,
          1999
         ],
         "xaxis": "x3",
         "y": [
          0.7768666744232178,
          0.7778000235557556,
          0.7739333510398865,
          0.7648666501045227,
          0.7652000188827515,
          0.7793999910354614,
          0.777999997138977,
          0.745199978351593,
          0.7756666541099548,
          0.7689333558082581,
          0.7652666568756104,
          0.7654666900634766,
          0.7694000005722046,
          0.7656000256538391,
          0.7681333422660828,
          0.7666000127792358,
          0.7677333354949951,
          0.7660666704177856,
          0.7667333483695984,
          0.7672666907310486,
          0.7678666710853577,
          0.7662000060081482,
          0.7677333354949951,
          0.7661333084106445,
          0.7650666832923889,
          0.7670666575431824,
          0.7666000127792358,
          0.7667999863624573,
          0.7668666839599609,
          0.767799973487854,
          0.7643333077430725,
          0.763866662979126,
          0.7660666704177856,
          0.7655333280563354,
          0.7645333409309387,
          0.7669333219528198,
          0.7677333354949951,
          0.7656000256538391,
          0.7667333483695984,
          0.7670000195503235
         ],
         "yaxis": "y3"
        },
        {
         "legendgroup": "From_Scratch-aug-12800_spc-2000_steps_v_1-version_1",
         "line": {
          "color": "green",
          "dash": "dash"
         },
         "mode": "lines",
         "name": "Test: v_1-version_1",
         "showlegend": false,
         "type": "scatter",
         "x": [
          49,
          1999
         ],
         "xaxis": "x3",
         "y": [
          0.753662109375,
          0.753662109375
         ],
         "yaxis": "y3"
        },
        {
         "legendgroup": "From_Scratch-aug-12800_spc-2000_steps_v_2-version_5",
         "line": {
          "color": "red"
         },
         "mode": "lines",
         "name": "Val: v_2-version_5",
         "showlegend": false,
         "type": "scatter",
         "x": [
          49,
          99,
          149,
          199,
          249,
          299,
          349,
          399,
          449,
          499,
          549,
          599,
          649,
          699,
          749,
          799,
          849,
          899,
          949,
          999,
          1049,
          1099,
          1149,
          1199,
          1249,
          1299,
          1349,
          1399,
          1449,
          1499,
          1549,
          1599,
          1649,
          1699,
          1749,
          1799,
          1849,
          1899,
          1949,
          1999
         ],
         "xaxis": "x3",
         "y": [
          0.7911999821662903,
          0.8009333610534668,
          0.776533305644989,
          0.77920001745224,
          0.7893333435058594,
          0.7735999822616577,
          0.7751333117485046,
          0.7755333185195923,
          0.7642666697502136,
          0.7781333327293396,
          0.7668666839599609,
          0.7662000060081482,
          0.7665333151817322,
          0.7629333138465881,
          0.765333354473114,
          0.7627333402633667,
          0.7641333341598511,
          0.7625333070755005,
          0.7649333477020264,
          0.7646666765213013,
          0.7644000053405762,
          0.76419997215271,
          0.7638000249862671,
          0.7655333280563354,
          0.7662666440010071,
          0.7647333145141602,
          0.7663999795913696,
          0.7642666697502136,
          0.7639333605766296,
          0.7661333084106445,
          0.7667999863624573,
          0.7639333605766296,
          0.7648666501045227,
          0.7641333341598511,
          0.7658666372299194,
          0.7647333145141602,
          0.763533353805542,
          0.7653999924659729,
          0.7661333084106445,
          0.7642666697502136
         ],
         "yaxis": "y3"
        },
        {
         "legendgroup": "From_Scratch-aug-12800_spc-2000_steps_v_2-version_5",
         "line": {
          "color": "red",
          "dash": "dash"
         },
         "mode": "lines",
         "name": "Test: v_2-version_5",
         "showlegend": false,
         "type": "scatter",
         "x": [
          49,
          1999
         ],
         "xaxis": "x3",
         "y": [
          0.761474609375,
          0.761474609375
         ],
         "yaxis": "y3"
        }
       ],
       "layout": {
        "annotations": [
         {
          "font": {
           "size": 12
          },
          "showarrow": false,
          "text": "From_Scratch-aug-51200_spc-2000_steps",
          "x": 0.14444444444444446,
          "xanchor": "center",
          "xref": "paper",
          "y": 1,
          "yanchor": "bottom",
          "yref": "paper"
         },
         {
          "font": {
           "size": 12
          },
          "showarrow": false,
          "text": "From_Scratch-aug-25600_spc-2000_steps",
          "x": 0.5,
          "xanchor": "center",
          "xref": "paper",
          "y": 1,
          "yanchor": "bottom",
          "yref": "paper"
         },
         {
          "font": {
           "size": 12
          },
          "showarrow": false,
          "text": "From_Scratch-aug-12800_spc-2000_steps",
          "x": 0.8555555555555556,
          "xanchor": "center",
          "xref": "paper",
          "y": 1,
          "yanchor": "bottom",
          "yref": "paper"
         }
        ],
        "font": {
         "size": 10
        },
        "height": 400,
        "template": {
         "data": {
          "bar": [
           {
            "error_x": {
             "color": "#2a3f5f"
            },
            "error_y": {
             "color": "#2a3f5f"
            },
            "marker": {
             "line": {
              "color": "#E5ECF6",
              "width": 0.5
             },
             "pattern": {
              "fillmode": "overlay",
              "size": 10,
              "solidity": 0.2
             }
            },
            "type": "bar"
           }
          ],
          "barpolar": [
           {
            "marker": {
             "line": {
              "color": "#E5ECF6",
              "width": 0.5
             },
             "pattern": {
              "fillmode": "overlay",
              "size": 10,
              "solidity": 0.2
             }
            },
            "type": "barpolar"
           }
          ],
          "carpet": [
           {
            "aaxis": {
             "endlinecolor": "#2a3f5f",
             "gridcolor": "white",
             "linecolor": "white",
             "minorgridcolor": "white",
             "startlinecolor": "#2a3f5f"
            },
            "baxis": {
             "endlinecolor": "#2a3f5f",
             "gridcolor": "white",
             "linecolor": "white",
             "minorgridcolor": "white",
             "startlinecolor": "#2a3f5f"
            },
            "type": "carpet"
           }
          ],
          "choropleth": [
           {
            "colorbar": {
             "outlinewidth": 0,
             "ticks": ""
            },
            "type": "choropleth"
           }
          ],
          "contour": [
           {
            "colorbar": {
             "outlinewidth": 0,
             "ticks": ""
            },
            "colorscale": [
             [
              0,
              "#0d0887"
             ],
             [
              0.1111111111111111,
              "#46039f"
             ],
             [
              0.2222222222222222,
              "#7201a8"
             ],
             [
              0.3333333333333333,
              "#9c179e"
             ],
             [
              0.4444444444444444,
              "#bd3786"
             ],
             [
              0.5555555555555556,
              "#d8576b"
             ],
             [
              0.6666666666666666,
              "#ed7953"
             ],
             [
              0.7777777777777778,
              "#fb9f3a"
             ],
             [
              0.8888888888888888,
              "#fdca26"
             ],
             [
              1,
              "#f0f921"
             ]
            ],
            "type": "contour"
           }
          ],
          "contourcarpet": [
           {
            "colorbar": {
             "outlinewidth": 0,
             "ticks": ""
            },
            "type": "contourcarpet"
           }
          ],
          "heatmap": [
           {
            "colorbar": {
             "outlinewidth": 0,
             "ticks": ""
            },
            "colorscale": [
             [
              0,
              "#0d0887"
             ],
             [
              0.1111111111111111,
              "#46039f"
             ],
             [
              0.2222222222222222,
              "#7201a8"
             ],
             [
              0.3333333333333333,
              "#9c179e"
             ],
             [
              0.4444444444444444,
              "#bd3786"
             ],
             [
              0.5555555555555556,
              "#d8576b"
             ],
             [
              0.6666666666666666,
              "#ed7953"
             ],
             [
              0.7777777777777778,
              "#fb9f3a"
             ],
             [
              0.8888888888888888,
              "#fdca26"
             ],
             [
              1,
              "#f0f921"
             ]
            ],
            "type": "heatmap"
           }
          ],
          "histogram": [
           {
            "marker": {
             "pattern": {
              "fillmode": "overlay",
              "size": 10,
              "solidity": 0.2
             }
            },
            "type": "histogram"
           }
          ],
          "histogram2d": [
           {
            "colorbar": {
             "outlinewidth": 0,
             "ticks": ""
            },
            "colorscale": [
             [
              0,
              "#0d0887"
             ],
             [
              0.1111111111111111,
              "#46039f"
             ],
             [
              0.2222222222222222,
              "#7201a8"
             ],
             [
              0.3333333333333333,
              "#9c179e"
             ],
             [
              0.4444444444444444,
              "#bd3786"
             ],
             [
              0.5555555555555556,
              "#d8576b"
             ],
             [
              0.6666666666666666,
              "#ed7953"
             ],
             [
              0.7777777777777778,
              "#fb9f3a"
             ],
             [
              0.8888888888888888,
              "#fdca26"
             ],
             [
              1,
              "#f0f921"
             ]
            ],
            "type": "histogram2d"
           }
          ],
          "histogram2dcontour": [
           {
            "colorbar": {
             "outlinewidth": 0,
             "ticks": ""
            },
            "colorscale": [
             [
              0,
              "#0d0887"
             ],
             [
              0.1111111111111111,
              "#46039f"
             ],
             [
              0.2222222222222222,
              "#7201a8"
             ],
             [
              0.3333333333333333,
              "#9c179e"
             ],
             [
              0.4444444444444444,
              "#bd3786"
             ],
             [
              0.5555555555555556,
              "#d8576b"
             ],
             [
              0.6666666666666666,
              "#ed7953"
             ],
             [
              0.7777777777777778,
              "#fb9f3a"
             ],
             [
              0.8888888888888888,
              "#fdca26"
             ],
             [
              1,
              "#f0f921"
             ]
            ],
            "type": "histogram2dcontour"
           }
          ],
          "mesh3d": [
           {
            "colorbar": {
             "outlinewidth": 0,
             "ticks": ""
            },
            "type": "mesh3d"
           }
          ],
          "parcoords": [
           {
            "line": {
             "colorbar": {
              "outlinewidth": 0,
              "ticks": ""
             }
            },
            "type": "parcoords"
           }
          ],
          "pie": [
           {
            "automargin": true,
            "type": "pie"
           }
          ],
          "scatter": [
           {
            "fillpattern": {
             "fillmode": "overlay",
             "size": 10,
             "solidity": 0.2
            },
            "type": "scatter"
           }
          ],
          "scatter3d": [
           {
            "line": {
             "colorbar": {
              "outlinewidth": 0,
              "ticks": ""
             }
            },
            "marker": {
             "colorbar": {
              "outlinewidth": 0,
              "ticks": ""
             }
            },
            "type": "scatter3d"
           }
          ],
          "scattercarpet": [
           {
            "marker": {
             "colorbar": {
              "outlinewidth": 0,
              "ticks": ""
             }
            },
            "type": "scattercarpet"
           }
          ],
          "scattergeo": [
           {
            "marker": {
             "colorbar": {
              "outlinewidth": 0,
              "ticks": ""
             }
            },
            "type": "scattergeo"
           }
          ],
          "scattergl": [
           {
            "marker": {
             "colorbar": {
              "outlinewidth": 0,
              "ticks": ""
             }
            },
            "type": "scattergl"
           }
          ],
          "scattermap": [
           {
            "marker": {
             "colorbar": {
              "outlinewidth": 0,
              "ticks": ""
             }
            },
            "type": "scattermap"
           }
          ],
          "scattermapbox": [
           {
            "marker": {
             "colorbar": {
              "outlinewidth": 0,
              "ticks": ""
             }
            },
            "type": "scattermapbox"
           }
          ],
          "scatterpolar": [
           {
            "marker": {
             "colorbar": {
              "outlinewidth": 0,
              "ticks": ""
             }
            },
            "type": "scatterpolar"
           }
          ],
          "scatterpolargl": [
           {
            "marker": {
             "colorbar": {
              "outlinewidth": 0,
              "ticks": ""
             }
            },
            "type": "scatterpolargl"
           }
          ],
          "scatterternary": [
           {
            "marker": {
             "colorbar": {
              "outlinewidth": 0,
              "ticks": ""
             }
            },
            "type": "scatterternary"
           }
          ],
          "surface": [
           {
            "colorbar": {
             "outlinewidth": 0,
             "ticks": ""
            },
            "colorscale": [
             [
              0,
              "#0d0887"
             ],
             [
              0.1111111111111111,
              "#46039f"
             ],
             [
              0.2222222222222222,
              "#7201a8"
             ],
             [
              0.3333333333333333,
              "#9c179e"
             ],
             [
              0.4444444444444444,
              "#bd3786"
             ],
             [
              0.5555555555555556,
              "#d8576b"
             ],
             [
              0.6666666666666666,
              "#ed7953"
             ],
             [
              0.7777777777777778,
              "#fb9f3a"
             ],
             [
              0.8888888888888888,
              "#fdca26"
             ],
             [
              1,
              "#f0f921"
             ]
            ],
            "type": "surface"
           }
          ],
          "table": [
           {
            "cells": {
             "fill": {
              "color": "#EBF0F8"
             },
             "line": {
              "color": "white"
             }
            },
            "header": {
             "fill": {
              "color": "#C8D4E3"
             },
             "line": {
              "color": "white"
             }
            },
            "type": "table"
           }
          ]
         },
         "layout": {
          "annotationdefaults": {
           "arrowcolor": "#2a3f5f",
           "arrowhead": 0,
           "arrowwidth": 1
          },
          "autotypenumbers": "strict",
          "coloraxis": {
           "colorbar": {
            "outlinewidth": 0,
            "ticks": ""
           }
          },
          "colorscale": {
           "diverging": [
            [
             0,
             "#8e0152"
            ],
            [
             0.1,
             "#c51b7d"
            ],
            [
             0.2,
             "#de77ae"
            ],
            [
             0.3,
             "#f1b6da"
            ],
            [
             0.4,
             "#fde0ef"
            ],
            [
             0.5,
             "#f7f7f7"
            ],
            [
             0.6,
             "#e6f5d0"
            ],
            [
             0.7,
             "#b8e186"
            ],
            [
             0.8,
             "#7fbc41"
            ],
            [
             0.9,
             "#4d9221"
            ],
            [
             1,
             "#276419"
            ]
           ],
           "sequential": [
            [
             0,
             "#0d0887"
            ],
            [
             0.1111111111111111,
             "#46039f"
            ],
            [
             0.2222222222222222,
             "#7201a8"
            ],
            [
             0.3333333333333333,
             "#9c179e"
            ],
            [
             0.4444444444444444,
             "#bd3786"
            ],
            [
             0.5555555555555556,
             "#d8576b"
            ],
            [
             0.6666666666666666,
             "#ed7953"
            ],
            [
             0.7777777777777778,
             "#fb9f3a"
            ],
            [
             0.8888888888888888,
             "#fdca26"
            ],
            [
             1,
             "#f0f921"
            ]
           ],
           "sequentialminus": [
            [
             0,
             "#0d0887"
            ],
            [
             0.1111111111111111,
             "#46039f"
            ],
            [
             0.2222222222222222,
             "#7201a8"
            ],
            [
             0.3333333333333333,
             "#9c179e"
            ],
            [
             0.4444444444444444,
             "#bd3786"
            ],
            [
             0.5555555555555556,
             "#d8576b"
            ],
            [
             0.6666666666666666,
             "#ed7953"
            ],
            [
             0.7777777777777778,
             "#fb9f3a"
            ],
            [
             0.8888888888888888,
             "#fdca26"
            ],
            [
             1,
             "#f0f921"
            ]
           ]
          },
          "colorway": [
           "#636efa",
           "#EF553B",
           "#00cc96",
           "#ab63fa",
           "#FFA15A",
           "#19d3f3",
           "#FF6692",
           "#B6E880",
           "#FF97FF",
           "#FECB52"
          ],
          "font": {
           "color": "#2a3f5f"
          },
          "geo": {
           "bgcolor": "white",
           "lakecolor": "white",
           "landcolor": "#E5ECF6",
           "showlakes": true,
           "showland": true,
           "subunitcolor": "white"
          },
          "hoverlabel": {
           "align": "left"
          },
          "hovermode": "closest",
          "mapbox": {
           "style": "light"
          },
          "paper_bgcolor": "white",
          "plot_bgcolor": "#E5ECF6",
          "polar": {
           "angularaxis": {
            "gridcolor": "white",
            "linecolor": "white",
            "ticks": ""
           },
           "bgcolor": "#E5ECF6",
           "radialaxis": {
            "gridcolor": "white",
            "linecolor": "white",
            "ticks": ""
           }
          },
          "scene": {
           "xaxis": {
            "backgroundcolor": "#E5ECF6",
            "gridcolor": "white",
            "gridwidth": 2,
            "linecolor": "white",
            "showbackground": true,
            "ticks": "",
            "zerolinecolor": "white"
           },
           "yaxis": {
            "backgroundcolor": "#E5ECF6",
            "gridcolor": "white",
            "gridwidth": 2,
            "linecolor": "white",
            "showbackground": true,
            "ticks": "",
            "zerolinecolor": "white"
           },
           "zaxis": {
            "backgroundcolor": "#E5ECF6",
            "gridcolor": "white",
            "gridwidth": 2,
            "linecolor": "white",
            "showbackground": true,
            "ticks": "",
            "zerolinecolor": "white"
           }
          },
          "shapedefaults": {
           "line": {
            "color": "#2a3f5f"
           }
          },
          "ternary": {
           "aaxis": {
            "gridcolor": "white",
            "linecolor": "white",
            "ticks": ""
           },
           "baxis": {
            "gridcolor": "white",
            "linecolor": "white",
            "ticks": ""
           },
           "bgcolor": "#E5ECF6",
           "caxis": {
            "gridcolor": "white",
            "linecolor": "white",
            "ticks": ""
           }
          },
          "title": {
           "x": 0.05
          },
          "xaxis": {
           "automargin": true,
           "gridcolor": "white",
           "linecolor": "white",
           "ticks": "",
           "title": {
            "standoff": 15
           },
           "zerolinecolor": "white",
           "zerolinewidth": 2
          },
          "yaxis": {
           "automargin": true,
           "gridcolor": "white",
           "linecolor": "white",
           "ticks": "",
           "title": {
            "standoff": 15
           },
           "zerolinecolor": "white",
           "zerolinewidth": 2
          }
         }
        },
        "width": 1200,
        "xaxis": {
         "anchor": "y",
         "domain": [
          0,
          0.2888888888888889
         ],
         "title": {
          "text": "Steps"
         }
        },
        "xaxis2": {
         "anchor": "y2",
         "domain": [
          0.35555555555555557,
          0.6444444444444445
         ],
         "title": {
          "text": "Steps"
         }
        },
        "xaxis3": {
         "anchor": "y3",
         "domain": [
          0.7111111111111111,
          1
         ],
         "title": {
          "text": "Steps"
         }
        },
        "yaxis": {
         "anchor": "x",
         "domain": [
          0,
          1
         ],
         "title": {
          "text": "Accuracy"
         }
        },
        "yaxis2": {
         "anchor": "x2",
         "domain": [
          0,
          1
         ],
         "matches": "y",
         "showticklabels": false
        },
        "yaxis3": {
         "anchor": "x3",
         "domain": [
          0,
          1
         ],
         "matches": "y",
         "showticklabels": false
        }
       }
      }
     },
     "metadata": {},
     "output_type": "display_data"
    },
    {
     "data": {
      "application/vnd.plotly.v1+json": {
       "config": {
        "plotlyServerURL": "https://plot.ly"
       },
       "data": [
        {
         "legendgroup": "From_Scratch-notr-51200_spc-2000_steps_v_0-version_1",
         "line": {
          "color": "blue"
         },
         "mode": "lines",
         "name": "Val: v_0-version_1",
         "showlegend": true,
         "type": "scatter",
         "x": [
          199,
          399,
          599,
          799,
          999,
          1199,
          1399,
          1599,
          1799,
          1999
         ],
         "xaxis": "x",
         "y": [
          0.7803999781608582,
          0.8198666572570801,
          0.8080000281333923,
          0.7817333340644836,
          0.7924666404724121,
          0.8043333292007446,
          0.7883333563804626,
          0.7866666913032532,
          0.7835333347320557,
          0.7820666432380676
         ],
         "yaxis": "y"
        },
        {
         "legendgroup": "From_Scratch-notr-51200_spc-2000_steps_v_0-version_1",
         "line": {
          "color": "blue",
          "dash": "dash"
         },
         "mode": "lines",
         "name": "Test: v_0-version_1",
         "showlegend": true,
         "type": "scatter",
         "x": [
          199,
          1999
         ],
         "xaxis": "x",
         "y": [
          0.76708984375,
          0.76708984375
         ],
         "yaxis": "y"
        },
        {
         "legendgroup": "From_Scratch-notr-51200_spc-2000_steps_v_1-version_1",
         "line": {
          "color": "green"
         },
         "mode": "lines",
         "name": "Val: v_1-version_1",
         "showlegend": true,
         "type": "scatter",
         "x": [
          199,
          399,
          599,
          799,
          999,
          1199,
          1399,
          1599,
          1799,
          1999
         ],
         "xaxis": "x",
         "y": [
          0.8094000220298767,
          0.7925333380699158,
          0.7976666688919067,
          0.8162000179290771,
          0.7768666744232178,
          0.7757999897003174,
          0.8041333556175232,
          0.8104666471481323,
          0.77920001745224,
          0.7806000113487244
         ],
         "yaxis": "y"
        },
        {
         "legendgroup": "From_Scratch-notr-51200_spc-2000_steps_v_1-version_1",
         "line": {
          "color": "green",
          "dash": "dash"
         },
         "mode": "lines",
         "name": "Test: v_1-version_1",
         "showlegend": true,
         "type": "scatter",
         "x": [
          199,
          1999
         ],
         "xaxis": "x",
         "y": [
          0.786102294921875,
          0.786102294921875
         ],
         "yaxis": "y"
        },
        {
         "legendgroup": "From_Scratch-notr-51200_spc-2000_steps_v_2-version_1",
         "line": {
          "color": "red"
         },
         "mode": "lines",
         "name": "Val: v_2-version_1",
         "showlegend": true,
         "type": "scatter",
         "x": [
          199,
          399,
          599,
          799,
          999,
          1199,
          1399,
          1599,
          1799,
          1999
         ],
         "xaxis": "x",
         "y": [
          0.7599999904632568,
          0.8113999962806702,
          0.7891333103179932,
          0.7997333407402039,
          0.7821333408355713,
          0.7945333123207092,
          0.7850000262260437,
          0.7850666642189026,
          0.79666668176651,
          0.7821999788284302
         ],
         "yaxis": "y"
        },
        {
         "legendgroup": "From_Scratch-notr-51200_spc-2000_steps_v_2-version_1",
         "line": {
          "color": "red",
          "dash": "dash"
         },
         "mode": "lines",
         "name": "Test: v_2-version_1",
         "showlegend": true,
         "type": "scatter",
         "x": [
          199,
          1999
         ],
         "xaxis": "x",
         "y": [
          0.781890869140625,
          0.781890869140625
         ],
         "yaxis": "y"
        },
        {
         "legendgroup": "From_Scratch-notr-25600_spc-2000_steps_v_0-version_1",
         "line": {
          "color": "blue"
         },
         "mode": "lines",
         "name": "Val: v_0-version_1",
         "showlegend": false,
         "type": "scatter",
         "x": [
          99,
          199,
          299,
          399,
          499,
          599,
          699,
          799,
          899,
          999,
          1099,
          1199,
          1299,
          1399,
          1499,
          1599,
          1699,
          1799,
          1899,
          1999
         ],
         "xaxis": "x2",
         "y": [
          0.7883333563804626,
          0.7822666764259338,
          0.8140666484832764,
          0.7942666411399841,
          0.7583333253860474,
          0.7617999911308289,
          0.7850000262260437,
          0.7853999733924866,
          0.7706000208854675,
          0.7716000080108643,
          0.7748000025749207,
          0.7750666737556458,
          0.775600016117096,
          0.7751333117485046,
          0.7746000289916992,
          0.7728000283241272,
          0.774399995803833,
          0.7708666920661926,
          0.7731333374977112,
          0.7727333307266235
         ],
         "yaxis": "y2"
        },
        {
         "legendgroup": "From_Scratch-notr-25600_spc-2000_steps_v_0-version_1",
         "line": {
          "color": "blue",
          "dash": "dash"
         },
         "mode": "lines",
         "name": "Test: v_0-version_1",
         "showlegend": false,
         "type": "scatter",
         "x": [
          99,
          1999
         ],
         "xaxis": "x2",
         "y": [
          0.787017822265625,
          0.787017822265625
         ],
         "yaxis": "y2"
        },
        {
         "legendgroup": "From_Scratch-notr-25600_spc-2000_steps_v_1-version_1",
         "line": {
          "color": "green"
         },
         "mode": "lines",
         "name": "Val: v_1-version_1",
         "showlegend": false,
         "type": "scatter",
         "x": [
          99,
          199,
          299,
          399,
          499,
          599,
          699,
          799,
          899,
          999,
          1099,
          1199,
          1299,
          1399,
          1499,
          1599,
          1699,
          1799,
          1899,
          1999
         ],
         "xaxis": "x2",
         "y": [
          0.7801333069801331,
          0.7755333185195923,
          0.7981333136558533,
          0.7546666860580444,
          0.7947333455085754,
          0.7784666419029236,
          0.7640666961669922,
          0.763533353805542,
          0.7608000040054321,
          0.7571333050727844,
          0.7656000256538391,
          0.7619333267211914,
          0.7603333592414856,
          0.7603333592414856,
          0.760533332824707,
          0.758400022983551,
          0.7600666880607605,
          0.7571333050727844,
          0.7606666684150696,
          0.7594666481018066
         ],
         "yaxis": "y2"
        },
        {
         "legendgroup": "From_Scratch-notr-25600_spc-2000_steps_v_1-version_1",
         "line": {
          "color": "green",
          "dash": "dash"
         },
         "mode": "lines",
         "name": "Test: v_1-version_1",
         "showlegend": false,
         "type": "scatter",
         "x": [
          99,
          1999
         ],
         "xaxis": "x2",
         "y": [
          0.7628173828125,
          0.7628173828125
         ],
         "yaxis": "y2"
        },
        {
         "legendgroup": "From_Scratch-notr-25600_spc-2000_steps_v_2-version_1",
         "line": {
          "color": "red"
         },
         "mode": "lines",
         "name": "Val: v_2-version_1",
         "showlegend": false,
         "type": "scatter",
         "x": [
          99,
          199,
          299,
          399,
          499,
          599,
          699,
          799,
          899,
          999,
          1099,
          1199,
          1299,
          1399,
          1499,
          1599,
          1699,
          1799,
          1899,
          1999
         ],
         "xaxis": "x2",
         "y": [
          0.7848666906356812,
          0.7735333442687988,
          0.7847333550453186,
          0.7409999966621399,
          0.7842000126838684,
          0.7785333395004272,
          0.777999997138977,
          0.7771999835968018,
          0.7770000100135803,
          0.7702000141143799,
          0.7682666778564453,
          0.7687333226203918,
          0.7659333348274231,
          0.7645999789237976,
          0.7658666372299194,
          0.7649333477020264,
          0.7655333280563354,
          0.7649333477020264,
          0.7650666832923889,
          0.7660666704177856
         ],
         "yaxis": "y2"
        },
        {
         "legendgroup": "From_Scratch-notr-25600_spc-2000_steps_v_2-version_1",
         "line": {
          "color": "red",
          "dash": "dash"
         },
         "mode": "lines",
         "name": "Test: v_2-version_1",
         "showlegend": false,
         "type": "scatter",
         "x": [
          99,
          1999
         ],
         "xaxis": "x2",
         "y": [
          0.775299072265625,
          0.775299072265625
         ],
         "yaxis": "y2"
        },
        {
         "legendgroup": "From_Scratch-notr-12800_spc-2000_steps_v_0-version_1",
         "line": {
          "color": "blue"
         },
         "mode": "lines",
         "name": "Val: v_0-version_1",
         "showlegend": false,
         "type": "scatter",
         "x": [
          49,
          99,
          149,
          199,
          249,
          299,
          349,
          399,
          449,
          499,
          549,
          599,
          649,
          699,
          749,
          799,
          849,
          899,
          949,
          999,
          1049,
          1099,
          1149,
          1199,
          1249,
          1299,
          1349,
          1399,
          1449,
          1499,
          1549,
          1599,
          1649,
          1699,
          1749,
          1799,
          1849,
          1899,
          1949,
          1999
         ],
         "xaxis": "x3",
         "y": [
          0.7639333605766296,
          0.7939333319664001,
          0.8033333420753479,
          0.7703999876976013,
          0.79666668176651,
          0.7670000195503235,
          0.7652000188827515,
          0.7529333233833313,
          0.7602666616439819,
          0.7621999979019165,
          0.7640666961669922,
          0.7659333348274231,
          0.7664666771888733,
          0.7657999992370605,
          0.7640666961669922,
          0.7634666562080383,
          0.7614666819572449,
          0.7620000243186951,
          0.7639333605766296,
          0.7610666751861572,
          0.7632666826248169,
          0.7608000040054321,
          0.7621333599090576,
          0.7634000182151794,
          0.7625333070755005,
          0.762666642665863,
          0.7607333064079285,
          0.7613333463668823,
          0.7635999917984009,
          0.7627333402633667,
          0.759933352470398,
          0.7643333077430725,
          0.763533353805542,
          0.7626000046730042,
          0.762666642665863,
          0.7610666751861572,
          0.7612666487693787,
          0.7605999708175659,
          0.7612000107765198,
          0.760533332824707
         ],
         "yaxis": "y3"
        },
        {
         "legendgroup": "From_Scratch-notr-12800_spc-2000_steps_v_0-version_1",
         "line": {
          "color": "blue",
          "dash": "dash"
         },
         "mode": "lines",
         "name": "Test: v_0-version_1",
         "showlegend": false,
         "type": "scatter",
         "x": [
          49,
          1999
         ],
         "xaxis": "x3",
         "y": [
          0.74798583984375,
          0.74798583984375
         ],
         "yaxis": "y3"
        },
        {
         "legendgroup": "From_Scratch-notr-12800_spc-2000_steps_v_1-version_1",
         "line": {
          "color": "green"
         },
         "mode": "lines",
         "name": "Val: v_1-version_1",
         "showlegend": false,
         "type": "scatter",
         "x": [
          49,
          99,
          149,
          199,
          249,
          299,
          349,
          399,
          449,
          499,
          549,
          599,
          649,
          699,
          749,
          799,
          849,
          899,
          949,
          999,
          1049,
          1099,
          1149,
          1199,
          1249,
          1299,
          1349,
          1399,
          1449,
          1499,
          1549,
          1599,
          1649,
          1699,
          1749,
          1799,
          1849,
          1899,
          1949,
          1999
         ],
         "xaxis": "x3",
         "y": [
          0.7847333550453186,
          0.7565333247184753,
          0.7540000081062317,
          0.7480000257492065,
          0.7836666703224182,
          0.7573333382606506,
          0.7748666405677795,
          0.776199996471405,
          0.7573999762535095,
          0.7620000243186951,
          0.7591333389282227,
          0.7618666887283325,
          0.7631333470344543,
          0.759933352470398,
          0.758733332157135,
          0.7598666548728943,
          0.7596666812896729,
          0.7601333260536194,
          0.7593333125114441,
          0.7620000243186951,
          0.7594666481018066,
          0.7603999972343445,
          0.7590000033378601,
          0.7599999904632568,
          0.7598666548728943,
          0.7575333118438721,
          0.7570666670799255,
          0.7605999708175659,
          0.7563999891281128,
          0.7595999836921692,
          0.7581999897956848,
          0.7595999836921692,
          0.7601333260536194,
          0.7567999958992004,
          0.7581333518028259,
          0.7596666812896729,
          0.7598000168800354,
          0.760533332824707,
          0.760533332824707,
          0.7591333389282227
         ],
         "yaxis": "y3"
        },
        {
         "legendgroup": "From_Scratch-notr-12800_spc-2000_steps_v_1-version_1",
         "line": {
          "color": "green",
          "dash": "dash"
         },
         "mode": "lines",
         "name": "Test: v_1-version_1",
         "showlegend": false,
         "type": "scatter",
         "x": [
          49,
          1999
         ],
         "xaxis": "x3",
         "y": [
          0.769195556640625,
          0.769195556640625
         ],
         "yaxis": "y3"
        },
        {
         "legendgroup": "From_Scratch-notr-12800_spc-2000_steps_v_2-version_1",
         "line": {
          "color": "red"
         },
         "mode": "lines",
         "name": "Val: v_2-version_1",
         "showlegend": false,
         "type": "scatter",
         "x": [
          49,
          99,
          149,
          199,
          249,
          299,
          349,
          399,
          449,
          499,
          549,
          599,
          649,
          699,
          749,
          799,
          849,
          899,
          949,
          999,
          1049,
          1099,
          1149,
          1199,
          1249,
          1299,
          1349,
          1399,
          1449,
          1499,
          1549,
          1599,
          1649,
          1699,
          1749,
          1799,
          1849,
          1899,
          1949,
          1999
         ],
         "xaxis": "x3",
         "y": [
          0.7793999910354614,
          0.7896666526794434,
          0.7613333463668823,
          0.7768666744232178,
          0.7523999810218811,
          0.7960000038146973,
          0.7950666546821594,
          0.7923333048820496,
          0.7620000243186951,
          0.7815999984741211,
          0.7593333125114441,
          0.7644666433334351,
          0.7639333605766296,
          0.7706666588783264,
          0.7651333212852478,
          0.7632666826248169,
          0.7631999850273132,
          0.7642666697502136,
          0.7614666819572449,
          0.7639999985694885,
          0.76419997215271,
          0.7651333212852478,
          0.7625333070755005,
          0.7644666433334351,
          0.7635999917984009,
          0.7634666562080383,
          0.7639999985694885,
          0.7646666765213013,
          0.7649333477020264,
          0.7645333409309387,
          0.7635999917984009,
          0.7622666954994202,
          0.7633333206176758,
          0.7609999775886536,
          0.7629333138465881,
          0.7634666562080383,
          0.7639333605766296,
          0.7641333341598511,
          0.7631999850273132,
          0.7629333138465881
         ],
         "yaxis": "y3"
        },
        {
         "legendgroup": "From_Scratch-notr-12800_spc-2000_steps_v_2-version_1",
         "line": {
          "color": "red",
          "dash": "dash"
         },
         "mode": "lines",
         "name": "Test: v_2-version_1",
         "showlegend": false,
         "type": "scatter",
         "x": [
          49,
          1999
         ],
         "xaxis": "x3",
         "y": [
          0.777618408203125,
          0.777618408203125
         ],
         "yaxis": "y3"
        }
       ],
       "layout": {
        "annotations": [
         {
          "font": {
           "size": 12
          },
          "showarrow": false,
          "text": "From_Scratch-notr-51200_spc-2000_steps",
          "x": 0.14444444444444446,
          "xanchor": "center",
          "xref": "paper",
          "y": 1,
          "yanchor": "bottom",
          "yref": "paper"
         },
         {
          "font": {
           "size": 12
          },
          "showarrow": false,
          "text": "From_Scratch-notr-25600_spc-2000_steps",
          "x": 0.5,
          "xanchor": "center",
          "xref": "paper",
          "y": 1,
          "yanchor": "bottom",
          "yref": "paper"
         },
         {
          "font": {
           "size": 12
          },
          "showarrow": false,
          "text": "From_Scratch-notr-12800_spc-2000_steps",
          "x": 0.8555555555555556,
          "xanchor": "center",
          "xref": "paper",
          "y": 1,
          "yanchor": "bottom",
          "yref": "paper"
         }
        ],
        "font": {
         "size": 10
        },
        "height": 400,
        "template": {
         "data": {
          "bar": [
           {
            "error_x": {
             "color": "#2a3f5f"
            },
            "error_y": {
             "color": "#2a3f5f"
            },
            "marker": {
             "line": {
              "color": "#E5ECF6",
              "width": 0.5
             },
             "pattern": {
              "fillmode": "overlay",
              "size": 10,
              "solidity": 0.2
             }
            },
            "type": "bar"
           }
          ],
          "barpolar": [
           {
            "marker": {
             "line": {
              "color": "#E5ECF6",
              "width": 0.5
             },
             "pattern": {
              "fillmode": "overlay",
              "size": 10,
              "solidity": 0.2
             }
            },
            "type": "barpolar"
           }
          ],
          "carpet": [
           {
            "aaxis": {
             "endlinecolor": "#2a3f5f",
             "gridcolor": "white",
             "linecolor": "white",
             "minorgridcolor": "white",
             "startlinecolor": "#2a3f5f"
            },
            "baxis": {
             "endlinecolor": "#2a3f5f",
             "gridcolor": "white",
             "linecolor": "white",
             "minorgridcolor": "white",
             "startlinecolor": "#2a3f5f"
            },
            "type": "carpet"
           }
          ],
          "choropleth": [
           {
            "colorbar": {
             "outlinewidth": 0,
             "ticks": ""
            },
            "type": "choropleth"
           }
          ],
          "contour": [
           {
            "colorbar": {
             "outlinewidth": 0,
             "ticks": ""
            },
            "colorscale": [
             [
              0,
              "#0d0887"
             ],
             [
              0.1111111111111111,
              "#46039f"
             ],
             [
              0.2222222222222222,
              "#7201a8"
             ],
             [
              0.3333333333333333,
              "#9c179e"
             ],
             [
              0.4444444444444444,
              "#bd3786"
             ],
             [
              0.5555555555555556,
              "#d8576b"
             ],
             [
              0.6666666666666666,
              "#ed7953"
             ],
             [
              0.7777777777777778,
              "#fb9f3a"
             ],
             [
              0.8888888888888888,
              "#fdca26"
             ],
             [
              1,
              "#f0f921"
             ]
            ],
            "type": "contour"
           }
          ],
          "contourcarpet": [
           {
            "colorbar": {
             "outlinewidth": 0,
             "ticks": ""
            },
            "type": "contourcarpet"
           }
          ],
          "heatmap": [
           {
            "colorbar": {
             "outlinewidth": 0,
             "ticks": ""
            },
            "colorscale": [
             [
              0,
              "#0d0887"
             ],
             [
              0.1111111111111111,
              "#46039f"
             ],
             [
              0.2222222222222222,
              "#7201a8"
             ],
             [
              0.3333333333333333,
              "#9c179e"
             ],
             [
              0.4444444444444444,
              "#bd3786"
             ],
             [
              0.5555555555555556,
              "#d8576b"
             ],
             [
              0.6666666666666666,
              "#ed7953"
             ],
             [
              0.7777777777777778,
              "#fb9f3a"
             ],
             [
              0.8888888888888888,
              "#fdca26"
             ],
             [
              1,
              "#f0f921"
             ]
            ],
            "type": "heatmap"
           }
          ],
          "histogram": [
           {
            "marker": {
             "pattern": {
              "fillmode": "overlay",
              "size": 10,
              "solidity": 0.2
             }
            },
            "type": "histogram"
           }
          ],
          "histogram2d": [
           {
            "colorbar": {
             "outlinewidth": 0,
             "ticks": ""
            },
            "colorscale": [
             [
              0,
              "#0d0887"
             ],
             [
              0.1111111111111111,
              "#46039f"
             ],
             [
              0.2222222222222222,
              "#7201a8"
             ],
             [
              0.3333333333333333,
              "#9c179e"
             ],
             [
              0.4444444444444444,
              "#bd3786"
             ],
             [
              0.5555555555555556,
              "#d8576b"
             ],
             [
              0.6666666666666666,
              "#ed7953"
             ],
             [
              0.7777777777777778,
              "#fb9f3a"
             ],
             [
              0.8888888888888888,
              "#fdca26"
             ],
             [
              1,
              "#f0f921"
             ]
            ],
            "type": "histogram2d"
           }
          ],
          "histogram2dcontour": [
           {
            "colorbar": {
             "outlinewidth": 0,
             "ticks": ""
            },
            "colorscale": [
             [
              0,
              "#0d0887"
             ],
             [
              0.1111111111111111,
              "#46039f"
             ],
             [
              0.2222222222222222,
              "#7201a8"
             ],
             [
              0.3333333333333333,
              "#9c179e"
             ],
             [
              0.4444444444444444,
              "#bd3786"
             ],
             [
              0.5555555555555556,
              "#d8576b"
             ],
             [
              0.6666666666666666,
              "#ed7953"
             ],
             [
              0.7777777777777778,
              "#fb9f3a"
             ],
             [
              0.8888888888888888,
              "#fdca26"
             ],
             [
              1,
              "#f0f921"
             ]
            ],
            "type": "histogram2dcontour"
           }
          ],
          "mesh3d": [
           {
            "colorbar": {
             "outlinewidth": 0,
             "ticks": ""
            },
            "type": "mesh3d"
           }
          ],
          "parcoords": [
           {
            "line": {
             "colorbar": {
              "outlinewidth": 0,
              "ticks": ""
             }
            },
            "type": "parcoords"
           }
          ],
          "pie": [
           {
            "automargin": true,
            "type": "pie"
           }
          ],
          "scatter": [
           {
            "fillpattern": {
             "fillmode": "overlay",
             "size": 10,
             "solidity": 0.2
            },
            "type": "scatter"
           }
          ],
          "scatter3d": [
           {
            "line": {
             "colorbar": {
              "outlinewidth": 0,
              "ticks": ""
             }
            },
            "marker": {
             "colorbar": {
              "outlinewidth": 0,
              "ticks": ""
             }
            },
            "type": "scatter3d"
           }
          ],
          "scattercarpet": [
           {
            "marker": {
             "colorbar": {
              "outlinewidth": 0,
              "ticks": ""
             }
            },
            "type": "scattercarpet"
           }
          ],
          "scattergeo": [
           {
            "marker": {
             "colorbar": {
              "outlinewidth": 0,
              "ticks": ""
             }
            },
            "type": "scattergeo"
           }
          ],
          "scattergl": [
           {
            "marker": {
             "colorbar": {
              "outlinewidth": 0,
              "ticks": ""
             }
            },
            "type": "scattergl"
           }
          ],
          "scattermap": [
           {
            "marker": {
             "colorbar": {
              "outlinewidth": 0,
              "ticks": ""
             }
            },
            "type": "scattermap"
           }
          ],
          "scattermapbox": [
           {
            "marker": {
             "colorbar": {
              "outlinewidth": 0,
              "ticks": ""
             }
            },
            "type": "scattermapbox"
           }
          ],
          "scatterpolar": [
           {
            "marker": {
             "colorbar": {
              "outlinewidth": 0,
              "ticks": ""
             }
            },
            "type": "scatterpolar"
           }
          ],
          "scatterpolargl": [
           {
            "marker": {
             "colorbar": {
              "outlinewidth": 0,
              "ticks": ""
             }
            },
            "type": "scatterpolargl"
           }
          ],
          "scatterternary": [
           {
            "marker": {
             "colorbar": {
              "outlinewidth": 0,
              "ticks": ""
             }
            },
            "type": "scatterternary"
           }
          ],
          "surface": [
           {
            "colorbar": {
             "outlinewidth": 0,
             "ticks": ""
            },
            "colorscale": [
             [
              0,
              "#0d0887"
             ],
             [
              0.1111111111111111,
              "#46039f"
             ],
             [
              0.2222222222222222,
              "#7201a8"
             ],
             [
              0.3333333333333333,
              "#9c179e"
             ],
             [
              0.4444444444444444,
              "#bd3786"
             ],
             [
              0.5555555555555556,
              "#d8576b"
             ],
             [
              0.6666666666666666,
              "#ed7953"
             ],
             [
              0.7777777777777778,
              "#fb9f3a"
             ],
             [
              0.8888888888888888,
              "#fdca26"
             ],
             [
              1,
              "#f0f921"
             ]
            ],
            "type": "surface"
           }
          ],
          "table": [
           {
            "cells": {
             "fill": {
              "color": "#EBF0F8"
             },
             "line": {
              "color": "white"
             }
            },
            "header": {
             "fill": {
              "color": "#C8D4E3"
             },
             "line": {
              "color": "white"
             }
            },
            "type": "table"
           }
          ]
         },
         "layout": {
          "annotationdefaults": {
           "arrowcolor": "#2a3f5f",
           "arrowhead": 0,
           "arrowwidth": 1
          },
          "autotypenumbers": "strict",
          "coloraxis": {
           "colorbar": {
            "outlinewidth": 0,
            "ticks": ""
           }
          },
          "colorscale": {
           "diverging": [
            [
             0,
             "#8e0152"
            ],
            [
             0.1,
             "#c51b7d"
            ],
            [
             0.2,
             "#de77ae"
            ],
            [
             0.3,
             "#f1b6da"
            ],
            [
             0.4,
             "#fde0ef"
            ],
            [
             0.5,
             "#f7f7f7"
            ],
            [
             0.6,
             "#e6f5d0"
            ],
            [
             0.7,
             "#b8e186"
            ],
            [
             0.8,
             "#7fbc41"
            ],
            [
             0.9,
             "#4d9221"
            ],
            [
             1,
             "#276419"
            ]
           ],
           "sequential": [
            [
             0,
             "#0d0887"
            ],
            [
             0.1111111111111111,
             "#46039f"
            ],
            [
             0.2222222222222222,
             "#7201a8"
            ],
            [
             0.3333333333333333,
             "#9c179e"
            ],
            [
             0.4444444444444444,
             "#bd3786"
            ],
            [
             0.5555555555555556,
             "#d8576b"
            ],
            [
             0.6666666666666666,
             "#ed7953"
            ],
            [
             0.7777777777777778,
             "#fb9f3a"
            ],
            [
             0.8888888888888888,
             "#fdca26"
            ],
            [
             1,
             "#f0f921"
            ]
           ],
           "sequentialminus": [
            [
             0,
             "#0d0887"
            ],
            [
             0.1111111111111111,
             "#46039f"
            ],
            [
             0.2222222222222222,
             "#7201a8"
            ],
            [
             0.3333333333333333,
             "#9c179e"
            ],
            [
             0.4444444444444444,
             "#bd3786"
            ],
            [
             0.5555555555555556,
             "#d8576b"
            ],
            [
             0.6666666666666666,
             "#ed7953"
            ],
            [
             0.7777777777777778,
             "#fb9f3a"
            ],
            [
             0.8888888888888888,
             "#fdca26"
            ],
            [
             1,
             "#f0f921"
            ]
           ]
          },
          "colorway": [
           "#636efa",
           "#EF553B",
           "#00cc96",
           "#ab63fa",
           "#FFA15A",
           "#19d3f3",
           "#FF6692",
           "#B6E880",
           "#FF97FF",
           "#FECB52"
          ],
          "font": {
           "color": "#2a3f5f"
          },
          "geo": {
           "bgcolor": "white",
           "lakecolor": "white",
           "landcolor": "#E5ECF6",
           "showlakes": true,
           "showland": true,
           "subunitcolor": "white"
          },
          "hoverlabel": {
           "align": "left"
          },
          "hovermode": "closest",
          "mapbox": {
           "style": "light"
          },
          "paper_bgcolor": "white",
          "plot_bgcolor": "#E5ECF6",
          "polar": {
           "angularaxis": {
            "gridcolor": "white",
            "linecolor": "white",
            "ticks": ""
           },
           "bgcolor": "#E5ECF6",
           "radialaxis": {
            "gridcolor": "white",
            "linecolor": "white",
            "ticks": ""
           }
          },
          "scene": {
           "xaxis": {
            "backgroundcolor": "#E5ECF6",
            "gridcolor": "white",
            "gridwidth": 2,
            "linecolor": "white",
            "showbackground": true,
            "ticks": "",
            "zerolinecolor": "white"
           },
           "yaxis": {
            "backgroundcolor": "#E5ECF6",
            "gridcolor": "white",
            "gridwidth": 2,
            "linecolor": "white",
            "showbackground": true,
            "ticks": "",
            "zerolinecolor": "white"
           },
           "zaxis": {
            "backgroundcolor": "#E5ECF6",
            "gridcolor": "white",
            "gridwidth": 2,
            "linecolor": "white",
            "showbackground": true,
            "ticks": "",
            "zerolinecolor": "white"
           }
          },
          "shapedefaults": {
           "line": {
            "color": "#2a3f5f"
           }
          },
          "ternary": {
           "aaxis": {
            "gridcolor": "white",
            "linecolor": "white",
            "ticks": ""
           },
           "baxis": {
            "gridcolor": "white",
            "linecolor": "white",
            "ticks": ""
           },
           "bgcolor": "#E5ECF6",
           "caxis": {
            "gridcolor": "white",
            "linecolor": "white",
            "ticks": ""
           }
          },
          "title": {
           "x": 0.05
          },
          "xaxis": {
           "automargin": true,
           "gridcolor": "white",
           "linecolor": "white",
           "ticks": "",
           "title": {
            "standoff": 15
           },
           "zerolinecolor": "white",
           "zerolinewidth": 2
          },
          "yaxis": {
           "automargin": true,
           "gridcolor": "white",
           "linecolor": "white",
           "ticks": "",
           "title": {
            "standoff": 15
           },
           "zerolinecolor": "white",
           "zerolinewidth": 2
          }
         }
        },
        "width": 1200,
        "xaxis": {
         "anchor": "y",
         "domain": [
          0,
          0.2888888888888889
         ],
         "title": {
          "text": "Steps"
         }
        },
        "xaxis2": {
         "anchor": "y2",
         "domain": [
          0.35555555555555557,
          0.6444444444444445
         ],
         "title": {
          "text": "Steps"
         }
        },
        "xaxis3": {
         "anchor": "y3",
         "domain": [
          0.7111111111111111,
          1
         ],
         "title": {
          "text": "Steps"
         }
        },
        "yaxis": {
         "anchor": "x",
         "domain": [
          0,
          1
         ],
         "title": {
          "text": "Accuracy"
         }
        },
        "yaxis2": {
         "anchor": "x2",
         "domain": [
          0,
          1
         ],
         "matches": "y",
         "showticklabels": false
        },
        "yaxis3": {
         "anchor": "x3",
         "domain": [
          0,
          1
         ],
         "matches": "y",
         "showticklabels": false
        }
       }
      }
     },
     "metadata": {},
     "output_type": "display_data"
    }
   ],
   "source": [
    "plot_results_plotly(sorted_list=['From_Scratch-aug-128000_spc-15000_steps','From_Scratch-aug-51200_spc-2000_steps'], stats=supervised_stats)\n",
    "\n",
    "plot_results_plotly(sorted_list=['From_Scratch-aug-51200_spc-2000_steps',\n",
    "                          'From_Scratch-aug-25600_spc-2000_steps',\n",
    "                          'From_Scratch-aug-12800_spc-2000_steps'], stats=supervised_stats)\n",
    "\n",
    "plot_results_plotly(sorted_list=['From_Scratch-notr-51200_spc-2000_steps',\n",
    "                          'From_Scratch-notr-25600_spc-2000_steps',\n",
    "                          'From_Scratch-notr-12800_spc-2000_steps'], stats=supervised_stats)\n",
    "                          "
   ]
  },
  {
   "cell_type": "code",
   "execution_count": 8,
   "metadata": {},
   "outputs": [],
   "source": [
    "eval_stats, eval_list = parse_metrics_file(f\"logs/PCam/Eval/*/*_spc/2000_steps/*/*/metrics.csv\", parse_eval_metrics)"
   ]
  },
  {
   "cell_type": "code",
   "execution_count": 9,
   "metadata": {},
   "outputs": [
    {
     "data": {
      "application/vnd.plotly.v1+json": {
       "config": {
        "plotlyServerURL": "https://plot.ly"
       },
       "data": [
        {
         "legendgroup": "PCam-FullFineTune-1250_spc-2000_steps_PCam-FullFineTune-version_1",
         "line": {
          "color": "blue"
         },
         "mode": "lines",
         "name": "Val: PCam-FullFineTune-version_1",
         "showlegend": true,
         "type": "scatter",
         "x": [
          9,
          209,
          409,
          609,
          809,
          1009,
          1209,
          1409,
          1609,
          1809
         ],
         "xaxis": "x",
         "y": [
          0.50048828125,
          0.772674560546875,
          0.753631591796875,
          0.75555419921875,
          0.751739501953125,
          0.727325439453125,
          0.741607666015625,
          0.74578857421875,
          0.737945556640625,
          0.743438720703125
         ],
         "yaxis": "y"
        },
        {
         "legendgroup": "PCam-FullFineTune-1250_spc-2000_steps_PCam-FullFineTune-version_1",
         "line": {
          "color": "blue",
          "dash": "dash"
         },
         "mode": "lines",
         "name": "Test: PCam-FullFineTune-version_1",
         "showlegend": true,
         "type": "scatter",
         "x": [
          9,
          1809
         ],
         "xaxis": "x",
         "y": [
          0.766357421875,
          0.766357421875
         ],
         "yaxis": "y"
        },
        {
         "legendgroup": "PCam-FullFineTune-6400_spc-2000_steps_PCam-FullFineTune-version_1",
         "line": {
          "color": "blue"
         },
         "mode": "lines",
         "name": "Val: PCam-FullFineTune-version_1",
         "showlegend": false,
         "type": "scatter",
         "x": [
          49,
          549,
          1049,
          1549
         ],
         "xaxis": "x2",
         "y": [
          0.768646240234375,
          0.773590087890625,
          0.77178955078125,
          0.766998291015625
         ],
         "yaxis": "y2"
        },
        {
         "legendgroup": "PCam-FullFineTune-6400_spc-2000_steps_PCam-FullFineTune-version_1",
         "line": {
          "color": "blue",
          "dash": "dash"
         },
         "mode": "lines",
         "name": "Test: PCam-FullFineTune-version_1",
         "showlegend": false,
         "type": "scatter",
         "x": [
          49,
          1549
         ],
         "xaxis": "x2",
         "y": [
          0.782470703125,
          0.782470703125
         ],
         "yaxis": "y2"
        },
        {
         "legendgroup": "PCam-FullFineTune-12800_spc-2000_steps_PCam-FullFineTune-version_1",
         "line": {
          "color": "blue"
         },
         "mode": "lines",
         "name": "Val: PCam-FullFineTune-version_1",
         "showlegend": false,
         "type": "scatter",
         "x": [
          99,
          199,
          299,
          399,
          499,
          599,
          699,
          799,
          899,
          999,
          1099,
          1199,
          1299,
          1399,
          1499,
          1599,
          1699,
          1799,
          1899,
          1999
         ],
         "xaxis": "x3",
         "y": [
          0.774810791015625,
          0.7880859375,
          0.798919677734375,
          0.79119873046875,
          0.757415771484375,
          0.7552490234375,
          0.777435302734375,
          0.77093505859375,
          0.79510498046875,
          0.799346923828125,
          0.772796630859375,
          0.78167724609375,
          0.769012451171875,
          0.792572021484375,
          0.780029296875,
          0.784912109375,
          0.783294677734375,
          0.80157470703125,
          0.795867919921875,
          0.7376708984375
         ],
         "yaxis": "y3"
        },
        {
         "legendgroup": "PCam-FullFineTune-12800_spc-2000_steps_PCam-FullFineTune-version_1",
         "line": {
          "color": "blue",
          "dash": "dash"
         },
         "mode": "lines",
         "name": "Test: PCam-FullFineTune-version_1",
         "showlegend": false,
         "type": "scatter",
         "x": [
          99,
          1999
         ],
         "xaxis": "x3",
         "y": [
          0.775909423828125,
          0.775909423828125
         ],
         "yaxis": "y3"
        },
        {
         "legendgroup": "PCam-FullFineTune-25600_spc-2000_steps_PCam-FullFineTune-version_1",
         "line": {
          "color": "blue"
         },
         "mode": "lines",
         "name": "Val: PCam-FullFineTune-version_1",
         "showlegend": false,
         "type": "scatter",
         "x": [
          199,
          399,
          599,
          799,
          999,
          1199,
          1399,
          1599,
          1799,
          1999
         ],
         "xaxis": "x4",
         "y": [
          0.7882080078125,
          0.779693603515625,
          0.806884765625,
          0.791748046875,
          0.799346923828125,
          0.802398681640625,
          0.807708740234375,
          0.818695068359375,
          0.7891845703125,
          0.786773681640625
         ],
         "yaxis": "y4"
        },
        {
         "legendgroup": "PCam-FullFineTune-25600_spc-2000_steps_PCam-FullFineTune-version_1",
         "line": {
          "color": "blue",
          "dash": "dash"
         },
         "mode": "lines",
         "name": "Test: PCam-FullFineTune-version_1",
         "showlegend": false,
         "type": "scatter",
         "x": [
          199,
          1999
         ],
         "xaxis": "x4",
         "y": [
          0.76678466796875,
          0.76678466796875
         ],
         "yaxis": "y4"
        },
        {
         "legendgroup": "PCam-FullFineTune-51200_spc-2000_steps_PCam-FullFineTune-version_1",
         "line": {
          "color": "blue"
         },
         "mode": "lines",
         "name": "Val: PCam-FullFineTune-version_1",
         "showlegend": false,
         "type": "scatter",
         "x": [
          399,
          799,
          1199,
          1599,
          1999
         ],
         "xaxis": "x5",
         "y": [
          0.783660888671875,
          0.7867431640625,
          0.823638916015625,
          0.785797119140625,
          0.78741455078125
         ],
         "yaxis": "y5"
        },
        {
         "legendgroup": "PCam-FullFineTune-51200_spc-2000_steps_PCam-FullFineTune-version_1",
         "line": {
          "color": "blue",
          "dash": "dash"
         },
         "mode": "lines",
         "name": "Test: PCam-FullFineTune-version_1",
         "showlegend": false,
         "type": "scatter",
         "x": [
          399,
          1999
         ],
         "xaxis": "x5",
         "y": [
          0.768798828125,
          0.768798828125
         ],
         "yaxis": "y5"
        }
       ],
       "layout": {
        "annotations": [
         {
          "font": {
           "size": 12
          },
          "showarrow": false,
          "text": "PCam-FullFineTune-1250_spc-2000_steps",
          "x": 0.08399999999999999,
          "xanchor": "center",
          "xref": "paper",
          "y": 1,
          "yanchor": "bottom",
          "yref": "paper"
         },
         {
          "font": {
           "size": 12
          },
          "showarrow": false,
          "text": "PCam-FullFineTune-6400_spc-2000_steps",
          "x": 0.292,
          "xanchor": "center",
          "xref": "paper",
          "y": 1,
          "yanchor": "bottom",
          "yref": "paper"
         },
         {
          "font": {
           "size": 12
          },
          "showarrow": false,
          "text": "PCam-FullFineTune-12800_spc-2000_steps",
          "x": 0.5,
          "xanchor": "center",
          "xref": "paper",
          "y": 1,
          "yanchor": "bottom",
          "yref": "paper"
         },
         {
          "font": {
           "size": 12
          },
          "showarrow": false,
          "text": "PCam-FullFineTune-25600_spc-2000_steps",
          "x": 0.708,
          "xanchor": "center",
          "xref": "paper",
          "y": 1,
          "yanchor": "bottom",
          "yref": "paper"
         },
         {
          "font": {
           "size": 12
          },
          "showarrow": false,
          "text": "PCam-FullFineTune-51200_spc-2000_steps",
          "x": 0.9159999999999999,
          "xanchor": "center",
          "xref": "paper",
          "y": 1,
          "yanchor": "bottom",
          "yref": "paper"
         }
        ],
        "font": {
         "size": 10
        },
        "height": 400,
        "template": {
         "data": {
          "bar": [
           {
            "error_x": {
             "color": "#2a3f5f"
            },
            "error_y": {
             "color": "#2a3f5f"
            },
            "marker": {
             "line": {
              "color": "#E5ECF6",
              "width": 0.5
             },
             "pattern": {
              "fillmode": "overlay",
              "size": 10,
              "solidity": 0.2
             }
            },
            "type": "bar"
           }
          ],
          "barpolar": [
           {
            "marker": {
             "line": {
              "color": "#E5ECF6",
              "width": 0.5
             },
             "pattern": {
              "fillmode": "overlay",
              "size": 10,
              "solidity": 0.2
             }
            },
            "type": "barpolar"
           }
          ],
          "carpet": [
           {
            "aaxis": {
             "endlinecolor": "#2a3f5f",
             "gridcolor": "white",
             "linecolor": "white",
             "minorgridcolor": "white",
             "startlinecolor": "#2a3f5f"
            },
            "baxis": {
             "endlinecolor": "#2a3f5f",
             "gridcolor": "white",
             "linecolor": "white",
             "minorgridcolor": "white",
             "startlinecolor": "#2a3f5f"
            },
            "type": "carpet"
           }
          ],
          "choropleth": [
           {
            "colorbar": {
             "outlinewidth": 0,
             "ticks": ""
            },
            "type": "choropleth"
           }
          ],
          "contour": [
           {
            "colorbar": {
             "outlinewidth": 0,
             "ticks": ""
            },
            "colorscale": [
             [
              0,
              "#0d0887"
             ],
             [
              0.1111111111111111,
              "#46039f"
             ],
             [
              0.2222222222222222,
              "#7201a8"
             ],
             [
              0.3333333333333333,
              "#9c179e"
             ],
             [
              0.4444444444444444,
              "#bd3786"
             ],
             [
              0.5555555555555556,
              "#d8576b"
             ],
             [
              0.6666666666666666,
              "#ed7953"
             ],
             [
              0.7777777777777778,
              "#fb9f3a"
             ],
             [
              0.8888888888888888,
              "#fdca26"
             ],
             [
              1,
              "#f0f921"
             ]
            ],
            "type": "contour"
           }
          ],
          "contourcarpet": [
           {
            "colorbar": {
             "outlinewidth": 0,
             "ticks": ""
            },
            "type": "contourcarpet"
           }
          ],
          "heatmap": [
           {
            "colorbar": {
             "outlinewidth": 0,
             "ticks": ""
            },
            "colorscale": [
             [
              0,
              "#0d0887"
             ],
             [
              0.1111111111111111,
              "#46039f"
             ],
             [
              0.2222222222222222,
              "#7201a8"
             ],
             [
              0.3333333333333333,
              "#9c179e"
             ],
             [
              0.4444444444444444,
              "#bd3786"
             ],
             [
              0.5555555555555556,
              "#d8576b"
             ],
             [
              0.6666666666666666,
              "#ed7953"
             ],
             [
              0.7777777777777778,
              "#fb9f3a"
             ],
             [
              0.8888888888888888,
              "#fdca26"
             ],
             [
              1,
              "#f0f921"
             ]
            ],
            "type": "heatmap"
           }
          ],
          "histogram": [
           {
            "marker": {
             "pattern": {
              "fillmode": "overlay",
              "size": 10,
              "solidity": 0.2
             }
            },
            "type": "histogram"
           }
          ],
          "histogram2d": [
           {
            "colorbar": {
             "outlinewidth": 0,
             "ticks": ""
            },
            "colorscale": [
             [
              0,
              "#0d0887"
             ],
             [
              0.1111111111111111,
              "#46039f"
             ],
             [
              0.2222222222222222,
              "#7201a8"
             ],
             [
              0.3333333333333333,
              "#9c179e"
             ],
             [
              0.4444444444444444,
              "#bd3786"
             ],
             [
              0.5555555555555556,
              "#d8576b"
             ],
             [
              0.6666666666666666,
              "#ed7953"
             ],
             [
              0.7777777777777778,
              "#fb9f3a"
             ],
             [
              0.8888888888888888,
              "#fdca26"
             ],
             [
              1,
              "#f0f921"
             ]
            ],
            "type": "histogram2d"
           }
          ],
          "histogram2dcontour": [
           {
            "colorbar": {
             "outlinewidth": 0,
             "ticks": ""
            },
            "colorscale": [
             [
              0,
              "#0d0887"
             ],
             [
              0.1111111111111111,
              "#46039f"
             ],
             [
              0.2222222222222222,
              "#7201a8"
             ],
             [
              0.3333333333333333,
              "#9c179e"
             ],
             [
              0.4444444444444444,
              "#bd3786"
             ],
             [
              0.5555555555555556,
              "#d8576b"
             ],
             [
              0.6666666666666666,
              "#ed7953"
             ],
             [
              0.7777777777777778,
              "#fb9f3a"
             ],
             [
              0.8888888888888888,
              "#fdca26"
             ],
             [
              1,
              "#f0f921"
             ]
            ],
            "type": "histogram2dcontour"
           }
          ],
          "mesh3d": [
           {
            "colorbar": {
             "outlinewidth": 0,
             "ticks": ""
            },
            "type": "mesh3d"
           }
          ],
          "parcoords": [
           {
            "line": {
             "colorbar": {
              "outlinewidth": 0,
              "ticks": ""
             }
            },
            "type": "parcoords"
           }
          ],
          "pie": [
           {
            "automargin": true,
            "type": "pie"
           }
          ],
          "scatter": [
           {
            "fillpattern": {
             "fillmode": "overlay",
             "size": 10,
             "solidity": 0.2
            },
            "type": "scatter"
           }
          ],
          "scatter3d": [
           {
            "line": {
             "colorbar": {
              "outlinewidth": 0,
              "ticks": ""
             }
            },
            "marker": {
             "colorbar": {
              "outlinewidth": 0,
              "ticks": ""
             }
            },
            "type": "scatter3d"
           }
          ],
          "scattercarpet": [
           {
            "marker": {
             "colorbar": {
              "outlinewidth": 0,
              "ticks": ""
             }
            },
            "type": "scattercarpet"
           }
          ],
          "scattergeo": [
           {
            "marker": {
             "colorbar": {
              "outlinewidth": 0,
              "ticks": ""
             }
            },
            "type": "scattergeo"
           }
          ],
          "scattergl": [
           {
            "marker": {
             "colorbar": {
              "outlinewidth": 0,
              "ticks": ""
             }
            },
            "type": "scattergl"
           }
          ],
          "scattermap": [
           {
            "marker": {
             "colorbar": {
              "outlinewidth": 0,
              "ticks": ""
             }
            },
            "type": "scattermap"
           }
          ],
          "scattermapbox": [
           {
            "marker": {
             "colorbar": {
              "outlinewidth": 0,
              "ticks": ""
             }
            },
            "type": "scattermapbox"
           }
          ],
          "scatterpolar": [
           {
            "marker": {
             "colorbar": {
              "outlinewidth": 0,
              "ticks": ""
             }
            },
            "type": "scatterpolar"
           }
          ],
          "scatterpolargl": [
           {
            "marker": {
             "colorbar": {
              "outlinewidth": 0,
              "ticks": ""
             }
            },
            "type": "scatterpolargl"
           }
          ],
          "scatterternary": [
           {
            "marker": {
             "colorbar": {
              "outlinewidth": 0,
              "ticks": ""
             }
            },
            "type": "scatterternary"
           }
          ],
          "surface": [
           {
            "colorbar": {
             "outlinewidth": 0,
             "ticks": ""
            },
            "colorscale": [
             [
              0,
              "#0d0887"
             ],
             [
              0.1111111111111111,
              "#46039f"
             ],
             [
              0.2222222222222222,
              "#7201a8"
             ],
             [
              0.3333333333333333,
              "#9c179e"
             ],
             [
              0.4444444444444444,
              "#bd3786"
             ],
             [
              0.5555555555555556,
              "#d8576b"
             ],
             [
              0.6666666666666666,
              "#ed7953"
             ],
             [
              0.7777777777777778,
              "#fb9f3a"
             ],
             [
              0.8888888888888888,
              "#fdca26"
             ],
             [
              1,
              "#f0f921"
             ]
            ],
            "type": "surface"
           }
          ],
          "table": [
           {
            "cells": {
             "fill": {
              "color": "#EBF0F8"
             },
             "line": {
              "color": "white"
             }
            },
            "header": {
             "fill": {
              "color": "#C8D4E3"
             },
             "line": {
              "color": "white"
             }
            },
            "type": "table"
           }
          ]
         },
         "layout": {
          "annotationdefaults": {
           "arrowcolor": "#2a3f5f",
           "arrowhead": 0,
           "arrowwidth": 1
          },
          "autotypenumbers": "strict",
          "coloraxis": {
           "colorbar": {
            "outlinewidth": 0,
            "ticks": ""
           }
          },
          "colorscale": {
           "diverging": [
            [
             0,
             "#8e0152"
            ],
            [
             0.1,
             "#c51b7d"
            ],
            [
             0.2,
             "#de77ae"
            ],
            [
             0.3,
             "#f1b6da"
            ],
            [
             0.4,
             "#fde0ef"
            ],
            [
             0.5,
             "#f7f7f7"
            ],
            [
             0.6,
             "#e6f5d0"
            ],
            [
             0.7,
             "#b8e186"
            ],
            [
             0.8,
             "#7fbc41"
            ],
            [
             0.9,
             "#4d9221"
            ],
            [
             1,
             "#276419"
            ]
           ],
           "sequential": [
            [
             0,
             "#0d0887"
            ],
            [
             0.1111111111111111,
             "#46039f"
            ],
            [
             0.2222222222222222,
             "#7201a8"
            ],
            [
             0.3333333333333333,
             "#9c179e"
            ],
            [
             0.4444444444444444,
             "#bd3786"
            ],
            [
             0.5555555555555556,
             "#d8576b"
            ],
            [
             0.6666666666666666,
             "#ed7953"
            ],
            [
             0.7777777777777778,
             "#fb9f3a"
            ],
            [
             0.8888888888888888,
             "#fdca26"
            ],
            [
             1,
             "#f0f921"
            ]
           ],
           "sequentialminus": [
            [
             0,
             "#0d0887"
            ],
            [
             0.1111111111111111,
             "#46039f"
            ],
            [
             0.2222222222222222,
             "#7201a8"
            ],
            [
             0.3333333333333333,
             "#9c179e"
            ],
            [
             0.4444444444444444,
             "#bd3786"
            ],
            [
             0.5555555555555556,
             "#d8576b"
            ],
            [
             0.6666666666666666,
             "#ed7953"
            ],
            [
             0.7777777777777778,
             "#fb9f3a"
            ],
            [
             0.8888888888888888,
             "#fdca26"
            ],
            [
             1,
             "#f0f921"
            ]
           ]
          },
          "colorway": [
           "#636efa",
           "#EF553B",
           "#00cc96",
           "#ab63fa",
           "#FFA15A",
           "#19d3f3",
           "#FF6692",
           "#B6E880",
           "#FF97FF",
           "#FECB52"
          ],
          "font": {
           "color": "#2a3f5f"
          },
          "geo": {
           "bgcolor": "white",
           "lakecolor": "white",
           "landcolor": "#E5ECF6",
           "showlakes": true,
           "showland": true,
           "subunitcolor": "white"
          },
          "hoverlabel": {
           "align": "left"
          },
          "hovermode": "closest",
          "mapbox": {
           "style": "light"
          },
          "paper_bgcolor": "white",
          "plot_bgcolor": "#E5ECF6",
          "polar": {
           "angularaxis": {
            "gridcolor": "white",
            "linecolor": "white",
            "ticks": ""
           },
           "bgcolor": "#E5ECF6",
           "radialaxis": {
            "gridcolor": "white",
            "linecolor": "white",
            "ticks": ""
           }
          },
          "scene": {
           "xaxis": {
            "backgroundcolor": "#E5ECF6",
            "gridcolor": "white",
            "gridwidth": 2,
            "linecolor": "white",
            "showbackground": true,
            "ticks": "",
            "zerolinecolor": "white"
           },
           "yaxis": {
            "backgroundcolor": "#E5ECF6",
            "gridcolor": "white",
            "gridwidth": 2,
            "linecolor": "white",
            "showbackground": true,
            "ticks": "",
            "zerolinecolor": "white"
           },
           "zaxis": {
            "backgroundcolor": "#E5ECF6",
            "gridcolor": "white",
            "gridwidth": 2,
            "linecolor": "white",
            "showbackground": true,
            "ticks": "",
            "zerolinecolor": "white"
           }
          },
          "shapedefaults": {
           "line": {
            "color": "#2a3f5f"
           }
          },
          "ternary": {
           "aaxis": {
            "gridcolor": "white",
            "linecolor": "white",
            "ticks": ""
           },
           "baxis": {
            "gridcolor": "white",
            "linecolor": "white",
            "ticks": ""
           },
           "bgcolor": "#E5ECF6",
           "caxis": {
            "gridcolor": "white",
            "linecolor": "white",
            "ticks": ""
           }
          },
          "title": {
           "x": 0.05
          },
          "xaxis": {
           "automargin": true,
           "gridcolor": "white",
           "linecolor": "white",
           "ticks": "",
           "title": {
            "standoff": 15
           },
           "zerolinecolor": "white",
           "zerolinewidth": 2
          },
          "yaxis": {
           "automargin": true,
           "gridcolor": "white",
           "linecolor": "white",
           "ticks": "",
           "title": {
            "standoff": 15
           },
           "zerolinecolor": "white",
           "zerolinewidth": 2
          }
         }
        },
        "width": 2000,
        "xaxis": {
         "anchor": "y",
         "domain": [
          0,
          0.16799999999999998
         ],
         "title": {
          "text": "Steps"
         }
        },
        "xaxis2": {
         "anchor": "y2",
         "domain": [
          0.208,
          0.376
         ],
         "title": {
          "text": "Steps"
         }
        },
        "xaxis3": {
         "anchor": "y3",
         "domain": [
          0.416,
          0.584
         ],
         "title": {
          "text": "Steps"
         }
        },
        "xaxis4": {
         "anchor": "y4",
         "domain": [
          0.624,
          0.792
         ],
         "title": {
          "text": "Steps"
         }
        },
        "xaxis5": {
         "anchor": "y5",
         "domain": [
          0.832,
          1
         ],
         "title": {
          "text": "Steps"
         }
        },
        "yaxis": {
         "anchor": "x",
         "domain": [
          0,
          1
         ],
         "title": {
          "text": "Accuracy"
         }
        },
        "yaxis2": {
         "anchor": "x2",
         "domain": [
          0,
          1
         ],
         "matches": "y",
         "showticklabels": false
        },
        "yaxis3": {
         "anchor": "x3",
         "domain": [
          0,
          1
         ],
         "matches": "y",
         "showticklabels": false
        },
        "yaxis4": {
         "anchor": "x4",
         "domain": [
          0,
          1
         ],
         "matches": "y",
         "showticklabels": false
        },
        "yaxis5": {
         "anchor": "x5",
         "domain": [
          0,
          1
         ],
         "matches": "y",
         "showticklabels": false
        }
       }
      }
     },
     "metadata": {},
     "output_type": "display_data"
    }
   ],
   "source": [
    "plot_results_plotly(sorted_list=[\n",
    "  'PCam-FullFineTune-1250_spc-2000_steps',\n",
    "  'PCam-FullFineTune-6400_spc-2000_steps',\n",
    "  'PCam-FullFineTune-12800_spc-2000_steps',\n",
    "  'PCam-FullFineTune-25600_spc-2000_steps',\n",
    "  'PCam-FullFineTune-51200_spc-2000_steps'\n",
    "], stats=eval_stats)"
   ]
  },
  {
   "cell_type": "code",
   "execution_count": 10,
   "metadata": {},
   "outputs": [
    {
     "data": {
      "application/vnd.plotly.v1+json": {
       "config": {
        "plotlyServerURL": "https://plot.ly"
       },
       "data": [
        {
         "legendgroup": "PCam-FreezeBackbone-1250_spc-2000_steps_PCam-FreezeBackbone-version_1",
         "line": {
          "color": "blue"
         },
         "mode": "lines",
         "name": "Val: PCam-FreezeBackbone-version_1",
         "showlegend": true,
         "type": "scatter",
         "x": [
          9,
          209,
          409,
          609,
          809,
          1009,
          1209,
          1409,
          1609,
          1809
         ],
         "xaxis": "x",
         "y": [
          0.7540283203125,
          0.76068115234375,
          0.753997802734375,
          0.761627197265625,
          0.75897216796875,
          0.75982666015625,
          0.758697509765625,
          0.75445556640625,
          0.74383544921875,
          0.7451171875
         ],
         "yaxis": "y"
        },
        {
         "legendgroup": "PCam-FreezeBackbone-1250_spc-2000_steps_PCam-FreezeBackbone-version_1",
         "line": {
          "color": "blue",
          "dash": "dash"
         },
         "mode": "lines",
         "name": "Test: PCam-FreezeBackbone-version_1",
         "showlegend": true,
         "type": "scatter",
         "x": [
          9,
          1809
         ],
         "xaxis": "x",
         "y": [
          0.7557373046875,
          0.7557373046875
         ],
         "yaxis": "y"
        },
        {
         "legendgroup": "PCam-FreezeBackbone-6400_spc-2000_steps_PCam-FreezeBackbone-version_1",
         "line": {
          "color": "blue"
         },
         "mode": "lines",
         "name": "Val: PCam-FreezeBackbone-version_1",
         "showlegend": false,
         "type": "scatter",
         "x": [
          49,
          549,
          1049,
          1549
         ],
         "xaxis": "x2",
         "y": [
          0.75506591796875,
          0.755096435546875,
          0.757415771484375,
          0.76129150390625
         ],
         "yaxis": "y2"
        },
        {
         "legendgroup": "PCam-FreezeBackbone-6400_spc-2000_steps_PCam-FreezeBackbone-version_1",
         "line": {
          "color": "blue",
          "dash": "dash"
         },
         "mode": "lines",
         "name": "Test: PCam-FreezeBackbone-version_1",
         "showlegend": false,
         "type": "scatter",
         "x": [
          49,
          1549
         ],
         "xaxis": "x2",
         "y": [
          0.744964599609375,
          0.744964599609375
         ],
         "yaxis": "y2"
        },
        {
         "legendgroup": "PCam-FreezeBackbone-12800_spc-2000_steps_PCam-FreezeBackbone-version_1",
         "line": {
          "color": "blue"
         },
         "mode": "lines",
         "name": "Val: PCam-FreezeBackbone-version_1",
         "showlegend": false,
         "type": "scatter",
         "x": [
          99,
          199,
          299,
          399,
          499,
          599,
          699,
          799,
          899,
          999,
          1099,
          1199,
          1299,
          1399,
          1499,
          1599,
          1699,
          1799,
          1899,
          1999
         ],
         "xaxis": "x3",
         "y": [
          0.753936767578125,
          0.751129150390625,
          0.753936767578125,
          0.754486083984375,
          0.7530517578125,
          0.76190185546875,
          0.760040283203125,
          0.76226806640625,
          0.75018310546875,
          0.76177978515625,
          0.75885009765625,
          0.755096435546875,
          0.758087158203125,
          0.7635498046875,
          0.757781982421875,
          0.7620849609375,
          0.75726318359375,
          0.752532958984375,
          0.76239013671875,
          0.754486083984375
         ],
         "yaxis": "y3"
        },
        {
         "legendgroup": "PCam-FreezeBackbone-12800_spc-2000_steps_PCam-FreezeBackbone-version_1",
         "line": {
          "color": "blue",
          "dash": "dash"
         },
         "mode": "lines",
         "name": "Test: PCam-FreezeBackbone-version_1",
         "showlegend": false,
         "type": "scatter",
         "x": [
          99,
          1999
         ],
         "xaxis": "x3",
         "y": [
          0.759735107421875,
          0.759735107421875
         ],
         "yaxis": "y3"
        },
        {
         "legendgroup": "PCam-FreezeBackbone-25600_spc-2000_steps_PCam-FreezeBackbone-version_1",
         "line": {
          "color": "blue"
         },
         "mode": "lines",
         "name": "Val: PCam-FreezeBackbone-version_1",
         "showlegend": false,
         "type": "scatter",
         "x": [
          199,
          399,
          599,
          799,
          999,
          1199,
          1399,
          1599,
          1799,
          1999
         ],
         "xaxis": "x4",
         "y": [
          0.75189208984375,
          0.751861572265625,
          0.75775146484375,
          0.754241943359375,
          0.758819580078125,
          0.759521484375,
          0.753692626953125,
          0.757598876953125,
          0.763763427734375,
          0.767669677734375
         ],
         "yaxis": "y4"
        },
        {
         "legendgroup": "PCam-FreezeBackbone-25600_spc-2000_steps_PCam-FreezeBackbone-version_1",
         "line": {
          "color": "blue",
          "dash": "dash"
         },
         "mode": "lines",
         "name": "Test: PCam-FreezeBackbone-version_1",
         "showlegend": false,
         "type": "scatter",
         "x": [
          199,
          1999
         ],
         "xaxis": "x4",
         "y": [
          0.758941650390625,
          0.758941650390625
         ],
         "yaxis": "y4"
        },
        {
         "legendgroup": "PCam-FreezeBackbone-51200_spc-2000_steps_PCam-FreezeBackbone-version_1",
         "line": {
          "color": "blue"
         },
         "mode": "lines",
         "name": "Val: PCam-FreezeBackbone-version_1",
         "showlegend": false,
         "type": "scatter",
         "x": [
          399,
          799,
          1199,
          1599,
          1999
         ],
         "xaxis": "x5",
         "y": [
          0.753753662109375,
          0.755767822265625,
          0.75677490234375,
          0.75482177734375,
          0.7587890625
         ],
         "yaxis": "y5"
        },
        {
         "legendgroup": "PCam-FreezeBackbone-51200_spc-2000_steps_PCam-FreezeBackbone-version_1",
         "line": {
          "color": "blue",
          "dash": "dash"
         },
         "mode": "lines",
         "name": "Test: PCam-FreezeBackbone-version_1",
         "showlegend": false,
         "type": "scatter",
         "x": [
          399,
          1999
         ],
         "xaxis": "x5",
         "y": [
          0.745269775390625,
          0.745269775390625
         ],
         "yaxis": "y5"
        },
        {
         "legendgroup": "PCam-FreezeBackbone-128000_spc-2000_steps_PCam-FreezeBackbone-version_1",
         "line": {
          "color": "blue"
         },
         "mode": "lines",
         "name": "Val: PCam-FreezeBackbone-version_1",
         "showlegend": false,
         "type": "scatter",
         "x": [
          999,
          1999
         ],
         "xaxis": "x6",
         "y": [
          0.75799560546875,
          0.765289306640625
         ],
         "yaxis": "y6"
        },
        {
         "legendgroup": "PCam-FreezeBackbone-128000_spc-2000_steps_PCam-FreezeBackbone-version_1",
         "line": {
          "color": "blue",
          "dash": "dash"
         },
         "mode": "lines",
         "name": "Test: PCam-FreezeBackbone-version_1",
         "showlegend": false,
         "type": "scatter",
         "x": [
          999,
          1999
         ],
         "xaxis": "x6",
         "y": [
          0.756195068359375,
          0.756195068359375
         ],
         "yaxis": "y6"
        }
       ],
       "layout": {
        "annotations": [
         {
          "font": {
           "size": 12
          },
          "showarrow": false,
          "text": "PCam-FreezeBackbone-1250_spc-2000_steps",
          "x": 0.06944444444444445,
          "xanchor": "center",
          "xref": "paper",
          "y": 1,
          "yanchor": "bottom",
          "yref": "paper"
         },
         {
          "font": {
           "size": 12
          },
          "showarrow": false,
          "text": "PCam-FreezeBackbone-6400_spc-2000_steps",
          "x": 0.24166666666666667,
          "xanchor": "center",
          "xref": "paper",
          "y": 1,
          "yanchor": "bottom",
          "yref": "paper"
         },
         {
          "font": {
           "size": 12
          },
          "showarrow": false,
          "text": "PCam-FreezeBackbone-12800_spc-2000_steps",
          "x": 0.41388888888888886,
          "xanchor": "center",
          "xref": "paper",
          "y": 1,
          "yanchor": "bottom",
          "yref": "paper"
         },
         {
          "font": {
           "size": 12
          },
          "showarrow": false,
          "text": "PCam-FreezeBackbone-25600_spc-2000_steps",
          "x": 0.5861111111111112,
          "xanchor": "center",
          "xref": "paper",
          "y": 1,
          "yanchor": "bottom",
          "yref": "paper"
         },
         {
          "font": {
           "size": 12
          },
          "showarrow": false,
          "text": "PCam-FreezeBackbone-51200_spc-2000_steps",
          "x": 0.7583333333333333,
          "xanchor": "center",
          "xref": "paper",
          "y": 1,
          "yanchor": "bottom",
          "yref": "paper"
         },
         {
          "font": {
           "size": 12
          },
          "showarrow": false,
          "text": "PCam-FreezeBackbone-128000_spc-2000_steps",
          "x": 0.9305555555555556,
          "xanchor": "center",
          "xref": "paper",
          "y": 1,
          "yanchor": "bottom",
          "yref": "paper"
         }
        ],
        "font": {
         "size": 10
        },
        "height": 400,
        "template": {
         "data": {
          "bar": [
           {
            "error_x": {
             "color": "#2a3f5f"
            },
            "error_y": {
             "color": "#2a3f5f"
            },
            "marker": {
             "line": {
              "color": "#E5ECF6",
              "width": 0.5
             },
             "pattern": {
              "fillmode": "overlay",
              "size": 10,
              "solidity": 0.2
             }
            },
            "type": "bar"
           }
          ],
          "barpolar": [
           {
            "marker": {
             "line": {
              "color": "#E5ECF6",
              "width": 0.5
             },
             "pattern": {
              "fillmode": "overlay",
              "size": 10,
              "solidity": 0.2
             }
            },
            "type": "barpolar"
           }
          ],
          "carpet": [
           {
            "aaxis": {
             "endlinecolor": "#2a3f5f",
             "gridcolor": "white",
             "linecolor": "white",
             "minorgridcolor": "white",
             "startlinecolor": "#2a3f5f"
            },
            "baxis": {
             "endlinecolor": "#2a3f5f",
             "gridcolor": "white",
             "linecolor": "white",
             "minorgridcolor": "white",
             "startlinecolor": "#2a3f5f"
            },
            "type": "carpet"
           }
          ],
          "choropleth": [
           {
            "colorbar": {
             "outlinewidth": 0,
             "ticks": ""
            },
            "type": "choropleth"
           }
          ],
          "contour": [
           {
            "colorbar": {
             "outlinewidth": 0,
             "ticks": ""
            },
            "colorscale": [
             [
              0,
              "#0d0887"
             ],
             [
              0.1111111111111111,
              "#46039f"
             ],
             [
              0.2222222222222222,
              "#7201a8"
             ],
             [
              0.3333333333333333,
              "#9c179e"
             ],
             [
              0.4444444444444444,
              "#bd3786"
             ],
             [
              0.5555555555555556,
              "#d8576b"
             ],
             [
              0.6666666666666666,
              "#ed7953"
             ],
             [
              0.7777777777777778,
              "#fb9f3a"
             ],
             [
              0.8888888888888888,
              "#fdca26"
             ],
             [
              1,
              "#f0f921"
             ]
            ],
            "type": "contour"
           }
          ],
          "contourcarpet": [
           {
            "colorbar": {
             "outlinewidth": 0,
             "ticks": ""
            },
            "type": "contourcarpet"
           }
          ],
          "heatmap": [
           {
            "colorbar": {
             "outlinewidth": 0,
             "ticks": ""
            },
            "colorscale": [
             [
              0,
              "#0d0887"
             ],
             [
              0.1111111111111111,
              "#46039f"
             ],
             [
              0.2222222222222222,
              "#7201a8"
             ],
             [
              0.3333333333333333,
              "#9c179e"
             ],
             [
              0.4444444444444444,
              "#bd3786"
             ],
             [
              0.5555555555555556,
              "#d8576b"
             ],
             [
              0.6666666666666666,
              "#ed7953"
             ],
             [
              0.7777777777777778,
              "#fb9f3a"
             ],
             [
              0.8888888888888888,
              "#fdca26"
             ],
             [
              1,
              "#f0f921"
             ]
            ],
            "type": "heatmap"
           }
          ],
          "histogram": [
           {
            "marker": {
             "pattern": {
              "fillmode": "overlay",
              "size": 10,
              "solidity": 0.2
             }
            },
            "type": "histogram"
           }
          ],
          "histogram2d": [
           {
            "colorbar": {
             "outlinewidth": 0,
             "ticks": ""
            },
            "colorscale": [
             [
              0,
              "#0d0887"
             ],
             [
              0.1111111111111111,
              "#46039f"
             ],
             [
              0.2222222222222222,
              "#7201a8"
             ],
             [
              0.3333333333333333,
              "#9c179e"
             ],
             [
              0.4444444444444444,
              "#bd3786"
             ],
             [
              0.5555555555555556,
              "#d8576b"
             ],
             [
              0.6666666666666666,
              "#ed7953"
             ],
             [
              0.7777777777777778,
              "#fb9f3a"
             ],
             [
              0.8888888888888888,
              "#fdca26"
             ],
             [
              1,
              "#f0f921"
             ]
            ],
            "type": "histogram2d"
           }
          ],
          "histogram2dcontour": [
           {
            "colorbar": {
             "outlinewidth": 0,
             "ticks": ""
            },
            "colorscale": [
             [
              0,
              "#0d0887"
             ],
             [
              0.1111111111111111,
              "#46039f"
             ],
             [
              0.2222222222222222,
              "#7201a8"
             ],
             [
              0.3333333333333333,
              "#9c179e"
             ],
             [
              0.4444444444444444,
              "#bd3786"
             ],
             [
              0.5555555555555556,
              "#d8576b"
             ],
             [
              0.6666666666666666,
              "#ed7953"
             ],
             [
              0.7777777777777778,
              "#fb9f3a"
             ],
             [
              0.8888888888888888,
              "#fdca26"
             ],
             [
              1,
              "#f0f921"
             ]
            ],
            "type": "histogram2dcontour"
           }
          ],
          "mesh3d": [
           {
            "colorbar": {
             "outlinewidth": 0,
             "ticks": ""
            },
            "type": "mesh3d"
           }
          ],
          "parcoords": [
           {
            "line": {
             "colorbar": {
              "outlinewidth": 0,
              "ticks": ""
             }
            },
            "type": "parcoords"
           }
          ],
          "pie": [
           {
            "automargin": true,
            "type": "pie"
           }
          ],
          "scatter": [
           {
            "fillpattern": {
             "fillmode": "overlay",
             "size": 10,
             "solidity": 0.2
            },
            "type": "scatter"
           }
          ],
          "scatter3d": [
           {
            "line": {
             "colorbar": {
              "outlinewidth": 0,
              "ticks": ""
             }
            },
            "marker": {
             "colorbar": {
              "outlinewidth": 0,
              "ticks": ""
             }
            },
            "type": "scatter3d"
           }
          ],
          "scattercarpet": [
           {
            "marker": {
             "colorbar": {
              "outlinewidth": 0,
              "ticks": ""
             }
            },
            "type": "scattercarpet"
           }
          ],
          "scattergeo": [
           {
            "marker": {
             "colorbar": {
              "outlinewidth": 0,
              "ticks": ""
             }
            },
            "type": "scattergeo"
           }
          ],
          "scattergl": [
           {
            "marker": {
             "colorbar": {
              "outlinewidth": 0,
              "ticks": ""
             }
            },
            "type": "scattergl"
           }
          ],
          "scattermap": [
           {
            "marker": {
             "colorbar": {
              "outlinewidth": 0,
              "ticks": ""
             }
            },
            "type": "scattermap"
           }
          ],
          "scattermapbox": [
           {
            "marker": {
             "colorbar": {
              "outlinewidth": 0,
              "ticks": ""
             }
            },
            "type": "scattermapbox"
           }
          ],
          "scatterpolar": [
           {
            "marker": {
             "colorbar": {
              "outlinewidth": 0,
              "ticks": ""
             }
            },
            "type": "scatterpolar"
           }
          ],
          "scatterpolargl": [
           {
            "marker": {
             "colorbar": {
              "outlinewidth": 0,
              "ticks": ""
             }
            },
            "type": "scatterpolargl"
           }
          ],
          "scatterternary": [
           {
            "marker": {
             "colorbar": {
              "outlinewidth": 0,
              "ticks": ""
             }
            },
            "type": "scatterternary"
           }
          ],
          "surface": [
           {
            "colorbar": {
             "outlinewidth": 0,
             "ticks": ""
            },
            "colorscale": [
             [
              0,
              "#0d0887"
             ],
             [
              0.1111111111111111,
              "#46039f"
             ],
             [
              0.2222222222222222,
              "#7201a8"
             ],
             [
              0.3333333333333333,
              "#9c179e"
             ],
             [
              0.4444444444444444,
              "#bd3786"
             ],
             [
              0.5555555555555556,
              "#d8576b"
             ],
             [
              0.6666666666666666,
              "#ed7953"
             ],
             [
              0.7777777777777778,
              "#fb9f3a"
             ],
             [
              0.8888888888888888,
              "#fdca26"
             ],
             [
              1,
              "#f0f921"
             ]
            ],
            "type": "surface"
           }
          ],
          "table": [
           {
            "cells": {
             "fill": {
              "color": "#EBF0F8"
             },
             "line": {
              "color": "white"
             }
            },
            "header": {
             "fill": {
              "color": "#C8D4E3"
             },
             "line": {
              "color": "white"
             }
            },
            "type": "table"
           }
          ]
         },
         "layout": {
          "annotationdefaults": {
           "arrowcolor": "#2a3f5f",
           "arrowhead": 0,
           "arrowwidth": 1
          },
          "autotypenumbers": "strict",
          "coloraxis": {
           "colorbar": {
            "outlinewidth": 0,
            "ticks": ""
           }
          },
          "colorscale": {
           "diverging": [
            [
             0,
             "#8e0152"
            ],
            [
             0.1,
             "#c51b7d"
            ],
            [
             0.2,
             "#de77ae"
            ],
            [
             0.3,
             "#f1b6da"
            ],
            [
             0.4,
             "#fde0ef"
            ],
            [
             0.5,
             "#f7f7f7"
            ],
            [
             0.6,
             "#e6f5d0"
            ],
            [
             0.7,
             "#b8e186"
            ],
            [
             0.8,
             "#7fbc41"
            ],
            [
             0.9,
             "#4d9221"
            ],
            [
             1,
             "#276419"
            ]
           ],
           "sequential": [
            [
             0,
             "#0d0887"
            ],
            [
             0.1111111111111111,
             "#46039f"
            ],
            [
             0.2222222222222222,
             "#7201a8"
            ],
            [
             0.3333333333333333,
             "#9c179e"
            ],
            [
             0.4444444444444444,
             "#bd3786"
            ],
            [
             0.5555555555555556,
             "#d8576b"
            ],
            [
             0.6666666666666666,
             "#ed7953"
            ],
            [
             0.7777777777777778,
             "#fb9f3a"
            ],
            [
             0.8888888888888888,
             "#fdca26"
            ],
            [
             1,
             "#f0f921"
            ]
           ],
           "sequentialminus": [
            [
             0,
             "#0d0887"
            ],
            [
             0.1111111111111111,
             "#46039f"
            ],
            [
             0.2222222222222222,
             "#7201a8"
            ],
            [
             0.3333333333333333,
             "#9c179e"
            ],
            [
             0.4444444444444444,
             "#bd3786"
            ],
            [
             0.5555555555555556,
             "#d8576b"
            ],
            [
             0.6666666666666666,
             "#ed7953"
            ],
            [
             0.7777777777777778,
             "#fb9f3a"
            ],
            [
             0.8888888888888888,
             "#fdca26"
            ],
            [
             1,
             "#f0f921"
            ]
           ]
          },
          "colorway": [
           "#636efa",
           "#EF553B",
           "#00cc96",
           "#ab63fa",
           "#FFA15A",
           "#19d3f3",
           "#FF6692",
           "#B6E880",
           "#FF97FF",
           "#FECB52"
          ],
          "font": {
           "color": "#2a3f5f"
          },
          "geo": {
           "bgcolor": "white",
           "lakecolor": "white",
           "landcolor": "#E5ECF6",
           "showlakes": true,
           "showland": true,
           "subunitcolor": "white"
          },
          "hoverlabel": {
           "align": "left"
          },
          "hovermode": "closest",
          "mapbox": {
           "style": "light"
          },
          "paper_bgcolor": "white",
          "plot_bgcolor": "#E5ECF6",
          "polar": {
           "angularaxis": {
            "gridcolor": "white",
            "linecolor": "white",
            "ticks": ""
           },
           "bgcolor": "#E5ECF6",
           "radialaxis": {
            "gridcolor": "white",
            "linecolor": "white",
            "ticks": ""
           }
          },
          "scene": {
           "xaxis": {
            "backgroundcolor": "#E5ECF6",
            "gridcolor": "white",
            "gridwidth": 2,
            "linecolor": "white",
            "showbackground": true,
            "ticks": "",
            "zerolinecolor": "white"
           },
           "yaxis": {
            "backgroundcolor": "#E5ECF6",
            "gridcolor": "white",
            "gridwidth": 2,
            "linecolor": "white",
            "showbackground": true,
            "ticks": "",
            "zerolinecolor": "white"
           },
           "zaxis": {
            "backgroundcolor": "#E5ECF6",
            "gridcolor": "white",
            "gridwidth": 2,
            "linecolor": "white",
            "showbackground": true,
            "ticks": "",
            "zerolinecolor": "white"
           }
          },
          "shapedefaults": {
           "line": {
            "color": "#2a3f5f"
           }
          },
          "ternary": {
           "aaxis": {
            "gridcolor": "white",
            "linecolor": "white",
            "ticks": ""
           },
           "baxis": {
            "gridcolor": "white",
            "linecolor": "white",
            "ticks": ""
           },
           "bgcolor": "#E5ECF6",
           "caxis": {
            "gridcolor": "white",
            "linecolor": "white",
            "ticks": ""
           }
          },
          "title": {
           "x": 0.05
          },
          "xaxis": {
           "automargin": true,
           "gridcolor": "white",
           "linecolor": "white",
           "ticks": "",
           "title": {
            "standoff": 15
           },
           "zerolinecolor": "white",
           "zerolinewidth": 2
          },
          "yaxis": {
           "automargin": true,
           "gridcolor": "white",
           "linecolor": "white",
           "ticks": "",
           "title": {
            "standoff": 15
           },
           "zerolinecolor": "white",
           "zerolinewidth": 2
          }
         }
        },
        "width": 2400,
        "xaxis": {
         "anchor": "y",
         "domain": [
          0,
          0.1388888888888889
         ],
         "title": {
          "text": "Steps"
         }
        },
        "xaxis2": {
         "anchor": "y2",
         "domain": [
          0.17222222222222222,
          0.3111111111111111
         ],
         "title": {
          "text": "Steps"
         }
        },
        "xaxis3": {
         "anchor": "y3",
         "domain": [
          0.34444444444444444,
          0.48333333333333334
         ],
         "title": {
          "text": "Steps"
         }
        },
        "xaxis4": {
         "anchor": "y4",
         "domain": [
          0.5166666666666667,
          0.6555555555555557
         ],
         "title": {
          "text": "Steps"
         }
        },
        "xaxis5": {
         "anchor": "y5",
         "domain": [
          0.6888888888888889,
          0.8277777777777777
         ],
         "title": {
          "text": "Steps"
         }
        },
        "xaxis6": {
         "anchor": "y6",
         "domain": [
          0.861111111111111,
          1
         ],
         "title": {
          "text": "Steps"
         }
        },
        "yaxis": {
         "anchor": "x",
         "domain": [
          0,
          1
         ],
         "title": {
          "text": "Accuracy"
         }
        },
        "yaxis2": {
         "anchor": "x2",
         "domain": [
          0,
          1
         ],
         "matches": "y",
         "showticklabels": false
        },
        "yaxis3": {
         "anchor": "x3",
         "domain": [
          0,
          1
         ],
         "matches": "y",
         "showticklabels": false
        },
        "yaxis4": {
         "anchor": "x4",
         "domain": [
          0,
          1
         ],
         "matches": "y",
         "showticklabels": false
        },
        "yaxis5": {
         "anchor": "x5",
         "domain": [
          0,
          1
         ],
         "matches": "y",
         "showticklabels": false
        },
        "yaxis6": {
         "anchor": "x6",
         "domain": [
          0,
          1
         ],
         "matches": "y",
         "showticklabels": false
        }
       }
      }
     },
     "metadata": {},
     "output_type": "display_data"
    }
   ],
   "source": [
    "plot_results_plotly(sorted_list=[\n",
    "  'PCam-FreezeBackbone-1250_spc-2000_steps',\n",
    "  'PCam-FreezeBackbone-6400_spc-2000_steps',\n",
    "  'PCam-FreezeBackbone-12800_spc-2000_steps',\n",
    "  'PCam-FreezeBackbone-25600_spc-2000_steps',\n",
    "  'PCam-FreezeBackbone-51200_spc-2000_steps',\n",
    "  'PCam-FreezeBackbone-128000_spc-2000_steps',\n",
    "], stats=eval_stats)"
   ]
  },
  {
   "cell_type": "code",
   "execution_count": 38,
   "metadata": {},
   "outputs": [
    {
     "data": {
      "application/vnd.plotly.v1+json": {
       "config": {
        "plotlyServerURL": "https://plot.ly"
       },
       "data": [
        {
         "error_y": {
          "array": [
           0.012467226469697718,
           0.009881424452482777,
           0.00815325265214806
          ],
          "type": "data"
         },
         "name": "From_Scratch-notr",
         "type": "bar",
         "x": [
          "12800",
          "25600",
          "51200"
         ],
         "y": [
          0.7649332682291666,
          0.7750447591145834,
          0.7783610026041666
         ]
        },
        {
         "error_y": {
          "array": [
           0.01514301374243382,
           0.020469453045691706,
           0.023438113699048545
          ],
          "type": "data"
         },
         "name": "From_Scratch-aug",
         "type": "bar",
         "x": [
          "12800",
          "25600",
          "51200"
         ],
         "y": [
          0.768035888671875,
          0.7640482584635416,
          0.7809855143229166
         ]
        },
        {
         "error_y": {
          "array": [
           0.009333934294137071,
           0.016302240267354714,
           0.00915998549529278
          ],
          "type": "data"
         },
         "name": "Pretrained_ImageNet-notr",
         "type": "bar",
         "x": [
          "12800",
          "25600",
          "51200"
         ],
         "y": [
          0.7996724446614584,
          0.7882283528645834,
          0.795135498046875
         ]
        },
        {
         "error_y": {
          "array": [
           0.014391647503193442,
           0.006637898677092535,
           0.026724064250759193
          ],
          "type": "data"
         },
         "name": "Pretrained_ImageNet-aug",
         "type": "bar",
         "x": [
          "12800",
          "25600",
          "51200"
         ],
         "y": [
          0.7786763509114584,
          0.8015848795572916,
          0.7787882486979166
         ]
        }
       ],
       "layout": {
        "annotations": [
         {
          "arrowcolor": "gray",
          "arrowhead": 2,
          "font": {
           "color": "gray",
           "size": 12
          },
          "showarrow": true,
          "text": "Full Dataset From Scratch 15k Steps",
          "x": 0.342,
          "xanchor": "right",
          "xref": "x domain",
          "y": 0.805,
          "yanchor": "bottom",
          "yref": "y"
         },
         {
          "arrowcolor": "magenta",
          "arrowhead": 2,
          "font": {
           "color": "magenta",
           "size": 12
          },
          "showarrow": true,
          "text": "Full Dataset Pretrained 15k Steps",
          "x": 0.755,
          "xanchor": "right",
          "xref": "x domain",
          "y": 0.815,
          "yanchor": "bottom",
          "yref": "y"
         }
        ],
        "barmode": "group",
        "font": {
         "size": 16
        },
        "height": 500,
        "legend": {
         "bgcolor": "rgba(255, 255, 255, 0.75)",
         "x": 0.71,
         "xanchor": "left",
         "y": 0.5,
         "yanchor": "top"
        },
        "margin": {
         "b": 0,
         "t": 0
        },
        "shapes": [
         {
          "line": {
           "color": "gray",
           "dash": "dash"
          },
          "type": "line",
          "x0": 0,
          "x1": 1,
          "xref": "x domain",
          "y0": 0.8038330078125,
          "y1": 0.8038330078125,
          "yref": "y"
         },
         {
          "line": {
           "color": "magenta",
           "dash": "dash"
          },
          "type": "line",
          "x0": 0,
          "x1": 1,
          "xref": "x domain",
          "y0": 0.81298828125,
          "y1": 0.81298828125,
          "yref": "y"
         }
        ],
        "template": {
         "data": {
          "bar": [
           {
            "error_x": {
             "color": "#2a3f5f"
            },
            "error_y": {
             "color": "#2a3f5f"
            },
            "marker": {
             "line": {
              "color": "#E5ECF6",
              "width": 0.5
             },
             "pattern": {
              "fillmode": "overlay",
              "size": 10,
              "solidity": 0.2
             }
            },
            "type": "bar"
           }
          ],
          "barpolar": [
           {
            "marker": {
             "line": {
              "color": "#E5ECF6",
              "width": 0.5
             },
             "pattern": {
              "fillmode": "overlay",
              "size": 10,
              "solidity": 0.2
             }
            },
            "type": "barpolar"
           }
          ],
          "carpet": [
           {
            "aaxis": {
             "endlinecolor": "#2a3f5f",
             "gridcolor": "white",
             "linecolor": "white",
             "minorgridcolor": "white",
             "startlinecolor": "#2a3f5f"
            },
            "baxis": {
             "endlinecolor": "#2a3f5f",
             "gridcolor": "white",
             "linecolor": "white",
             "minorgridcolor": "white",
             "startlinecolor": "#2a3f5f"
            },
            "type": "carpet"
           }
          ],
          "choropleth": [
           {
            "colorbar": {
             "outlinewidth": 0,
             "ticks": ""
            },
            "type": "choropleth"
           }
          ],
          "contour": [
           {
            "colorbar": {
             "outlinewidth": 0,
             "ticks": ""
            },
            "colorscale": [
             [
              0,
              "#0d0887"
             ],
             [
              0.1111111111111111,
              "#46039f"
             ],
             [
              0.2222222222222222,
              "#7201a8"
             ],
             [
              0.3333333333333333,
              "#9c179e"
             ],
             [
              0.4444444444444444,
              "#bd3786"
             ],
             [
              0.5555555555555556,
              "#d8576b"
             ],
             [
              0.6666666666666666,
              "#ed7953"
             ],
             [
              0.7777777777777778,
              "#fb9f3a"
             ],
             [
              0.8888888888888888,
              "#fdca26"
             ],
             [
              1,
              "#f0f921"
             ]
            ],
            "type": "contour"
           }
          ],
          "contourcarpet": [
           {
            "colorbar": {
             "outlinewidth": 0,
             "ticks": ""
            },
            "type": "contourcarpet"
           }
          ],
          "heatmap": [
           {
            "colorbar": {
             "outlinewidth": 0,
             "ticks": ""
            },
            "colorscale": [
             [
              0,
              "#0d0887"
             ],
             [
              0.1111111111111111,
              "#46039f"
             ],
             [
              0.2222222222222222,
              "#7201a8"
             ],
             [
              0.3333333333333333,
              "#9c179e"
             ],
             [
              0.4444444444444444,
              "#bd3786"
             ],
             [
              0.5555555555555556,
              "#d8576b"
             ],
             [
              0.6666666666666666,
              "#ed7953"
             ],
             [
              0.7777777777777778,
              "#fb9f3a"
             ],
             [
              0.8888888888888888,
              "#fdca26"
             ],
             [
              1,
              "#f0f921"
             ]
            ],
            "type": "heatmap"
           }
          ],
          "histogram": [
           {
            "marker": {
             "pattern": {
              "fillmode": "overlay",
              "size": 10,
              "solidity": 0.2
             }
            },
            "type": "histogram"
           }
          ],
          "histogram2d": [
           {
            "colorbar": {
             "outlinewidth": 0,
             "ticks": ""
            },
            "colorscale": [
             [
              0,
              "#0d0887"
             ],
             [
              0.1111111111111111,
              "#46039f"
             ],
             [
              0.2222222222222222,
              "#7201a8"
             ],
             [
              0.3333333333333333,
              "#9c179e"
             ],
             [
              0.4444444444444444,
              "#bd3786"
             ],
             [
              0.5555555555555556,
              "#d8576b"
             ],
             [
              0.6666666666666666,
              "#ed7953"
             ],
             [
              0.7777777777777778,
              "#fb9f3a"
             ],
             [
              0.8888888888888888,
              "#fdca26"
             ],
             [
              1,
              "#f0f921"
             ]
            ],
            "type": "histogram2d"
           }
          ],
          "histogram2dcontour": [
           {
            "colorbar": {
             "outlinewidth": 0,
             "ticks": ""
            },
            "colorscale": [
             [
              0,
              "#0d0887"
             ],
             [
              0.1111111111111111,
              "#46039f"
             ],
             [
              0.2222222222222222,
              "#7201a8"
             ],
             [
              0.3333333333333333,
              "#9c179e"
             ],
             [
              0.4444444444444444,
              "#bd3786"
             ],
             [
              0.5555555555555556,
              "#d8576b"
             ],
             [
              0.6666666666666666,
              "#ed7953"
             ],
             [
              0.7777777777777778,
              "#fb9f3a"
             ],
             [
              0.8888888888888888,
              "#fdca26"
             ],
             [
              1,
              "#f0f921"
             ]
            ],
            "type": "histogram2dcontour"
           }
          ],
          "mesh3d": [
           {
            "colorbar": {
             "outlinewidth": 0,
             "ticks": ""
            },
            "type": "mesh3d"
           }
          ],
          "parcoords": [
           {
            "line": {
             "colorbar": {
              "outlinewidth": 0,
              "ticks": ""
             }
            },
            "type": "parcoords"
           }
          ],
          "pie": [
           {
            "automargin": true,
            "type": "pie"
           }
          ],
          "scatter": [
           {
            "fillpattern": {
             "fillmode": "overlay",
             "size": 10,
             "solidity": 0.2
            },
            "type": "scatter"
           }
          ],
          "scatter3d": [
           {
            "line": {
             "colorbar": {
              "outlinewidth": 0,
              "ticks": ""
             }
            },
            "marker": {
             "colorbar": {
              "outlinewidth": 0,
              "ticks": ""
             }
            },
            "type": "scatter3d"
           }
          ],
          "scattercarpet": [
           {
            "marker": {
             "colorbar": {
              "outlinewidth": 0,
              "ticks": ""
             }
            },
            "type": "scattercarpet"
           }
          ],
          "scattergeo": [
           {
            "marker": {
             "colorbar": {
              "outlinewidth": 0,
              "ticks": ""
             }
            },
            "type": "scattergeo"
           }
          ],
          "scattergl": [
           {
            "marker": {
             "colorbar": {
              "outlinewidth": 0,
              "ticks": ""
             }
            },
            "type": "scattergl"
           }
          ],
          "scattermap": [
           {
            "marker": {
             "colorbar": {
              "outlinewidth": 0,
              "ticks": ""
             }
            },
            "type": "scattermap"
           }
          ],
          "scattermapbox": [
           {
            "marker": {
             "colorbar": {
              "outlinewidth": 0,
              "ticks": ""
             }
            },
            "type": "scattermapbox"
           }
          ],
          "scatterpolar": [
           {
            "marker": {
             "colorbar": {
              "outlinewidth": 0,
              "ticks": ""
             }
            },
            "type": "scatterpolar"
           }
          ],
          "scatterpolargl": [
           {
            "marker": {
             "colorbar": {
              "outlinewidth": 0,
              "ticks": ""
             }
            },
            "type": "scatterpolargl"
           }
          ],
          "scatterternary": [
           {
            "marker": {
             "colorbar": {
              "outlinewidth": 0,
              "ticks": ""
             }
            },
            "type": "scatterternary"
           }
          ],
          "surface": [
           {
            "colorbar": {
             "outlinewidth": 0,
             "ticks": ""
            },
            "colorscale": [
             [
              0,
              "#0d0887"
             ],
             [
              0.1111111111111111,
              "#46039f"
             ],
             [
              0.2222222222222222,
              "#7201a8"
             ],
             [
              0.3333333333333333,
              "#9c179e"
             ],
             [
              0.4444444444444444,
              "#bd3786"
             ],
             [
              0.5555555555555556,
              "#d8576b"
             ],
             [
              0.6666666666666666,
              "#ed7953"
             ],
             [
              0.7777777777777778,
              "#fb9f3a"
             ],
             [
              0.8888888888888888,
              "#fdca26"
             ],
             [
              1,
              "#f0f921"
             ]
            ],
            "type": "surface"
           }
          ],
          "table": [
           {
            "cells": {
             "fill": {
              "color": "#EBF0F8"
             },
             "line": {
              "color": "white"
             }
            },
            "header": {
             "fill": {
              "color": "#C8D4E3"
             },
             "line": {
              "color": "white"
             }
            },
            "type": "table"
           }
          ]
         },
         "layout": {
          "annotationdefaults": {
           "arrowcolor": "#2a3f5f",
           "arrowhead": 0,
           "arrowwidth": 1
          },
          "autotypenumbers": "strict",
          "coloraxis": {
           "colorbar": {
            "outlinewidth": 0,
            "ticks": ""
           }
          },
          "colorscale": {
           "diverging": [
            [
             0,
             "#8e0152"
            ],
            [
             0.1,
             "#c51b7d"
            ],
            [
             0.2,
             "#de77ae"
            ],
            [
             0.3,
             "#f1b6da"
            ],
            [
             0.4,
             "#fde0ef"
            ],
            [
             0.5,
             "#f7f7f7"
            ],
            [
             0.6,
             "#e6f5d0"
            ],
            [
             0.7,
             "#b8e186"
            ],
            [
             0.8,
             "#7fbc41"
            ],
            [
             0.9,
             "#4d9221"
            ],
            [
             1,
             "#276419"
            ]
           ],
           "sequential": [
            [
             0,
             "#0d0887"
            ],
            [
             0.1111111111111111,
             "#46039f"
            ],
            [
             0.2222222222222222,
             "#7201a8"
            ],
            [
             0.3333333333333333,
             "#9c179e"
            ],
            [
             0.4444444444444444,
             "#bd3786"
            ],
            [
             0.5555555555555556,
             "#d8576b"
            ],
            [
             0.6666666666666666,
             "#ed7953"
            ],
            [
             0.7777777777777778,
             "#fb9f3a"
            ],
            [
             0.8888888888888888,
             "#fdca26"
            ],
            [
             1,
             "#f0f921"
            ]
           ],
           "sequentialminus": [
            [
             0,
             "#0d0887"
            ],
            [
             0.1111111111111111,
             "#46039f"
            ],
            [
             0.2222222222222222,
             "#7201a8"
            ],
            [
             0.3333333333333333,
             "#9c179e"
            ],
            [
             0.4444444444444444,
             "#bd3786"
            ],
            [
             0.5555555555555556,
             "#d8576b"
            ],
            [
             0.6666666666666666,
             "#ed7953"
            ],
            [
             0.7777777777777778,
             "#fb9f3a"
            ],
            [
             0.8888888888888888,
             "#fdca26"
            ],
            [
             1,
             "#f0f921"
            ]
           ]
          },
          "colorway": [
           "#636efa",
           "#EF553B",
           "#00cc96",
           "#ab63fa",
           "#FFA15A",
           "#19d3f3",
           "#FF6692",
           "#B6E880",
           "#FF97FF",
           "#FECB52"
          ],
          "font": {
           "color": "#2a3f5f"
          },
          "geo": {
           "bgcolor": "white",
           "lakecolor": "white",
           "landcolor": "#E5ECF6",
           "showlakes": true,
           "showland": true,
           "subunitcolor": "white"
          },
          "hoverlabel": {
           "align": "left"
          },
          "hovermode": "closest",
          "mapbox": {
           "style": "light"
          },
          "paper_bgcolor": "white",
          "plot_bgcolor": "#E5ECF6",
          "polar": {
           "angularaxis": {
            "gridcolor": "white",
            "linecolor": "white",
            "ticks": ""
           },
           "bgcolor": "#E5ECF6",
           "radialaxis": {
            "gridcolor": "white",
            "linecolor": "white",
            "ticks": ""
           }
          },
          "scene": {
           "xaxis": {
            "backgroundcolor": "#E5ECF6",
            "gridcolor": "white",
            "gridwidth": 2,
            "linecolor": "white",
            "showbackground": true,
            "ticks": "",
            "zerolinecolor": "white"
           },
           "yaxis": {
            "backgroundcolor": "#E5ECF6",
            "gridcolor": "white",
            "gridwidth": 2,
            "linecolor": "white",
            "showbackground": true,
            "ticks": "",
            "zerolinecolor": "white"
           },
           "zaxis": {
            "backgroundcolor": "#E5ECF6",
            "gridcolor": "white",
            "gridwidth": 2,
            "linecolor": "white",
            "showbackground": true,
            "ticks": "",
            "zerolinecolor": "white"
           }
          },
          "shapedefaults": {
           "line": {
            "color": "#2a3f5f"
           }
          },
          "ternary": {
           "aaxis": {
            "gridcolor": "white",
            "linecolor": "white",
            "ticks": ""
           },
           "baxis": {
            "gridcolor": "white",
            "linecolor": "white",
            "ticks": ""
           },
           "bgcolor": "#E5ECF6",
           "caxis": {
            "gridcolor": "white",
            "linecolor": "white",
            "ticks": ""
           }
          },
          "title": {
           "x": 0.05
          },
          "xaxis": {
           "automargin": true,
           "gridcolor": "white",
           "linecolor": "white",
           "ticks": "",
           "title": {
            "standoff": 15
           },
           "zerolinecolor": "white",
           "zerolinewidth": 2
          },
          "yaxis": {
           "automargin": true,
           "gridcolor": "white",
           "linecolor": "white",
           "ticks": "",
           "title": {
            "standoff": 15
           },
           "zerolinecolor": "white",
           "zerolinewidth": 2
          }
         }
        },
        "width": 1200,
        "yaxis": {
         "range": [
          0.5,
          0.85
         ]
        }
       }
      }
     },
     "metadata": {},
     "output_type": "display_data"
    }
   ],
   "source": [
    "import plotly.graph_objects as go\n",
    "\n",
    "categories = [\"From_Scratch-notr\", \"From_Scratch-aug\", \"Pretrained_ImageNet-notr\", \"Pretrained_ImageNet-aug\"]\n",
    "samples = [\"12800\", \"25600\", \"51200\"]\n",
    "full_dataset_accuracy_scratch = supervised_stats[\"From_Scratch-aug-128000_spc-15000_steps\"][\"v_0-version_1\"][\"test_accuracy\"][0][2]\n",
    "full_dataset_accuracy_pretrained = supervised_stats[\"Pretrained_ImageNet-aug-128000_spc-15000_steps\"][\"v_0-version_1\"][\"test_accuracy\"][0][2]\n",
    "\n",
    "fig = go.Figure()\n",
    "for category in categories:\n",
    "  y, err = zip(*[calculate_average(f\"{category}-{sample}_spc-2000_steps\", supervised_stats) for sample in samples])\n",
    "  fig.add_trace(go.Bar(\n",
    "    name=f\"{category}\",\n",
    "    x=samples,\n",
    "    y=y,\n",
    "    error_y=dict(type='data', array=err)\n",
    "  ))\n",
    "\n",
    "fig.add_hline(\n",
    "  full_dataset_accuracy_scratch,\n",
    "  line=dict(color=\"gray\", dash='dash'),\n",
    "  annotation=dict(\n",
    "    text=\"Full Dataset From Scratch 15k Steps\",\n",
    "    yref=\"y\",\n",
    "    x=0.342,\n",
    "    y=0.805,\n",
    "    showarrow=True,\n",
    "    arrowcolor=\"gray\",\n",
    "    arrowhead=2,\n",
    "    font=dict(size=12, color=\"gray\")\n",
    "  )\n",
    ")\n",
    "\n",
    "fig.add_hline(\n",
    "  full_dataset_accuracy_pretrained,\n",
    "  line=dict(color=\"magenta\", dash='dash'),\n",
    "  annotation=dict(\n",
    "    text=\"Full Dataset Pretrained 15k Steps\",\n",
    "    yref=\"y\",\n",
    "    x=0.755,\n",
    "    y=0.815,\n",
    "    showarrow=True,\n",
    "    arrowcolor=\"magenta\",\n",
    "    arrowhead=2,\n",
    "    font=dict(size=12, color=\"magenta\")\n",
    "  )\n",
    ")\n",
    "\n",
    "fig.update_layout(barmode='group', font=dict(size=16), width=1200, height=500, yaxis=dict(range=(0.5, 0.85)), legend=dict(\n",
    "    yanchor=\"top\",\n",
    "    y=0.5,\n",
    "    xanchor=\"left\",\n",
    "    x=0.71,\n",
    "    bgcolor=\"rgba(255, 255, 255, 0.75)\"\n",
    "), margin=dict(t=0, b=0))\n",
    "fig.show()"
   ]
  },
  {
   "cell_type": "code",
   "execution_count": 66,
   "metadata": {},
   "outputs": [
    {
     "data": {
      "application/vnd.plotly.v1+json": {
       "config": {
        "plotlyServerURL": "https://plot.ly"
       },
       "data": [
        {
         "name": "1250 SPC",
         "type": "bar",
         "x": [
          "FreezeBackbone",
          "FullFineTune"
         ],
         "y": [
          0.7557373046875,
          0.766357421875
         ]
        },
        {
         "name": "6400 SPC",
         "type": "bar",
         "x": [
          "FreezeBackbone",
          "FullFineTune"
         ],
         "y": [
          0.744964599609375,
          0.782470703125
         ]
        },
        {
         "name": "12800 SPC",
         "type": "bar",
         "x": [
          "FreezeBackbone",
          "FullFineTune"
         ],
         "y": [
          0.759735107421875,
          0.775909423828125
         ]
        },
        {
         "name": "25600 SPC",
         "type": "bar",
         "x": [
          "FreezeBackbone",
          "FullFineTune"
         ],
         "y": [
          0.758941650390625,
          0.76678466796875
         ]
        },
        {
         "name": "51200 SPC",
         "type": "bar",
         "x": [
          "FreezeBackbone",
          "FullFineTune"
         ],
         "y": [
          0.745269775390625,
          0.768798828125
         ]
        }
       ],
       "layout": {
        "annotations": [
         {
          "arrowcolor": "gray",
          "arrowhead": 2,
          "font": {
           "color": "gray",
           "size": 12
          },
          "showarrow": true,
          "text": "51200 SPC Supervised Performance",
          "x": 0.31,
          "xanchor": "right",
          "xref": "x domain",
          "y": 0.785,
          "yanchor": "bottom",
          "yref": "y"
         }
        ],
        "barmode": "group",
        "font": {
         "size": 16
        },
        "height": 500,
        "legend": {
         "bgcolor": "rgba(255, 255, 255, 0.75)",
         "x": 0.72,
         "xanchor": "left",
         "y": 0.6,
         "yanchor": "top"
        },
        "margin": {
         "b": 0,
         "t": 0
        },
        "shapes": [
         {
          "line": {
           "color": "gray",
           "dash": "dash"
          },
          "type": "line",
          "x0": 0,
          "x1": 1,
          "xref": "x domain",
          "y0": 0.7809855143229166,
          "y1": 0.7809855143229166,
          "yref": "y"
         }
        ],
        "template": {
         "data": {
          "bar": [
           {
            "error_x": {
             "color": "#2a3f5f"
            },
            "error_y": {
             "color": "#2a3f5f"
            },
            "marker": {
             "line": {
              "color": "#E5ECF6",
              "width": 0.5
             },
             "pattern": {
              "fillmode": "overlay",
              "size": 10,
              "solidity": 0.2
             }
            },
            "type": "bar"
           }
          ],
          "barpolar": [
           {
            "marker": {
             "line": {
              "color": "#E5ECF6",
              "width": 0.5
             },
             "pattern": {
              "fillmode": "overlay",
              "size": 10,
              "solidity": 0.2
             }
            },
            "type": "barpolar"
           }
          ],
          "carpet": [
           {
            "aaxis": {
             "endlinecolor": "#2a3f5f",
             "gridcolor": "white",
             "linecolor": "white",
             "minorgridcolor": "white",
             "startlinecolor": "#2a3f5f"
            },
            "baxis": {
             "endlinecolor": "#2a3f5f",
             "gridcolor": "white",
             "linecolor": "white",
             "minorgridcolor": "white",
             "startlinecolor": "#2a3f5f"
            },
            "type": "carpet"
           }
          ],
          "choropleth": [
           {
            "colorbar": {
             "outlinewidth": 0,
             "ticks": ""
            },
            "type": "choropleth"
           }
          ],
          "contour": [
           {
            "colorbar": {
             "outlinewidth": 0,
             "ticks": ""
            },
            "colorscale": [
             [
              0,
              "#0d0887"
             ],
             [
              0.1111111111111111,
              "#46039f"
             ],
             [
              0.2222222222222222,
              "#7201a8"
             ],
             [
              0.3333333333333333,
              "#9c179e"
             ],
             [
              0.4444444444444444,
              "#bd3786"
             ],
             [
              0.5555555555555556,
              "#d8576b"
             ],
             [
              0.6666666666666666,
              "#ed7953"
             ],
             [
              0.7777777777777778,
              "#fb9f3a"
             ],
             [
              0.8888888888888888,
              "#fdca26"
             ],
             [
              1,
              "#f0f921"
             ]
            ],
            "type": "contour"
           }
          ],
          "contourcarpet": [
           {
            "colorbar": {
             "outlinewidth": 0,
             "ticks": ""
            },
            "type": "contourcarpet"
           }
          ],
          "heatmap": [
           {
            "colorbar": {
             "outlinewidth": 0,
             "ticks": ""
            },
            "colorscale": [
             [
              0,
              "#0d0887"
             ],
             [
              0.1111111111111111,
              "#46039f"
             ],
             [
              0.2222222222222222,
              "#7201a8"
             ],
             [
              0.3333333333333333,
              "#9c179e"
             ],
             [
              0.4444444444444444,
              "#bd3786"
             ],
             [
              0.5555555555555556,
              "#d8576b"
             ],
             [
              0.6666666666666666,
              "#ed7953"
             ],
             [
              0.7777777777777778,
              "#fb9f3a"
             ],
             [
              0.8888888888888888,
              "#fdca26"
             ],
             [
              1,
              "#f0f921"
             ]
            ],
            "type": "heatmap"
           }
          ],
          "histogram": [
           {
            "marker": {
             "pattern": {
              "fillmode": "overlay",
              "size": 10,
              "solidity": 0.2
             }
            },
            "type": "histogram"
           }
          ],
          "histogram2d": [
           {
            "colorbar": {
             "outlinewidth": 0,
             "ticks": ""
            },
            "colorscale": [
             [
              0,
              "#0d0887"
             ],
             [
              0.1111111111111111,
              "#46039f"
             ],
             [
              0.2222222222222222,
              "#7201a8"
             ],
             [
              0.3333333333333333,
              "#9c179e"
             ],
             [
              0.4444444444444444,
              "#bd3786"
             ],
             [
              0.5555555555555556,
              "#d8576b"
             ],
             [
              0.6666666666666666,
              "#ed7953"
             ],
             [
              0.7777777777777778,
              "#fb9f3a"
             ],
             [
              0.8888888888888888,
              "#fdca26"
             ],
             [
              1,
              "#f0f921"
             ]
            ],
            "type": "histogram2d"
           }
          ],
          "histogram2dcontour": [
           {
            "colorbar": {
             "outlinewidth": 0,
             "ticks": ""
            },
            "colorscale": [
             [
              0,
              "#0d0887"
             ],
             [
              0.1111111111111111,
              "#46039f"
             ],
             [
              0.2222222222222222,
              "#7201a8"
             ],
             [
              0.3333333333333333,
              "#9c179e"
             ],
             [
              0.4444444444444444,
              "#bd3786"
             ],
             [
              0.5555555555555556,
              "#d8576b"
             ],
             [
              0.6666666666666666,
              "#ed7953"
             ],
             [
              0.7777777777777778,
              "#fb9f3a"
             ],
             [
              0.8888888888888888,
              "#fdca26"
             ],
             [
              1,
              "#f0f921"
             ]
            ],
            "type": "histogram2dcontour"
           }
          ],
          "mesh3d": [
           {
            "colorbar": {
             "outlinewidth": 0,
             "ticks": ""
            },
            "type": "mesh3d"
           }
          ],
          "parcoords": [
           {
            "line": {
             "colorbar": {
              "outlinewidth": 0,
              "ticks": ""
             }
            },
            "type": "parcoords"
           }
          ],
          "pie": [
           {
            "automargin": true,
            "type": "pie"
           }
          ],
          "scatter": [
           {
            "fillpattern": {
             "fillmode": "overlay",
             "size": 10,
             "solidity": 0.2
            },
            "type": "scatter"
           }
          ],
          "scatter3d": [
           {
            "line": {
             "colorbar": {
              "outlinewidth": 0,
              "ticks": ""
             }
            },
            "marker": {
             "colorbar": {
              "outlinewidth": 0,
              "ticks": ""
             }
            },
            "type": "scatter3d"
           }
          ],
          "scattercarpet": [
           {
            "marker": {
             "colorbar": {
              "outlinewidth": 0,
              "ticks": ""
             }
            },
            "type": "scattercarpet"
           }
          ],
          "scattergeo": [
           {
            "marker": {
             "colorbar": {
              "outlinewidth": 0,
              "ticks": ""
             }
            },
            "type": "scattergeo"
           }
          ],
          "scattergl": [
           {
            "marker": {
             "colorbar": {
              "outlinewidth": 0,
              "ticks": ""
             }
            },
            "type": "scattergl"
           }
          ],
          "scattermap": [
           {
            "marker": {
             "colorbar": {
              "outlinewidth": 0,
              "ticks": ""
             }
            },
            "type": "scattermap"
           }
          ],
          "scattermapbox": [
           {
            "marker": {
             "colorbar": {
              "outlinewidth": 0,
              "ticks": ""
             }
            },
            "type": "scattermapbox"
           }
          ],
          "scatterpolar": [
           {
            "marker": {
             "colorbar": {
              "outlinewidth": 0,
              "ticks": ""
             }
            },
            "type": "scatterpolar"
           }
          ],
          "scatterpolargl": [
           {
            "marker": {
             "colorbar": {
              "outlinewidth": 0,
              "ticks": ""
             }
            },
            "type": "scatterpolargl"
           }
          ],
          "scatterternary": [
           {
            "marker": {
             "colorbar": {
              "outlinewidth": 0,
              "ticks": ""
             }
            },
            "type": "scatterternary"
           }
          ],
          "surface": [
           {
            "colorbar": {
             "outlinewidth": 0,
             "ticks": ""
            },
            "colorscale": [
             [
              0,
              "#0d0887"
             ],
             [
              0.1111111111111111,
              "#46039f"
             ],
             [
              0.2222222222222222,
              "#7201a8"
             ],
             [
              0.3333333333333333,
              "#9c179e"
             ],
             [
              0.4444444444444444,
              "#bd3786"
             ],
             [
              0.5555555555555556,
              "#d8576b"
             ],
             [
              0.6666666666666666,
              "#ed7953"
             ],
             [
              0.7777777777777778,
              "#fb9f3a"
             ],
             [
              0.8888888888888888,
              "#fdca26"
             ],
             [
              1,
              "#f0f921"
             ]
            ],
            "type": "surface"
           }
          ],
          "table": [
           {
            "cells": {
             "fill": {
              "color": "#EBF0F8"
             },
             "line": {
              "color": "white"
             }
            },
            "header": {
             "fill": {
              "color": "#C8D4E3"
             },
             "line": {
              "color": "white"
             }
            },
            "type": "table"
           }
          ]
         },
         "layout": {
          "annotationdefaults": {
           "arrowcolor": "#2a3f5f",
           "arrowhead": 0,
           "arrowwidth": 1
          },
          "autotypenumbers": "strict",
          "coloraxis": {
           "colorbar": {
            "outlinewidth": 0,
            "ticks": ""
           }
          },
          "colorscale": {
           "diverging": [
            [
             0,
             "#8e0152"
            ],
            [
             0.1,
             "#c51b7d"
            ],
            [
             0.2,
             "#de77ae"
            ],
            [
             0.3,
             "#f1b6da"
            ],
            [
             0.4,
             "#fde0ef"
            ],
            [
             0.5,
             "#f7f7f7"
            ],
            [
             0.6,
             "#e6f5d0"
            ],
            [
             0.7,
             "#b8e186"
            ],
            [
             0.8,
             "#7fbc41"
            ],
            [
             0.9,
             "#4d9221"
            ],
            [
             1,
             "#276419"
            ]
           ],
           "sequential": [
            [
             0,
             "#0d0887"
            ],
            [
             0.1111111111111111,
             "#46039f"
            ],
            [
             0.2222222222222222,
             "#7201a8"
            ],
            [
             0.3333333333333333,
             "#9c179e"
            ],
            [
             0.4444444444444444,
             "#bd3786"
            ],
            [
             0.5555555555555556,
             "#d8576b"
            ],
            [
             0.6666666666666666,
             "#ed7953"
            ],
            [
             0.7777777777777778,
             "#fb9f3a"
            ],
            [
             0.8888888888888888,
             "#fdca26"
            ],
            [
             1,
             "#f0f921"
            ]
           ],
           "sequentialminus": [
            [
             0,
             "#0d0887"
            ],
            [
             0.1111111111111111,
             "#46039f"
            ],
            [
             0.2222222222222222,
             "#7201a8"
            ],
            [
             0.3333333333333333,
             "#9c179e"
            ],
            [
             0.4444444444444444,
             "#bd3786"
            ],
            [
             0.5555555555555556,
             "#d8576b"
            ],
            [
             0.6666666666666666,
             "#ed7953"
            ],
            [
             0.7777777777777778,
             "#fb9f3a"
            ],
            [
             0.8888888888888888,
             "#fdca26"
            ],
            [
             1,
             "#f0f921"
            ]
           ]
          },
          "colorway": [
           "#636efa",
           "#EF553B",
           "#00cc96",
           "#ab63fa",
           "#FFA15A",
           "#19d3f3",
           "#FF6692",
           "#B6E880",
           "#FF97FF",
           "#FECB52"
          ],
          "font": {
           "color": "#2a3f5f"
          },
          "geo": {
           "bgcolor": "white",
           "lakecolor": "white",
           "landcolor": "#E5ECF6",
           "showlakes": true,
           "showland": true,
           "subunitcolor": "white"
          },
          "hoverlabel": {
           "align": "left"
          },
          "hovermode": "closest",
          "mapbox": {
           "style": "light"
          },
          "paper_bgcolor": "white",
          "plot_bgcolor": "#E5ECF6",
          "polar": {
           "angularaxis": {
            "gridcolor": "white",
            "linecolor": "white",
            "ticks": ""
           },
           "bgcolor": "#E5ECF6",
           "radialaxis": {
            "gridcolor": "white",
            "linecolor": "white",
            "ticks": ""
           }
          },
          "scene": {
           "xaxis": {
            "backgroundcolor": "#E5ECF6",
            "gridcolor": "white",
            "gridwidth": 2,
            "linecolor": "white",
            "showbackground": true,
            "ticks": "",
            "zerolinecolor": "white"
           },
           "yaxis": {
            "backgroundcolor": "#E5ECF6",
            "gridcolor": "white",
            "gridwidth": 2,
            "linecolor": "white",
            "showbackground": true,
            "ticks": "",
            "zerolinecolor": "white"
           },
           "zaxis": {
            "backgroundcolor": "#E5ECF6",
            "gridcolor": "white",
            "gridwidth": 2,
            "linecolor": "white",
            "showbackground": true,
            "ticks": "",
            "zerolinecolor": "white"
           }
          },
          "shapedefaults": {
           "line": {
            "color": "#2a3f5f"
           }
          },
          "ternary": {
           "aaxis": {
            "gridcolor": "white",
            "linecolor": "white",
            "ticks": ""
           },
           "baxis": {
            "gridcolor": "white",
            "linecolor": "white",
            "ticks": ""
           },
           "bgcolor": "#E5ECF6",
           "caxis": {
            "gridcolor": "white",
            "linecolor": "white",
            "ticks": ""
           }
          },
          "title": {
           "x": 0.05
          },
          "xaxis": {
           "automargin": true,
           "gridcolor": "white",
           "linecolor": "white",
           "ticks": "",
           "title": {
            "standoff": 15
           },
           "zerolinecolor": "white",
           "zerolinewidth": 2
          },
          "yaxis": {
           "automargin": true,
           "gridcolor": "white",
           "linecolor": "white",
           "ticks": "",
           "title": {
            "standoff": 15
           },
           "zerolinecolor": "white",
           "zerolinewidth": 2
          }
         }
        },
        "width": 1200,
        "yaxis": {
         "range": [
          0.5,
          0.82
         ]
        }
       }
      }
     },
     "metadata": {},
     "output_type": "display_data"
    }
   ],
   "source": [
    "import plotly.graph_objects as go\n",
    "\n",
    "categories = [\"FreezeBackbone\", \"FullFineTune\"]\n",
    "samples = [\"1250\", \"6400\", \"12800\", \"25600\", \"51200\"]\n",
    "\n",
    "fig = go.Figure()\n",
    "for samples in samples:\n",
    "  y, _ = zip(*[calculate_average(f\"PCam-{category}-{samples}_spc-2000_steps\", eval_stats) for category in categories])\n",
    "  fig.add_trace(go.Bar(\n",
    "      name=f\"{samples} SPC\",\n",
    "      x=categories,\n",
    "      y=y\n",
    "  ))\n",
    "\n",
    "accuracy_target, _ = calculate_average(\"From_Scratch-aug-51200_spc-2000_steps\", supervised_stats)\n",
    "fig.add_hline(\n",
    "  accuracy_target,\n",
    "  line=dict(color=\"gray\", dash='dash'),\n",
    "  annotation=dict(\n",
    "    text=\"51200 SPC Supervised Performance\",\n",
    "    yref=\"y\",\n",
    "    x=0.31,\n",
    "    y=0.785,\n",
    "    showarrow=True,\n",
    "    arrowcolor=\"gray\",\n",
    "    arrowhead=2,\n",
    "    font=dict(size=12, color=\"gray\")\n",
    "  )\n",
    ")\n",
    "\n",
    "fig.update_layout(barmode='group', font=dict(size=16), width=1200, height=500, yaxis=dict(range=(0.5, 0.82)), legend=dict(\n",
    "    yanchor=\"top\",\n",
    "    y=0.6,\n",
    "    xanchor=\"left\",\n",
    "    x=0.72,\n",
    "    bgcolor=\"rgba(255, 255, 255, 0.75)\"\n",
    "), margin=dict(t=0, b=0))\n",
    "fig.show()"
   ]
  }
 ],
 "metadata": {
  "kernelspec": {
   "display_name": "Python 3",
   "language": "python",
   "name": "python3"
  },
  "language_info": {
   "codemirror_mode": {
    "name": "ipython",
    "version": 3
   },
   "file_extension": ".py",
   "mimetype": "text/x-python",
   "name": "python",
   "nbconvert_exporter": "python",
   "pygments_lexer": "ipython3",
   "version": "3.10.16"
  }
 },
 "nbformat": 4,
 "nbformat_minor": 2
}
