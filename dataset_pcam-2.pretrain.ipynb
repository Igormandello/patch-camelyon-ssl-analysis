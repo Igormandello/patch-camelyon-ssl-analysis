{
 "cells": [
  {
   "cell_type": "code",
   "execution_count": 1,
   "metadata": {},
   "outputs": [],
   "source": [
    "%load_ext autoreload\n",
    "%autoreload 2"
   ]
  },
  {
   "cell_type": "markdown",
   "metadata": {},
   "source": [
    "# Pretraining backbones with Minerva Learn from Randomness\n",
    "\n",
    "This notebook provides a demonstration of how to pretrain feature extraction backbones using the Minerva Learn from Randomness model. "
   ]
  },
  {
   "cell_type": "markdown",
   "metadata": {},
   "source": [
    "## 1. Introduction"
   ]
  },
  {
   "cell_type": "markdown",
   "metadata": {},
   "source": [
    "### Learn from Randomness (LFR)\n",
    "\n",
    "LFR is a self-supervised learning (SSL) method for learning representations without requiring labeled data. "
   ]
  },
  {
   "cell_type": "code",
   "execution_count": null,
   "metadata": {},
   "outputs": [],
   "source": [
    "# Took 10h in my computer\n",
    "n_epochs = 81\n",
    "\n",
    "# Dataloaders/Datamodule parameters\n",
    "DL_BATCH_SIZE=2 ** 8\n",
    "DL_NUM_WORKERS=4\n",
    "DL_TRAIN_SAMPLES_PER_CLASS=128_000\n",
    "DL_VAL_SAMPLES_PER_CLASS=None\n",
    "\n",
    "# LFR Parameters\n",
    "N_PROJECTORS=6\n",
    "PREDICTOR_EPOCHS=3\n",
    "LEARNING_RATE=3e-2\n",
    "\n",
    "# Data directory\n",
    "data_dir = \"./data\""
   ]
  },
  {
   "cell_type": "markdown",
   "metadata": {},
   "source": [
    "### 2.3 Importing basic modules"
   ]
  },
  {
   "cell_type": "markdown",
   "metadata": {},
   "source": [
    "Let's import the basic modules, such as lightning, torch, minerva, and other utility modules."
   ]
  },
  {
   "cell_type": "code",
   "execution_count": 3,
   "metadata": {},
   "outputs": [
    {
     "name": "stderr",
     "output_type": "stream",
     "text": [
      "/home/igor/Desktop/mo810/course-work/.venv/lib/python3.10/site-packages/tqdm/auto.py:21: TqdmWarning: IProgress not found. Please update jupyter and ipywidgets. See https://ipywidgets.readthedocs.io/en/stable/user_install.html\n",
      "  from .autonotebook import tqdm as notebook_tqdm\n",
      "Seed set to 1969\n"
     ]
    },
    {
     "name": "stdout",
     "output_type": "stream",
     "text": [
      "PyTorch version: 2.7.1+cu126\n",
      "torchvision version: 0.22.1+cu126\n",
      "Lightning version: 2.5.1.post0\n"
     ]
    },
    {
     "data": {
      "text/plain": [
       "1969"
      ]
     },
     "execution_count": 3,
     "metadata": {},
     "output_type": "execute_result"
    }
   ],
   "source": [
    "import torch\n",
    "import torchvision\n",
    "import lightning\n",
    "import minerva\n",
    "\n",
    "print(f\"PyTorch version: {torch.__version__}\")\n",
    "print(f\"torchvision version: {torchvision.__version__}\")\n",
    "print(f\"Lightning version: {lightning.__version__}\")\n",
    "\n",
    "lightning.seed_everything(1969)"
   ]
  },
  {
   "cell_type": "markdown",
   "metadata": {},
   "source": [
    "## <a id=\"sec_3\">3. Setting up the Dataset</a>"
   ]
  },
  {
   "cell_type": "markdown",
   "metadata": {},
   "source": [
    "We will use the unlabeled split of the STL10 dataset to pretrain our backbone. \n",
    "To enable contrastive learning, we will apply a series of data transformations to generate randomly augmented views of each image.\n",
    "\n",
    "For a detailed discussion of the data augmentation strategies used in the next code block, please refer to the tutorial:\n",
    "`08_minerva_data_transforms.ipynb`."
   ]
  },
  {
   "cell_type": "code",
   "execution_count": 4,
   "metadata": {},
   "outputs": [],
   "source": [
    "from dataset_pcam import PCamDataModule\n",
    "\n",
    "datamodule = PCamDataModule(data_dir=data_dir, batch_size=DL_BATCH_SIZE, num_workers=DL_NUM_WORKERS, val_samples_per_class=DL_VAL_SAMPLES_PER_CLASS)\n",
    "class_names = datamodule.full_dataset.classes"
   ]
  },
  {
   "cell_type": "code",
   "execution_count": 5,
   "metadata": {},
   "outputs": [],
   "source": [
    "import torch\n",
    "from torchvision.transforms.v2 import Compose, ToImage, ToDtype, Normalize, RandomHorizontalFlip, RandomVerticalFlip, ColorJitter, CenterCrop, RandomGrayscale\n",
    "\n",
    "precomputed_dataset_stats = {'mean': torch.tensor([0.6982, 0.5344, 0.6907]), 'std': torch.tensor([0.2343, 0.2761, 0.2113])}\n",
    "\n",
    "# Set the training set image transformation pipeline\n",
    "train_transform_pipeline = Compose([ToImage(),\n",
    "                                    ToDtype(torch.float32, scale=True),\n",
    "                                    CenterCrop(42),\n",
    "                                    RandomHorizontalFlip(),\n",
    "                                    RandomVerticalFlip(),\n",
    "                                    RandomGrayscale(),\n",
    "                                    ColorJitter(brightness=0.1, contrast=0.1, saturation=0.1, hue=0.1),\n",
    "                                    Normalize(precomputed_dataset_stats[\"mean\"],\n",
    "                                              precomputed_dataset_stats[\"std\"])])"
   ]
  },
  {
   "cell_type": "markdown",
   "metadata": {},
   "source": [
    "## <a id=\"sec_4\">4. Create the Model for the Pretext Task</a>"
   ]
  },
  {
   "cell_type": "markdown",
   "metadata": {},
   "source": [
    "### 4.1 Backbone and Projection Head Generation\n",
    "\n",
    "We will use a modified version of the ResNet18 model as the backbone. \n",
    "Specifically, we replace its final fully connected (fc) layer with an identity layer—`torch.nn.Identity()`—which effectively removes any operation at that stage, allowing us to extract raw feature representations.\n",
    "\n",
    "The `generate_backbone()` function handles this process: it instantiates a ResNet18 model, replaces its fully connected layer with an identity layer, and returns the modified model.\n",
    "\n",
    "In the following code block, we instantiate the backbone and display its architecture using the summary() function from the torchinfo package."
   ]
  },
  {
   "cell_type": "code",
   "execution_count": 6,
   "metadata": {},
   "outputs": [
    {
     "data": {
      "text/plain": [
       "=============================================================================================================================\n",
       "Layer (type (var_name))                       Input Shape          Output Shape         Param #              Trainable\n",
       "=============================================================================================================================\n",
       "DenseNet (DenseNet)                           [256, 3, 42, 42]     [256, 1920]          --                   True\n",
       "├─Sequential (features)                       [256, 3, 42, 42]     [256, 1920, 1, 1]    --                   True\n",
       "│    └─Conv2d (conv0)                         [256, 3, 42, 42]     [256, 64, 21, 21]    9,408                True\n",
       "│    └─BatchNorm2d (norm0)                    [256, 64, 21, 21]    [256, 64, 21, 21]    128                  True\n",
       "│    └─ReLU (relu0)                           [256, 64, 21, 21]    [256, 64, 21, 21]    --                   --\n",
       "│    └─MaxPool2d (pool0)                      [256, 64, 21, 21]    [256, 64, 11, 11]    --                   --\n",
       "│    └─_DenseBlock (denseblock1)              [256, 64, 11, 11]    [256, 256, 11, 11]   --                   True\n",
       "│    │    └─_DenseLayer (denselayer1)         [256, 64, 11, 11]    [256, 32, 11, 11]    45,440               True\n",
       "│    │    └─_DenseLayer (denselayer2)         [256, 64, 11, 11]    [256, 32, 11, 11]    49,600               True\n",
       "│    │    └─_DenseLayer (denselayer3)         [256, 64, 11, 11]    [256, 32, 11, 11]    53,760               True\n",
       "│    │    └─_DenseLayer (denselayer4)         [256, 64, 11, 11]    [256, 32, 11, 11]    57,920               True\n",
       "│    │    └─_DenseLayer (denselayer5)         [256, 64, 11, 11]    [256, 32, 11, 11]    62,080               True\n",
       "│    │    └─_DenseLayer (denselayer6)         [256, 64, 11, 11]    [256, 32, 11, 11]    66,240               True\n",
       "│    └─_Transition (transition1)              [256, 256, 11, 11]   [256, 128, 5, 5]     --                   True\n",
       "│    │    └─BatchNorm2d (norm)                [256, 256, 11, 11]   [256, 256, 11, 11]   512                  True\n",
       "│    │    └─ReLU (relu)                       [256, 256, 11, 11]   [256, 256, 11, 11]   --                   --\n",
       "│    │    └─Conv2d (conv)                     [256, 256, 11, 11]   [256, 128, 11, 11]   32,768               True\n",
       "│    │    └─AvgPool2d (pool)                  [256, 128, 11, 11]   [256, 128, 5, 5]     --                   --\n",
       "│    └─_DenseBlock (denseblock2)              [256, 128, 5, 5]     [256, 512, 5, 5]     --                   True\n",
       "│    │    └─_DenseLayer (denselayer1)         [256, 128, 5, 5]     [256, 32, 5, 5]      53,760               True\n",
       "│    │    └─_DenseLayer (denselayer2)         [256, 128, 5, 5]     [256, 32, 5, 5]      57,920               True\n",
       "│    │    └─_DenseLayer (denselayer3)         [256, 128, 5, 5]     [256, 32, 5, 5]      62,080               True\n",
       "│    │    └─_DenseLayer (denselayer4)         [256, 128, 5, 5]     [256, 32, 5, 5]      66,240               True\n",
       "│    │    └─_DenseLayer (denselayer5)         [256, 128, 5, 5]     [256, 32, 5, 5]      70,400               True\n",
       "│    │    └─_DenseLayer (denselayer6)         [256, 128, 5, 5]     [256, 32, 5, 5]      74,560               True\n",
       "│    │    └─_DenseLayer (denselayer7)         [256, 128, 5, 5]     [256, 32, 5, 5]      78,720               True\n",
       "│    │    └─_DenseLayer (denselayer8)         [256, 128, 5, 5]     [256, 32, 5, 5]      82,880               True\n",
       "│    │    └─_DenseLayer (denselayer9)         [256, 128, 5, 5]     [256, 32, 5, 5]      87,040               True\n",
       "│    │    └─_DenseLayer (denselayer10)        [256, 128, 5, 5]     [256, 32, 5, 5]      91,200               True\n",
       "│    │    └─_DenseLayer (denselayer11)        [256, 128, 5, 5]     [256, 32, 5, 5]      95,360               True\n",
       "│    │    └─_DenseLayer (denselayer12)        [256, 128, 5, 5]     [256, 32, 5, 5]      99,520               True\n",
       "│    └─_Transition (transition2)              [256, 512, 5, 5]     [256, 256, 2, 2]     --                   True\n",
       "│    │    └─BatchNorm2d (norm)                [256, 512, 5, 5]     [256, 512, 5, 5]     1,024                True\n",
       "│    │    └─ReLU (relu)                       [256, 512, 5, 5]     [256, 512, 5, 5]     --                   --\n",
       "│    │    └─Conv2d (conv)                     [256, 512, 5, 5]     [256, 256, 5, 5]     131,072              True\n",
       "│    │    └─AvgPool2d (pool)                  [256, 256, 5, 5]     [256, 256, 2, 2]     --                   --\n",
       "│    └─_DenseBlock (denseblock3)              [256, 256, 2, 2]     [256, 1792, 2, 2]    --                   True\n",
       "│    │    └─_DenseLayer (denselayer1)         [256, 256, 2, 2]     [256, 32, 2, 2]      70,400               True\n",
       "│    │    └─_DenseLayer (denselayer2)         [256, 256, 2, 2]     [256, 32, 2, 2]      74,560               True\n",
       "│    │    └─_DenseLayer (denselayer3)         [256, 256, 2, 2]     [256, 32, 2, 2]      78,720               True\n",
       "│    │    └─_DenseLayer (denselayer4)         [256, 256, 2, 2]     [256, 32, 2, 2]      82,880               True\n",
       "│    │    └─_DenseLayer (denselayer5)         [256, 256, 2, 2]     [256, 32, 2, 2]      87,040               True\n",
       "│    │    └─_DenseLayer (denselayer6)         [256, 256, 2, 2]     [256, 32, 2, 2]      91,200               True\n",
       "│    │    └─_DenseLayer (denselayer7)         [256, 256, 2, 2]     [256, 32, 2, 2]      95,360               True\n",
       "│    │    └─_DenseLayer (denselayer8)         [256, 256, 2, 2]     [256, 32, 2, 2]      99,520               True\n",
       "│    │    └─_DenseLayer (denselayer9)         [256, 256, 2, 2]     [256, 32, 2, 2]      103,680              True\n",
       "│    │    └─_DenseLayer (denselayer10)        [256, 256, 2, 2]     [256, 32, 2, 2]      107,840              True\n",
       "│    │    └─_DenseLayer (denselayer11)        [256, 256, 2, 2]     [256, 32, 2, 2]      112,000              True\n",
       "│    │    └─_DenseLayer (denselayer12)        [256, 256, 2, 2]     [256, 32, 2, 2]      116,160              True\n",
       "│    │    └─_DenseLayer (denselayer13)        [256, 256, 2, 2]     [256, 32, 2, 2]      120,320              True\n",
       "│    │    └─_DenseLayer (denselayer14)        [256, 256, 2, 2]     [256, 32, 2, 2]      124,480              True\n",
       "│    │    └─_DenseLayer (denselayer15)        [256, 256, 2, 2]     [256, 32, 2, 2]      128,640              True\n",
       "│    │    └─_DenseLayer (denselayer16)        [256, 256, 2, 2]     [256, 32, 2, 2]      132,800              True\n",
       "│    │    └─_DenseLayer (denselayer17)        [256, 256, 2, 2]     [256, 32, 2, 2]      136,960              True\n",
       "│    │    └─_DenseLayer (denselayer18)        [256, 256, 2, 2]     [256, 32, 2, 2]      141,120              True\n",
       "│    │    └─_DenseLayer (denselayer19)        [256, 256, 2, 2]     [256, 32, 2, 2]      145,280              True\n",
       "│    │    └─_DenseLayer (denselayer20)        [256, 256, 2, 2]     [256, 32, 2, 2]      149,440              True\n",
       "│    │    └─_DenseLayer (denselayer21)        [256, 256, 2, 2]     [256, 32, 2, 2]      153,600              True\n",
       "│    │    └─_DenseLayer (denselayer22)        [256, 256, 2, 2]     [256, 32, 2, 2]      157,760              True\n",
       "│    │    └─_DenseLayer (denselayer23)        [256, 256, 2, 2]     [256, 32, 2, 2]      161,920              True\n",
       "│    │    └─_DenseLayer (denselayer24)        [256, 256, 2, 2]     [256, 32, 2, 2]      166,080              True\n",
       "│    │    └─_DenseLayer (denselayer25)        [256, 256, 2, 2]     [256, 32, 2, 2]      170,240              True\n",
       "│    │    └─_DenseLayer (denselayer26)        [256, 256, 2, 2]     [256, 32, 2, 2]      174,400              True\n",
       "│    │    └─_DenseLayer (denselayer27)        [256, 256, 2, 2]     [256, 32, 2, 2]      178,560              True\n",
       "│    │    └─_DenseLayer (denselayer28)        [256, 256, 2, 2]     [256, 32, 2, 2]      182,720              True\n",
       "│    │    └─_DenseLayer (denselayer29)        [256, 256, 2, 2]     [256, 32, 2, 2]      186,880              True\n",
       "│    │    └─_DenseLayer (denselayer30)        [256, 256, 2, 2]     [256, 32, 2, 2]      191,040              True\n",
       "│    │    └─_DenseLayer (denselayer31)        [256, 256, 2, 2]     [256, 32, 2, 2]      195,200              True\n",
       "│    │    └─_DenseLayer (denselayer32)        [256, 256, 2, 2]     [256, 32, 2, 2]      199,360              True\n",
       "│    │    └─_DenseLayer (denselayer33)        [256, 256, 2, 2]     [256, 32, 2, 2]      203,520              True\n",
       "│    │    └─_DenseLayer (denselayer34)        [256, 256, 2, 2]     [256, 32, 2, 2]      207,680              True\n",
       "│    │    └─_DenseLayer (denselayer35)        [256, 256, 2, 2]     [256, 32, 2, 2]      211,840              True\n",
       "│    │    └─_DenseLayer (denselayer36)        [256, 256, 2, 2]     [256, 32, 2, 2]      216,000              True\n",
       "│    │    └─_DenseLayer (denselayer37)        [256, 256, 2, 2]     [256, 32, 2, 2]      220,160              True\n",
       "│    │    └─_DenseLayer (denselayer38)        [256, 256, 2, 2]     [256, 32, 2, 2]      224,320              True\n",
       "│    │    └─_DenseLayer (denselayer39)        [256, 256, 2, 2]     [256, 32, 2, 2]      228,480              True\n",
       "│    │    └─_DenseLayer (denselayer40)        [256, 256, 2, 2]     [256, 32, 2, 2]      232,640              True\n",
       "│    │    └─_DenseLayer (denselayer41)        [256, 256, 2, 2]     [256, 32, 2, 2]      236,800              True\n",
       "│    │    └─_DenseLayer (denselayer42)        [256, 256, 2, 2]     [256, 32, 2, 2]      240,960              True\n",
       "│    │    └─_DenseLayer (denselayer43)        [256, 256, 2, 2]     [256, 32, 2, 2]      245,120              True\n",
       "│    │    └─_DenseLayer (denselayer44)        [256, 256, 2, 2]     [256, 32, 2, 2]      249,280              True\n",
       "│    │    └─_DenseLayer (denselayer45)        [256, 256, 2, 2]     [256, 32, 2, 2]      253,440              True\n",
       "│    │    └─_DenseLayer (denselayer46)        [256, 256, 2, 2]     [256, 32, 2, 2]      257,600              True\n",
       "│    │    └─_DenseLayer (denselayer47)        [256, 256, 2, 2]     [256, 32, 2, 2]      261,760              True\n",
       "│    │    └─_DenseLayer (denselayer48)        [256, 256, 2, 2]     [256, 32, 2, 2]      265,920              True\n",
       "│    └─_Transition (transition3)              [256, 1792, 2, 2]    [256, 896, 1, 1]     --                   True\n",
       "│    │    └─BatchNorm2d (norm)                [256, 1792, 2, 2]    [256, 1792, 2, 2]    3,584                True\n",
       "│    │    └─ReLU (relu)                       [256, 1792, 2, 2]    [256, 1792, 2, 2]    --                   --\n",
       "│    │    └─Conv2d (conv)                     [256, 1792, 2, 2]    [256, 896, 2, 2]     1,605,632            True\n",
       "│    │    └─AvgPool2d (pool)                  [256, 896, 2, 2]     [256, 896, 1, 1]     --                   --\n",
       "│    └─_DenseBlock (denseblock4)              [256, 896, 1, 1]     [256, 1920, 1, 1]    --                   True\n",
       "│    │    └─_DenseLayer (denselayer1)         [256, 896, 1, 1]     [256, 32, 1, 1]      153,600              True\n",
       "│    │    └─_DenseLayer (denselayer2)         [256, 896, 1, 1]     [256, 32, 1, 1]      157,760              True\n",
       "│    │    └─_DenseLayer (denselayer3)         [256, 896, 1, 1]     [256, 32, 1, 1]      161,920              True\n",
       "│    │    └─_DenseLayer (denselayer4)         [256, 896, 1, 1]     [256, 32, 1, 1]      166,080              True\n",
       "│    │    └─_DenseLayer (denselayer5)         [256, 896, 1, 1]     [256, 32, 1, 1]      170,240              True\n",
       "│    │    └─_DenseLayer (denselayer6)         [256, 896, 1, 1]     [256, 32, 1, 1]      174,400              True\n",
       "│    │    └─_DenseLayer (denselayer7)         [256, 896, 1, 1]     [256, 32, 1, 1]      178,560              True\n",
       "│    │    └─_DenseLayer (denselayer8)         [256, 896, 1, 1]     [256, 32, 1, 1]      182,720              True\n",
       "│    │    └─_DenseLayer (denselayer9)         [256, 896, 1, 1]     [256, 32, 1, 1]      186,880              True\n",
       "│    │    └─_DenseLayer (denselayer10)        [256, 896, 1, 1]     [256, 32, 1, 1]      191,040              True\n",
       "│    │    └─_DenseLayer (denselayer11)        [256, 896, 1, 1]     [256, 32, 1, 1]      195,200              True\n",
       "│    │    └─_DenseLayer (denselayer12)        [256, 896, 1, 1]     [256, 32, 1, 1]      199,360              True\n",
       "│    │    └─_DenseLayer (denselayer13)        [256, 896, 1, 1]     [256, 32, 1, 1]      203,520              True\n",
       "│    │    └─_DenseLayer (denselayer14)        [256, 896, 1, 1]     [256, 32, 1, 1]      207,680              True\n",
       "│    │    └─_DenseLayer (denselayer15)        [256, 896, 1, 1]     [256, 32, 1, 1]      211,840              True\n",
       "│    │    └─_DenseLayer (denselayer16)        [256, 896, 1, 1]     [256, 32, 1, 1]      216,000              True\n",
       "│    │    └─_DenseLayer (denselayer17)        [256, 896, 1, 1]     [256, 32, 1, 1]      220,160              True\n",
       "│    │    └─_DenseLayer (denselayer18)        [256, 896, 1, 1]     [256, 32, 1, 1]      224,320              True\n",
       "│    │    └─_DenseLayer (denselayer19)        [256, 896, 1, 1]     [256, 32, 1, 1]      228,480              True\n",
       "│    │    └─_DenseLayer (denselayer20)        [256, 896, 1, 1]     [256, 32, 1, 1]      232,640              True\n",
       "│    │    └─_DenseLayer (denselayer21)        [256, 896, 1, 1]     [256, 32, 1, 1]      236,800              True\n",
       "│    │    └─_DenseLayer (denselayer22)        [256, 896, 1, 1]     [256, 32, 1, 1]      240,960              True\n",
       "│    │    └─_DenseLayer (denselayer23)        [256, 896, 1, 1]     [256, 32, 1, 1]      245,120              True\n",
       "│    │    └─_DenseLayer (denselayer24)        [256, 896, 1, 1]     [256, 32, 1, 1]      249,280              True\n",
       "│    │    └─_DenseLayer (denselayer25)        [256, 896, 1, 1]     [256, 32, 1, 1]      253,440              True\n",
       "│    │    └─_DenseLayer (denselayer26)        [256, 896, 1, 1]     [256, 32, 1, 1]      257,600              True\n",
       "│    │    └─_DenseLayer (denselayer27)        [256, 896, 1, 1]     [256, 32, 1, 1]      261,760              True\n",
       "│    │    └─_DenseLayer (denselayer28)        [256, 896, 1, 1]     [256, 32, 1, 1]      265,920              True\n",
       "│    │    └─_DenseLayer (denselayer29)        [256, 896, 1, 1]     [256, 32, 1, 1]      270,080              True\n",
       "│    │    └─_DenseLayer (denselayer30)        [256, 896, 1, 1]     [256, 32, 1, 1]      274,240              True\n",
       "│    │    └─_DenseLayer (denselayer31)        [256, 896, 1, 1]     [256, 32, 1, 1]      278,400              True\n",
       "│    │    └─_DenseLayer (denselayer32)        [256, 896, 1, 1]     [256, 32, 1, 1]      282,560              True\n",
       "│    └─BatchNorm2d (norm5)                    [256, 1920, 1, 1]    [256, 1920, 1, 1]    3,840                True\n",
       "├─Identity (classifier)                       [256, 1920]          [256, 1920]          --                   --\n",
       "=============================================================================================================================\n",
       "Total params: 18,092,928\n",
       "Trainable params: 18,092,928\n",
       "Non-trainable params: 0\n",
       "Total mult-adds (G): 30.63\n",
       "=============================================================================================================================\n",
       "Input size (MB): 5.42\n",
       "Forward/backward pass size (MB): 1901.79\n",
       "Params size (MB): 72.37\n",
       "Estimated Total Size (MB): 1979.58\n",
       "============================================================================================================================="
      ]
     },
     "execution_count": 6,
     "metadata": {},
     "output_type": "execute_result"
    }
   ],
   "source": [
    "from pcam.backbone import generate_backbone\n",
    "from torchinfo import summary\n",
    "\n",
    "# Generate the backbone and check its structure\n",
    "backbone = generate_backbone()\n",
    "summary(backbone,\n",
    "        input_size=(DL_BATCH_SIZE, 3, 42, 42), # input data shape (N x C x H x W)\n",
    "        col_names=[\"input_size\", \"output_size\", \"num_params\", \"trainable\"],\n",
    "        col_width=20,\n",
    "        row_settings=[\"var_names\"]\n",
    ")"
   ]
  },
  {
   "cell_type": "code",
   "execution_count": 7,
   "metadata": {},
   "outputs": [],
   "source": [
    "class Projector(torch.nn.Module):\n",
    "   def __init__(self, dim):\n",
    "      super().__init__()\n",
    "      \n",
    "      self.network = torch.nn.Sequential(\n",
    "         torch.nn.Conv2d(3, 8, kernel_size=3, padding=1),\n",
    "         torch.nn.ReLU(),\n",
    "         torch.nn.Conv2d(8, 16, kernel_size=3, stride=1, padding=1),\n",
    "         torch.nn.ReLU(),\n",
    "         torch.nn.MaxPool2d(2, 2),\n",
    "\n",
    "         torch.nn.Conv2d(16, 32, kernel_size=3, stride=1, padding=1),\n",
    "         torch.nn.ReLU(),\n",
    "         torch.nn.Conv2d(32, 32, kernel_size=3, stride=1, padding=1),\n",
    "         torch.nn.ReLU(),\n",
    "         torch.nn.MaxPool2d(2, 2),\n",
    "\n",
    "         torch.nn.Flatten(), \n",
    "         torch.nn.Linear(3200, dim)\n",
    "      )\n",
    "\n",
    "   def forward(self, x):\n",
    "      return self.network(x)"
   ]
  },
  {
   "cell_type": "code",
   "execution_count": 8,
   "metadata": {},
   "outputs": [],
   "source": [
    "class Predictor(torch.nn.Module):\n",
    "    def __init__(self, in_features, hidden_dim, out_features):\n",
    "        super().__init__()\n",
    "        self.sequential = torch.nn.Sequential(\n",
    "            torch.nn.Linear(in_features, hidden_dim, bias=False),\n",
    "            torch.nn.BatchNorm1d(hidden_dim),\n",
    "            torch.nn.ReLU(inplace=True),\n",
    "            torch.nn.Linear(hidden_dim, out_features)\n",
    "        )\n",
    "\n",
    "    def forward(self, X):\n",
    "        return self.sequential(X)"
   ]
  },
  {
   "cell_type": "code",
   "execution_count": null,
   "metadata": {},
   "outputs": [],
   "source": [
    "from minerva.models.ssl.lfr import RepeatedModuleList\n",
    "from pcam.projectors import create_targets\n",
    "\n",
    "projectors = create_targets(lambda: Projector(2048), N_PROJECTORS, datamodule)\n",
    "predictors = RepeatedModuleList(len(projectors), Predictor, 1920, 256, 2048)"
   ]
  },
  {
   "cell_type": "code",
   "execution_count": 10,
   "metadata": {},
   "outputs": [],
   "source": [
    "from pcam.lfr import LFRModel\n",
    "\n",
    "backbone  = generate_backbone()\n",
    "model = LFRModel(\n",
    "    backbone=backbone, \n",
    "    projectors=projectors,\n",
    "    predictors=predictors,\n",
    "    predictor_epochs=PREDICTOR_EPOCHS,\n",
    "    lr=LEARNING_RATE\n",
    ")"
   ]
  },
  {
   "cell_type": "markdown",
   "metadata": {},
   "source": [
    "### 5.2 Create the Downstream Benchmark"
   ]
  },
  {
   "cell_type": "code",
   "execution_count": 12,
   "metadata": {},
   "outputs": [],
   "source": [
    "from pcam.benchmark import SGDBenchmark\n",
    "downstream_benchmark = SGDBenchmark(datamodule=datamodule, backbone=backbone, train_samples=DL_TRAIN_SAMPLES_PER_CLASS, predictor_epochs=PREDICTOR_EPOCHS)"
   ]
  },
  {
   "cell_type": "markdown",
   "metadata": {},
   "source": [
    "## <a id=\"sec_6\">6. Training the model</a>"
   ]
  },
  {
   "cell_type": "code",
   "execution_count": 21,
   "metadata": {},
   "outputs": [
    {
     "name": "stderr",
     "output_type": "stream",
     "text": [
      "GPU available: True (cuda), used: True\n",
      "TPU available: False, using: 0 TPU cores\n",
      "HPU available: False, using: 0 HPUs\n"
     ]
    }
   ],
   "source": [
    "from lightning import Trainer\n",
    "from lightning.pytorch.callbacks import ModelCheckpoint, LearningRateMonitor\n",
    "from lightning.pytorch.loggers import TensorBoardLogger, CSVLogger\n",
    "\n",
    "log_ckpt_dir=f\"logs/PCam/Pretext\"\n",
    "\n",
    "checkpoint_callback = ModelCheckpoint(dirpath=f\"{log_ckpt_dir}/checkpoints\", save_weights_only=True, mode='min', monitor='val_loss', save_last=\"link\")\n",
    "trainer = Trainer(max_epochs=n_epochs,\n",
    "                  log_every_n_steps=5,\n",
    "                  benchmark=True,\n",
    "                  callbacks=[checkpoint_callback, \n",
    "                             ModelCheckpoint(dirpath=f\"{log_ckpt_dir}/checkpoints\", save_weights_only=True, every_n_epochs=4, save_top_k=-1),\n",
    "                             LearningRateMonitor(\"epoch\"), \n",
    "                             downstream_benchmark],\n",
    "                  logger = [TensorBoardLogger(save_dir=log_ckpt_dir, name=f\"LFR-DenseNet201\"),\n",
    "                            CSVLogger(save_dir=log_ckpt_dir, name=f\"LFR-DenseNet201\")])"
   ]
  },
  {
   "cell_type": "code",
   "execution_count": null,
   "metadata": {},
   "outputs": [],
   "source": [
    "trainer.fit(model, train_dataloaders=datamodule.train_dataloader(samples_per_class=DL_TRAIN_SAMPLES_PER_CLASS, transform=train_transform_pipeline), val_dataloaders=datamodule.val_dataloader())"
   ]
  },
  {
   "cell_type": "code",
   "execution_count": 27,
   "metadata": {},
   "outputs": [
    {
     "name": "stdout",
     "output_type": "stream",
     "text": [
      "Loading best model from /home/igor/Desktop/mo810/course-work/logs/PCam/Pretext/checkpoints/epoch=81-step=168000.ckpt\n"
     ]
    }
   ],
   "source": [
    "print(f\"Loading best model from {checkpoint_callback.best_model_path}\")\n",
    "best_model = LFRModel.load_from_checkpoint(checkpoint_callback.best_model_path, backbone=backbone, predictors=predictors, projectors=projectors, predictor_epochs=PREDICTOR_EPOCHS, lr=LEARNING_RATE)\n",
    "torch.save(model.backbone.state_dict(), f\"{log_ckpt_dir}/checkpoints/backbone.ckpt\")"
   ]
  }
 ],
 "metadata": {
  "kernelspec": {
   "display_name": ".venv",
   "language": "python",
   "name": "python3"
  },
  "language_info": {
   "codemirror_mode": {
    "name": "ipython",
    "version": 3
   },
   "file_extension": ".py",
   "mimetype": "text/x-python",
   "name": "python",
   "nbconvert_exporter": "python",
   "pygments_lexer": "ipython3",
   "version": "3.10.12"
  }
 },
 "nbformat": 4,
 "nbformat_minor": 2
}
